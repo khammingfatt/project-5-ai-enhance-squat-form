{
 "cells": [
  {
   "cell_type": "markdown",
   "id": "fd559ee2",
   "metadata": {},
   "source": [
    "## Background"
   ]
  },
  {
   "cell_type": "markdown",
   "id": "7ad1eb80",
   "metadata": {},
   "source": [
    "![Image Alt Text](images/straits_times.jpg)"
   ]
  },
  {
   "cell_type": "markdown",
   "id": "9ce943e0",
   "metadata": {},
   "source": [
    "The **Sit to Stand Test** serves as an assessment tool for evaluating leg strength and endurance among older adults. It is an integral component of the Fullerton Functional Fitness Test Battery. The development of this test aimed to address the floor effect encountered in the five or ten repetition sit to stand test when applied to older adults."
   ]
  },
  {
   "cell_type": "markdown",
   "id": "b0a38bf6",
   "metadata": {},
   "source": [
    "![Image Alt Text](images/sit-stand-test.jpg)"
   ]
  },
  {
   "cell_type": "markdown",
   "id": "40d30901",
   "metadata": {},
   "source": [
    "The muscle groups engaged during both the sit to stand test and squats exhibit **considerable similarity, encompassing the legs, thighs, and back muscles**. "
   ]
  },
  {
   "cell_type": "markdown",
   "id": "3f595cd2",
   "metadata": {},
   "source": [
    "![Image Alt Text](images/muscle-group.jpg)"
   ]
  },
  {
   "cell_type": "markdown",
   "id": "a33a5a6d",
   "metadata": {},
   "source": [
    "**Engaging in squat training can significantly enhance performance in the sit-and-stand test, thereby contributing to individuals' overall longevity and well-being.**"
   ]
  },
  {
   "cell_type": "markdown",
   "id": "4fcdd030",
   "metadata": {},
   "source": [
    "**Different Approaches to Learn Squats**\n",
    "\n",
    "1. **Personalized Training with a Trainer** - In most cases, a personal trainer tailors a customized training program for the individual, but their fees are usually high.\n",
    "<br>\n",
    "\n",
    "2. **Learning through Online Video Demonstrations** - Online video demonstrations are readily available and free of cost, but they lack the capability to provide personalized feedback.\n",
    "<br>\n",
    "\n",
    "3. **Fitness Applications** - Free fitness apps available in the market often offer general self-management strategies, which can be beneficial. On the other hand, paid apps might include joint detection features but typically require a gym membership and additional fees for their services. Additionally, these apps lack specialized feedback mechanisms for squatting exercises.\n"
   ]
  },
  {
   "cell_type": "markdown",
   "id": "95ca2cc1",
   "metadata": {},
   "source": [
    "## Problem Statement"
   ]
  },
  {
   "cell_type": "markdown",
   "id": "3f0a09da",
   "metadata": {},
   "source": [
    "The project aims to empower individuals to improve their health and fitness by offering an AI option to \n",
    "\n",
    "### (i) perform correct squats independently without an exercise coach;\n",
    "\n",
    "### (ii) assess their squat performance;\n",
    "\n",
    "### (iii) enhance their squat performance by using AI to provide prescriptive feedback to the squat form.\n"
   ]
  },
  {
   "cell_type": "markdown",
   "id": "de9cde72",
   "metadata": {},
   "source": [
    "## Import Libraries and Modules"
   ]
  },
  {
   "cell_type": "code",
   "execution_count": 22,
   "id": "f793d76c",
   "metadata": {},
   "outputs": [],
   "source": [
    "import numpy as np\n",
    "import pandas as pd\n",
    "import pickle\n",
    "\n",
    "import matplotlib.pyplot as plt\n",
    "import seaborn as sns\n",
    "\n",
    "from sklearn import preprocessing, ensemble, metrics, feature_selection, model_selection\n",
    "from sklearn.model_selection import train_test_split, GridSearchCV, cross_val_score\n",
    "from sklearn.pipeline import Pipeline\n",
    "from sklearn.preprocessing import LabelEncoder, StandardScaler\n",
    "\n",
    "from sklearn.tree import DecisionTreeClassifier\n",
    "from sklearn.linear_model import LogisticRegression, RidgeClassifier\n",
    "from sklearn.ensemble import RandomForestClassifier, GradientBoostingClassifier, AdaBoostClassifier\n",
    "\n",
    "from sklearn.metrics import confusion_matrix, recall_score, precision_score, classification_report, accuracy_score, roc_curve, roc_auc_score, RocCurveDisplay, f1_score"
   ]
  },
  {
   "cell_type": "markdown",
   "id": "bee1638c",
   "metadata": {},
   "source": [
    "## Contents:\n",
    "- [Data Import](#Data-Import)\n",
    "- [Manual Modeling](#Manual-Modeling)\n",
    "- [Modeling and Hyperparameters Tuning](#Modeling-and-Hyperparameters-Tuning)\n",
    "- [Model Evaluation](#Model-Evaluation)\n"
   ]
  },
  {
   "cell_type": "markdown",
   "id": "74da9a87",
   "metadata": {},
   "source": [
    "## Data Import"
   ]
  },
  {
   "cell_type": "code",
   "execution_count": 23,
   "id": "4b07e288",
   "metadata": {},
   "outputs": [
    {
     "data": {
      "text/html": [
       "<div>\n",
       "<style scoped>\n",
       "    .dataframe tbody tr th:only-of-type {\n",
       "        vertical-align: middle;\n",
       "    }\n",
       "\n",
       "    .dataframe tbody tr th {\n",
       "        vertical-align: top;\n",
       "    }\n",
       "\n",
       "    .dataframe thead th {\n",
       "        text-align: right;\n",
       "    }\n",
       "</style>\n",
       "<table border=\"1\" class=\"dataframe\">\n",
       "  <thead>\n",
       "    <tr style=\"text-align: right;\">\n",
       "      <th></th>\n",
       "      <th>class</th>\n",
       "      <th>x1</th>\n",
       "      <th>y1</th>\n",
       "      <th>z1</th>\n",
       "      <th>v1</th>\n",
       "      <th>x2</th>\n",
       "      <th>y2</th>\n",
       "      <th>z2</th>\n",
       "      <th>v2</th>\n",
       "      <th>x3</th>\n",
       "      <th>...</th>\n",
       "      <th>z31</th>\n",
       "      <th>v31</th>\n",
       "      <th>x32</th>\n",
       "      <th>y32</th>\n",
       "      <th>z32</th>\n",
       "      <th>v32</th>\n",
       "      <th>x33</th>\n",
       "      <th>y33</th>\n",
       "      <th>z33</th>\n",
       "      <th>v33</th>\n",
       "    </tr>\n",
       "  </thead>\n",
       "  <tbody>\n",
       "    <tr>\n",
       "      <th>0</th>\n",
       "      <td>Rest</td>\n",
       "      <td>0.429787</td>\n",
       "      <td>0.124724</td>\n",
       "      <td>-0.288868</td>\n",
       "      <td>0.999871</td>\n",
       "      <td>0.439223</td>\n",
       "      <td>0.105139</td>\n",
       "      <td>-0.294509</td>\n",
       "      <td>0.999860</td>\n",
       "      <td>0.444510</td>\n",
       "      <td>...</td>\n",
       "      <td>0.345616</td>\n",
       "      <td>0.529908</td>\n",
       "      <td>0.421035</td>\n",
       "      <td>0.920161</td>\n",
       "      <td>-0.068212</td>\n",
       "      <td>0.890566</td>\n",
       "      <td>0.425664</td>\n",
       "      <td>0.896875</td>\n",
       "      <td>0.259089</td>\n",
       "      <td>0.557966</td>\n",
       "    </tr>\n",
       "    <tr>\n",
       "      <th>1</th>\n",
       "      <td>Rest</td>\n",
       "      <td>0.429987</td>\n",
       "      <td>0.124991</td>\n",
       "      <td>-0.259555</td>\n",
       "      <td>0.999874</td>\n",
       "      <td>0.439233</td>\n",
       "      <td>0.105773</td>\n",
       "      <td>-0.269675</td>\n",
       "      <td>0.999863</td>\n",
       "      <td>0.444493</td>\n",
       "      <td>...</td>\n",
       "      <td>0.337917</td>\n",
       "      <td>0.527592</td>\n",
       "      <td>0.420221</td>\n",
       "      <td>0.921053</td>\n",
       "      <td>-0.073450</td>\n",
       "      <td>0.891321</td>\n",
       "      <td>0.425892</td>\n",
       "      <td>0.897638</td>\n",
       "      <td>0.257494</td>\n",
       "      <td>0.556362</td>\n",
       "    </tr>\n",
       "    <tr>\n",
       "      <th>2</th>\n",
       "      <td>Rest</td>\n",
       "      <td>0.430823</td>\n",
       "      <td>0.125169</td>\n",
       "      <td>-0.263092</td>\n",
       "      <td>0.999880</td>\n",
       "      <td>0.439768</td>\n",
       "      <td>0.106144</td>\n",
       "      <td>-0.272165</td>\n",
       "      <td>0.999869</td>\n",
       "      <td>0.444812</td>\n",
       "      <td>...</td>\n",
       "      <td>0.333816</td>\n",
       "      <td>0.528580</td>\n",
       "      <td>0.419921</td>\n",
       "      <td>0.921928</td>\n",
       "      <td>-0.090104</td>\n",
       "      <td>0.894069</td>\n",
       "      <td>0.425914</td>\n",
       "      <td>0.898530</td>\n",
       "      <td>0.255306</td>\n",
       "      <td>0.560090</td>\n",
       "    </tr>\n",
       "    <tr>\n",
       "      <th>3</th>\n",
       "      <td>Rest</td>\n",
       "      <td>0.431291</td>\n",
       "      <td>0.125154</td>\n",
       "      <td>-0.259533</td>\n",
       "      <td>0.999884</td>\n",
       "      <td>0.440098</td>\n",
       "      <td>0.106258</td>\n",
       "      <td>-0.268748</td>\n",
       "      <td>0.999874</td>\n",
       "      <td>0.445015</td>\n",
       "      <td>...</td>\n",
       "      <td>0.334046</td>\n",
       "      <td>0.524296</td>\n",
       "      <td>0.419030</td>\n",
       "      <td>0.922586</td>\n",
       "      <td>-0.087694</td>\n",
       "      <td>0.893417</td>\n",
       "      <td>0.426566</td>\n",
       "      <td>0.898410</td>\n",
       "      <td>0.255965</td>\n",
       "      <td>0.554980</td>\n",
       "    </tr>\n",
       "    <tr>\n",
       "      <th>4</th>\n",
       "      <td>Rest</td>\n",
       "      <td>0.431531</td>\n",
       "      <td>0.125360</td>\n",
       "      <td>-0.263824</td>\n",
       "      <td>0.999889</td>\n",
       "      <td>0.440243</td>\n",
       "      <td>0.106612</td>\n",
       "      <td>-0.272191</td>\n",
       "      <td>0.999879</td>\n",
       "      <td>0.445120</td>\n",
       "      <td>...</td>\n",
       "      <td>0.321103</td>\n",
       "      <td>0.526335</td>\n",
       "      <td>0.418745</td>\n",
       "      <td>0.923012</td>\n",
       "      <td>-0.108563</td>\n",
       "      <td>0.896314</td>\n",
       "      <td>0.427117</td>\n",
       "      <td>0.898055</td>\n",
       "      <td>0.242768</td>\n",
       "      <td>0.560145</td>\n",
       "    </tr>\n",
       "    <tr>\n",
       "      <th>...</th>\n",
       "      <td>...</td>\n",
       "      <td>...</td>\n",
       "      <td>...</td>\n",
       "      <td>...</td>\n",
       "      <td>...</td>\n",
       "      <td>...</td>\n",
       "      <td>...</td>\n",
       "      <td>...</td>\n",
       "      <td>...</td>\n",
       "      <td>...</td>\n",
       "      <td>...</td>\n",
       "      <td>...</td>\n",
       "      <td>...</td>\n",
       "      <td>...</td>\n",
       "      <td>...</td>\n",
       "      <td>...</td>\n",
       "      <td>...</td>\n",
       "      <td>...</td>\n",
       "      <td>...</td>\n",
       "      <td>...</td>\n",
       "      <td>...</td>\n",
       "    </tr>\n",
       "    <tr>\n",
       "      <th>1749</th>\n",
       "      <td>Down</td>\n",
       "      <td>0.381907</td>\n",
       "      <td>0.352790</td>\n",
       "      <td>-0.198663</td>\n",
       "      <td>0.999415</td>\n",
       "      <td>0.388777</td>\n",
       "      <td>0.334306</td>\n",
       "      <td>-0.209695</td>\n",
       "      <td>0.999503</td>\n",
       "      <td>0.391900</td>\n",
       "      <td>...</td>\n",
       "      <td>0.466239</td>\n",
       "      <td>0.667088</td>\n",
       "      <td>0.413211</td>\n",
       "      <td>0.953542</td>\n",
       "      <td>0.019992</td>\n",
       "      <td>0.935980</td>\n",
       "      <td>0.423534</td>\n",
       "      <td>0.895472</td>\n",
       "      <td>0.499486</td>\n",
       "      <td>0.668292</td>\n",
       "    </tr>\n",
       "    <tr>\n",
       "      <th>1750</th>\n",
       "      <td>Down</td>\n",
       "      <td>0.372577</td>\n",
       "      <td>0.337063</td>\n",
       "      <td>-0.246611</td>\n",
       "      <td>0.999439</td>\n",
       "      <td>0.381172</td>\n",
       "      <td>0.317077</td>\n",
       "      <td>-0.252823</td>\n",
       "      <td>0.999516</td>\n",
       "      <td>0.384929</td>\n",
       "      <td>...</td>\n",
       "      <td>0.473823</td>\n",
       "      <td>0.668156</td>\n",
       "      <td>0.413594</td>\n",
       "      <td>0.953848</td>\n",
       "      <td>0.009141</td>\n",
       "      <td>0.936010</td>\n",
       "      <td>0.424995</td>\n",
       "      <td>0.895885</td>\n",
       "      <td>0.501197</td>\n",
       "      <td>0.667590</td>\n",
       "    </tr>\n",
       "    <tr>\n",
       "      <th>1751</th>\n",
       "      <td>Down</td>\n",
       "      <td>0.361494</td>\n",
       "      <td>0.245609</td>\n",
       "      <td>-0.237643</td>\n",
       "      <td>0.999210</td>\n",
       "      <td>0.369551</td>\n",
       "      <td>0.224374</td>\n",
       "      <td>-0.249927</td>\n",
       "      <td>0.999264</td>\n",
       "      <td>0.373341</td>\n",
       "      <td>...</td>\n",
       "      <td>0.462752</td>\n",
       "      <td>0.668580</td>\n",
       "      <td>0.418668</td>\n",
       "      <td>0.954115</td>\n",
       "      <td>-0.328243</td>\n",
       "      <td>0.941037</td>\n",
       "      <td>0.420748</td>\n",
       "      <td>0.898861</td>\n",
       "      <td>0.457038</td>\n",
       "      <td>0.678164</td>\n",
       "    </tr>\n",
       "    <tr>\n",
       "      <th>1752</th>\n",
       "      <td>Down</td>\n",
       "      <td>0.358109</td>\n",
       "      <td>0.226660</td>\n",
       "      <td>-0.225868</td>\n",
       "      <td>0.999083</td>\n",
       "      <td>0.367077</td>\n",
       "      <td>0.204885</td>\n",
       "      <td>-0.229884</td>\n",
       "      <td>0.999125</td>\n",
       "      <td>0.371720</td>\n",
       "      <td>...</td>\n",
       "      <td>0.396692</td>\n",
       "      <td>0.647497</td>\n",
       "      <td>0.427030</td>\n",
       "      <td>0.965512</td>\n",
       "      <td>-0.459815</td>\n",
       "      <td>0.944509</td>\n",
       "      <td>0.420310</td>\n",
       "      <td>0.869370</td>\n",
       "      <td>0.378737</td>\n",
       "      <td>0.664016</td>\n",
       "    </tr>\n",
       "    <tr>\n",
       "      <th>1753</th>\n",
       "      <td>Down</td>\n",
       "      <td>0.365946</td>\n",
       "      <td>0.086741</td>\n",
       "      <td>-0.575204</td>\n",
       "      <td>0.999174</td>\n",
       "      <td>0.383073</td>\n",
       "      <td>0.068841</td>\n",
       "      <td>-0.563280</td>\n",
       "      <td>0.999212</td>\n",
       "      <td>0.391195</td>\n",
       "      <td>...</td>\n",
       "      <td>0.637900</td>\n",
       "      <td>0.629209</td>\n",
       "      <td>0.513514</td>\n",
       "      <td>1.059067</td>\n",
       "      <td>-0.467647</td>\n",
       "      <td>0.947736</td>\n",
       "      <td>0.423534</td>\n",
       "      <td>0.906758</td>\n",
       "      <td>0.569919</td>\n",
       "      <td>0.657154</td>\n",
       "    </tr>\n",
       "  </tbody>\n",
       "</table>\n",
       "<p>1754 rows × 133 columns</p>\n",
       "</div>"
      ],
      "text/plain": [
       "     class        x1        y1        z1        v1        x2        y2  \\\n",
       "0     Rest  0.429787  0.124724 -0.288868  0.999871  0.439223  0.105139   \n",
       "1     Rest  0.429987  0.124991 -0.259555  0.999874  0.439233  0.105773   \n",
       "2     Rest  0.430823  0.125169 -0.263092  0.999880  0.439768  0.106144   \n",
       "3     Rest  0.431291  0.125154 -0.259533  0.999884  0.440098  0.106258   \n",
       "4     Rest  0.431531  0.125360 -0.263824  0.999889  0.440243  0.106612   \n",
       "...    ...       ...       ...       ...       ...       ...       ...   \n",
       "1749  Down  0.381907  0.352790 -0.198663  0.999415  0.388777  0.334306   \n",
       "1750  Down  0.372577  0.337063 -0.246611  0.999439  0.381172  0.317077   \n",
       "1751  Down  0.361494  0.245609 -0.237643  0.999210  0.369551  0.224374   \n",
       "1752  Down  0.358109  0.226660 -0.225868  0.999083  0.367077  0.204885   \n",
       "1753  Down  0.365946  0.086741 -0.575204  0.999174  0.383073  0.068841   \n",
       "\n",
       "            z2        v2        x3  ...       z31       v31       x32  \\\n",
       "0    -0.294509  0.999860  0.444510  ...  0.345616  0.529908  0.421035   \n",
       "1    -0.269675  0.999863  0.444493  ...  0.337917  0.527592  0.420221   \n",
       "2    -0.272165  0.999869  0.444812  ...  0.333816  0.528580  0.419921   \n",
       "3    -0.268748  0.999874  0.445015  ...  0.334046  0.524296  0.419030   \n",
       "4    -0.272191  0.999879  0.445120  ...  0.321103  0.526335  0.418745   \n",
       "...        ...       ...       ...  ...       ...       ...       ...   \n",
       "1749 -0.209695  0.999503  0.391900  ...  0.466239  0.667088  0.413211   \n",
       "1750 -0.252823  0.999516  0.384929  ...  0.473823  0.668156  0.413594   \n",
       "1751 -0.249927  0.999264  0.373341  ...  0.462752  0.668580  0.418668   \n",
       "1752 -0.229884  0.999125  0.371720  ...  0.396692  0.647497  0.427030   \n",
       "1753 -0.563280  0.999212  0.391195  ...  0.637900  0.629209  0.513514   \n",
       "\n",
       "           y32       z32       v32       x33       y33       z33       v33  \n",
       "0     0.920161 -0.068212  0.890566  0.425664  0.896875  0.259089  0.557966  \n",
       "1     0.921053 -0.073450  0.891321  0.425892  0.897638  0.257494  0.556362  \n",
       "2     0.921928 -0.090104  0.894069  0.425914  0.898530  0.255306  0.560090  \n",
       "3     0.922586 -0.087694  0.893417  0.426566  0.898410  0.255965  0.554980  \n",
       "4     0.923012 -0.108563  0.896314  0.427117  0.898055  0.242768  0.560145  \n",
       "...        ...       ...       ...       ...       ...       ...       ...  \n",
       "1749  0.953542  0.019992  0.935980  0.423534  0.895472  0.499486  0.668292  \n",
       "1750  0.953848  0.009141  0.936010  0.424995  0.895885  0.501197  0.667590  \n",
       "1751  0.954115 -0.328243  0.941037  0.420748  0.898861  0.457038  0.678164  \n",
       "1752  0.965512 -0.459815  0.944509  0.420310  0.869370  0.378737  0.664016  \n",
       "1753  1.059067 -0.467647  0.947736  0.423534  0.906758  0.569919  0.657154  \n",
       "\n",
       "[1754 rows x 133 columns]"
      ]
     },
     "execution_count": 23,
     "metadata": {},
     "output_type": "execute_result"
    }
   ],
   "source": [
    "coordinates_df = pd.read_csv(\"data/coords.csv\")\n",
    "coordinates_df"
   ]
  },
  {
   "cell_type": "markdown",
   "id": "01778773",
   "metadata": {},
   "source": [
    "### (1) Checking for null values"
   ]
  },
  {
   "cell_type": "code",
   "execution_count": 24,
   "id": "42d0580b",
   "metadata": {
    "scrolled": true
   },
   "outputs": [
    {
     "name": "stdout",
     "output_type": "stream",
     "text": [
      "Null Values for Coordinates Data\n"
     ]
    },
    {
     "data": {
      "text/plain": [
       "class    0\n",
       "x1       0\n",
       "y1       0\n",
       "z1       0\n",
       "v1       0\n",
       "x2       0\n",
       "y2       0\n",
       "z2       0\n",
       "v2       0\n",
       "x3       0\n",
       "y3       0\n",
       "z3       0\n",
       "v3       0\n",
       "x4       0\n",
       "y4       0\n",
       "z4       0\n",
       "v4       0\n",
       "x5       0\n",
       "y5       0\n",
       "z5       0\n",
       "v5       0\n",
       "x6       0\n",
       "y6       0\n",
       "z6       0\n",
       "v6       0\n",
       "x7       0\n",
       "y7       0\n",
       "z7       0\n",
       "v7       0\n",
       "x8       0\n",
       "y8       0\n",
       "z8       0\n",
       "v8       0\n",
       "x9       0\n",
       "y9       0\n",
       "z9       0\n",
       "v9       0\n",
       "x10      0\n",
       "y10      0\n",
       "z10      0\n",
       "v10      0\n",
       "x11      0\n",
       "y11      0\n",
       "z11      0\n",
       "v11      0\n",
       "x12      0\n",
       "y12      0\n",
       "z12      0\n",
       "v12      0\n",
       "x13      0\n",
       "y13      0\n",
       "z13      0\n",
       "v13      0\n",
       "x14      0\n",
       "y14      0\n",
       "z14      0\n",
       "v14      0\n",
       "x15      0\n",
       "y15      0\n",
       "z15      0\n",
       "v15      0\n",
       "x16      0\n",
       "y16      0\n",
       "z16      0\n",
       "v16      0\n",
       "x17      0\n",
       "y17      0\n",
       "z17      0\n",
       "v17      0\n",
       "x18      0\n",
       "y18      0\n",
       "z18      0\n",
       "v18      0\n",
       "x19      0\n",
       "y19      0\n",
       "z19      0\n",
       "v19      0\n",
       "x20      0\n",
       "y20      0\n",
       "z20      0\n",
       "v20      0\n",
       "x21      0\n",
       "y21      0\n",
       "z21      0\n",
       "v21      0\n",
       "x22      0\n",
       "y22      0\n",
       "z22      0\n",
       "v22      0\n",
       "x23      0\n",
       "y23      0\n",
       "z23      0\n",
       "v23      0\n",
       "x24      0\n",
       "y24      0\n",
       "z24      0\n",
       "v24      0\n",
       "x25      0\n",
       "y25      0\n",
       "z25      0\n",
       "v25      0\n",
       "x26      0\n",
       "y26      0\n",
       "z26      0\n",
       "v26      0\n",
       "x27      0\n",
       "y27      0\n",
       "z27      0\n",
       "v27      0\n",
       "x28      0\n",
       "y28      0\n",
       "z28      0\n",
       "v28      0\n",
       "x29      0\n",
       "y29      0\n",
       "z29      0\n",
       "v29      0\n",
       "x30      0\n",
       "y30      0\n",
       "z30      0\n",
       "v30      0\n",
       "x31      0\n",
       "y31      0\n",
       "z31      0\n",
       "v31      0\n",
       "x32      0\n",
       "y32      0\n",
       "z32      0\n",
       "v32      0\n",
       "x33      0\n",
       "y33      0\n",
       "z33      0\n",
       "v33      0\n",
       "dtype: int64"
      ]
     },
     "metadata": {},
     "output_type": "display_data"
    },
    {
     "name": "stdout",
     "output_type": "stream",
     "text": [
      "\n",
      "Information for Coordinates Data\n",
      "<class 'pandas.core.frame.DataFrame'>\n",
      "RangeIndex: 1754 entries, 0 to 1753\n",
      "Columns: 133 entries, class to v33\n",
      "dtypes: float64(132), object(1)\n",
      "memory usage: 1.8+ MB\n"
     ]
    },
    {
     "data": {
      "text/plain": [
       "None"
      ]
     },
     "metadata": {},
     "output_type": "display_data"
    }
   ],
   "source": [
    "pd.set_option('display.max_rows', 150)\n",
    "\n",
    "#checking for null values \n",
    "print(\"Null Values for Coordinates Data\")\n",
    "display(coordinates_df.isnull().sum())\n",
    "print(\"\")\n",
    "\n",
    "print(\"Information for Coordinates Data\")\n",
    "display(coordinates_df.info())\n",
    "\n",
    "# print(\"Values counts for every column\")\n",
    "# coordinates_df.notnull().sum()\n"
   ]
  },
  {
   "cell_type": "markdown",
   "id": "6500a626",
   "metadata": {},
   "source": [
    "There's no null value in all columns. We can proceed to next modelling."
   ]
  },
  {
   "cell_type": "markdown",
   "id": "79b09a19",
   "metadata": {},
   "source": [
    "### (2) Checking for distribution of class"
   ]
  },
  {
   "cell_type": "code",
   "execution_count": 25,
   "id": "80806825",
   "metadata": {},
   "outputs": [
    {
     "data": {
      "text/plain": [
       "Rest    881\n",
       "Down    873\n",
       "Name: class, dtype: int64"
      ]
     },
     "execution_count": 25,
     "metadata": {},
     "output_type": "execute_result"
    }
   ],
   "source": [
    "coordinates_df['class'].value_counts()"
   ]
  },
  {
   "cell_type": "code",
   "execution_count": 26,
   "id": "35e4ad38",
   "metadata": {},
   "outputs": [
    {
     "data": {
      "text/plain": [
       "Index(['class', 'x1', 'y1', 'z1', 'v1', 'x2', 'y2', 'z2', 'v2', 'x3',\n",
       "       ...\n",
       "       'z31', 'v31', 'x32', 'y32', 'z32', 'v32', 'x33', 'y33', 'z33', 'v33'],\n",
       "      dtype='object', length=133)"
      ]
     },
     "execution_count": 26,
     "metadata": {},
     "output_type": "execute_result"
    }
   ],
   "source": [
    "coordinates_df.columns"
   ]
  },
  {
   "cell_type": "code",
   "execution_count": 27,
   "id": "f4cd8647",
   "metadata": {},
   "outputs": [
    {
     "data": {
      "image/png": "[encoded data removed]",
      "text/plain": [
       "<Figure size 640x480 with 1 Axes>"
      ]
     },
     "metadata": {},
     "output_type": "display_data"
    }
   ],
   "source": [
    "# Plot class distribution\n",
    "# Plot subreddit distribution\n",
    "plt.figure()\n",
    "coordinates_df['class'].value_counts().plot(kind='bar')\n",
    "\n",
    "plt.title('Class Distribution')\n",
    "plt.xlabel(\"Class\")\n",
    "plt.ylabel(\"Frequency\")\n",
    "plt.show()"
   ]
  },
  {
   "cell_type": "markdown",
   "id": "de2cdfe9",
   "metadata": {},
   "source": [
    "The class distributions are ensured to be even before we send the data for modeling.\n",
    "This is to ensure there is no bias towards one of the classes.\n",
    "\n",
    "Class 1 is 'Rest'; Class '0' is Down."
   ]
  },
  {
   "cell_type": "markdown",
   "id": "d63d0ea2",
   "metadata": {},
   "source": [
    "## Data Dictionary"
   ]
  },
  {
   "cell_type": "markdown",
   "id": "fcc478e0",
   "metadata": {},
   "source": [
    "With reference to the diagram above, we have 33 landmarks and 133 columns of data in total.\n",
    "\n",
    "<br>\n",
    "\n",
    "| Feature | Type | Dataset | Description |\n",
    "| :--- | :--- | :--- | :---|\n",
    "| class | str | coords | the label of the coordinates |\n",
    "| x1 | int | coords | x-coordinate of the landmark 1: nose |\n",
    "| y1 | int | coords | y-coordinate of the landmark 1: nose |\n",
    "| z1 | int | coords | z-coordinate of the landmark 1: nose |\n",
    "| v1 | int | coords | visibility of the landmark in computer vision |\n",
    "| ... | ... | ... | ... |\n",
    "| x33 | int | coords | x-coordinate of the landmark 33: nose |\n",
    "| y33 | int | coords | y-coordinate of the landmark 33: nose |\n",
    "| z33 | int | coords | z-coordinate of the landmark 33: nose |\n",
    "| v33 | int | coords | visibility of landmark 33 in computer vision |"
   ]
  },
  {
   "cell_type": "markdown",
   "id": "4009b645",
   "metadata": {},
   "source": [
    "![Alt text](https://github.com/khammingfatt/project-5-ai-enhance-squat-form/blob/main/images/landmarks.jpg?raw=true)\n",
    " "
   ]
  },
  {
   "cell_type": "markdown",
   "id": "9fbf5560",
   "metadata": {},
   "source": [
    "## Manual Modeling"
   ]
  },
  {
   "cell_type": "code",
   "execution_count": 28,
   "id": "ff822651",
   "metadata": {},
   "outputs": [],
   "source": [
    "# Assemble our predictor variables (X) and our target (y)\n",
    "X = coordinates_df.drop('class', axis = 1)\n",
    "y = coordinates_df['class']\n",
    "\n",
    "# train-test-split\n",
    "X_train, X_test, y_train, y_test = train_test_split(X, y, test_size = 0.3, random_state = 99)\n"
   ]
  },
  {
   "cell_type": "code",
   "execution_count": 29,
   "id": "3944b667",
   "metadata": {},
   "outputs": [
    {
     "data": {
      "text/html": [
       "<style>#sk-container-id-3 {color: black;}#sk-container-id-3 pre{padding: 0;}#sk-container-id-3 div.sk-toggleable {background-color: white;}#sk-container-id-3 label.sk-toggleable__label {cursor: pointer;display: block;width: 100%;margin-bottom: 0;padding: 0.3em;box-sizing: border-box;text-align: center;}#sk-container-id-3 label.sk-toggleable__label-arrow:before {content: \"▸\";float: left;margin-right: 0.25em;color: #696969;}#sk-container-id-3 label.sk-toggleable__label-arrow:hover:before {color: black;}#sk-container-id-3 div.sk-estimator:hover label.sk-toggleable__label-arrow:before {color: black;}#sk-container-id-3 div.sk-toggleable__content {max-height: 0;max-width: 0;overflow: hidden;text-align: left;background-color: #f0f8ff;}#sk-container-id-3 div.sk-toggleable__content pre {margin: 0.2em;color: black;border-radius: 0.25em;background-color: #f0f8ff;}#sk-container-id-3 input.sk-toggleable__control:checked~div.sk-toggleable__content {max-height: 200px;max-width: 100%;overflow: auto;}#sk-container-id-3 input.sk-toggleable__control:checked~label.sk-toggleable__label-arrow:before {content: \"▾\";}#sk-container-id-3 div.sk-estimator input.sk-toggleable__control:checked~label.sk-toggleable__label {background-color: #d4ebff;}#sk-container-id-3 div.sk-label input.sk-toggleable__control:checked~label.sk-toggleable__label {background-color: #d4ebff;}#sk-container-id-3 input.sk-hidden--visually {border: 0;clip: rect(1px 1px 1px 1px);clip: rect(1px, 1px, 1px, 1px);height: 1px;margin: -1px;overflow: hidden;padding: 0;position: absolute;width: 1px;}#sk-container-id-3 div.sk-estimator {font-family: monospace;background-color: #f0f8ff;border: 1px dotted black;border-radius: 0.25em;box-sizing: border-box;margin-bottom: 0.5em;}#sk-container-id-3 div.sk-estimator:hover {background-color: #d4ebff;}#sk-container-id-3 div.sk-parallel-item::after {content: \"\";width: 100%;border-bottom: 1px solid gray;flex-grow: 1;}#sk-container-id-3 div.sk-label:hover label.sk-toggleable__label {background-color: #d4ebff;}#sk-container-id-3 div.sk-serial::before {content: \"\";position: absolute;border-left: 1px solid gray;box-sizing: border-box;top: 0;bottom: 0;left: 50%;z-index: 0;}#sk-container-id-3 div.sk-serial {display: flex;flex-direction: column;align-items: center;background-color: white;padding-right: 0.2em;padding-left: 0.2em;position: relative;}#sk-container-id-3 div.sk-item {position: relative;z-index: 1;}#sk-container-id-3 div.sk-parallel {display: flex;align-items: stretch;justify-content: center;background-color: white;position: relative;}#sk-container-id-3 div.sk-item::before, #sk-container-id-3 div.sk-parallel-item::before {content: \"\";position: absolute;border-left: 1px solid gray;box-sizing: border-box;top: 0;bottom: 0;left: 50%;z-index: -1;}#sk-container-id-3 div.sk-parallel-item {display: flex;flex-direction: column;z-index: 1;position: relative;background-color: white;}#sk-container-id-3 div.sk-parallel-item:first-child::after {align-self: flex-end;width: 50%;}#sk-container-id-3 div.sk-parallel-item:last-child::after {align-self: flex-start;width: 50%;}#sk-container-id-3 div.sk-parallel-item:only-child::after {width: 0;}#sk-container-id-3 div.sk-dashed-wrapped {border: 1px dashed gray;margin: 0 0.4em 0.5em 0.4em;box-sizing: border-box;padding-bottom: 0.4em;background-color: white;}#sk-container-id-3 div.sk-label label {font-family: monospace;font-weight: bold;display: inline-block;line-height: 1.2em;}#sk-container-id-3 div.sk-label-container {text-align: center;}#sk-container-id-3 div.sk-container {/* jupyter's `normalize.less` sets `[hidden] { display: none; }` but bootstrap.min.css set `[hidden] { display: none !important; }` so we also need the `!important` here to be able to override the default hidden behavior on the sphinx rendered scikit-learn.org. See: https://github.com/scikit-learn/scikit-learn/issues/21755 */display: inline-block !important;position: relative;}#sk-container-id-3 div.sk-text-repr-fallback {display: none;}</style><div id=\"sk-container-id-3\" class=\"sk-top-container\"><div class=\"sk-text-repr-fallback\"><pre>LabelEncoder()</pre><b>In a Jupyter environment, please rerun this cell to show the HTML representation or trust the notebook. <br />On GitHub, the HTML representation is unable to render, please try loading this page with nbviewer.org.</b></div><div class=\"sk-container\" hidden><div class=\"sk-item\"><div class=\"sk-estimator sk-toggleable\"><input class=\"sk-toggleable__control sk-hidden--visually\" id=\"sk-estimator-id-5\" type=\"checkbox\" checked><label for=\"sk-estimator-id-5\" class=\"sk-toggleable__label sk-toggleable__label-arrow\">LabelEncoder</label><div class=\"sk-toggleable__content\"><pre>LabelEncoder()</pre></div></div></div></div></div>"
      ],
      "text/plain": [
       "LabelEncoder()"
      ]
     },
     "execution_count": 29,
     "metadata": {},
     "output_type": "execute_result"
    }
   ],
   "source": [
    "# Create a LabelEncoder object\n",
    "label_encoder = LabelEncoder()\n",
    "\n",
    "# Sieve out the columns which we want to apply label encoding on\n",
    "# Fit the label encoder on y_train\n",
    "label_encoder.fit(y_train)"
   ]
  },
  {
   "cell_type": "code",
   "execution_count": 30,
   "id": "91bcc7c0",
   "metadata": {},
   "outputs": [],
   "source": [
    "# Transform y_train and y_test to numerical format\n",
    "y_train_numerical = label_encoder.transform(y_train)\n",
    "y_test_numerical = label_encoder.transform(y_test)"
   ]
  },
  {
   "cell_type": "code",
   "execution_count": 31,
   "id": "9e0b844c",
   "metadata": {},
   "outputs": [
    {
     "name": "stdout",
     "output_type": "stream",
     "text": [
      "Rows and Columns of X_train\n"
     ]
    },
    {
     "data": {
      "text/plain": [
       "(1227, 132)"
      ]
     },
     "metadata": {},
     "output_type": "display_data"
    },
    {
     "name": "stdout",
     "output_type": "stream",
     "text": [
      "Rows and Columns of X_test\n"
     ]
    },
    {
     "data": {
      "text/plain": [
       "(527, 132)"
      ]
     },
     "metadata": {},
     "output_type": "display_data"
    },
    {
     "name": "stdout",
     "output_type": "stream",
     "text": [
      "Rows and Columns of y_train\n"
     ]
    },
    {
     "data": {
      "text/plain": [
       "(1227,)"
      ]
     },
     "metadata": {},
     "output_type": "display_data"
    },
    {
     "name": "stdout",
     "output_type": "stream",
     "text": [
      "Rows and Columns of y_test\n"
     ]
    },
    {
     "data": {
      "text/plain": [
       "(527,)"
      ]
     },
     "metadata": {},
     "output_type": "display_data"
    }
   ],
   "source": [
    "# Checking for distributions\n",
    "print(\"Rows and Columns of X_train\")\n",
    "display(X_train.shape)\n",
    "print(\"Rows and Columns of X_test\")\n",
    "display(X_test.shape)\n",
    "print(\"Rows and Columns of y_train\")\n",
    "display(y_train.shape)\n",
    "print(\"Rows and Columns of y_test\")\n",
    "display(y_test.shape)"
   ]
  },
  {
   "cell_type": "code",
   "execution_count": 32,
   "id": "585a988c",
   "metadata": {},
   "outputs": [],
   "source": [
    "# Select the X & y features\n",
    "X_train = X_train\n",
    "y_train = y_train_numerical\n",
    "X_test = X_test\n",
    "y_test = y_test_numerical\n",
    "\n",
    "rf = Pipeline([\n",
    "    ('SS', StandardScaler()),\n",
    "    ('clf', ensemble.RandomForestClassifier()),\n",
    "])  # Add closing parenthesis for Pipeline constructor\n"
   ]
  },
  {
   "cell_type": "code",
   "execution_count": 33,
   "id": "136d42eb",
   "metadata": {},
   "outputs": [
    {
     "name": "stdout",
     "output_type": "stream",
     "text": [
      "Fitting 5 folds for each of 2 candidates, totalling 10 fits\n",
      "[CV] END clf__bootstrap=True, clf__max_depth=10, clf__max_features=sqrt, clf__min_samples_leaf=1, clf__min_samples_split=2, clf__n_estimators=100; total time=   0.5s\n",
      "[CV] END clf__bootstrap=True, clf__max_depth=10, clf__max_features=sqrt, clf__min_samples_leaf=1, clf__min_samples_split=2, clf__n_estimators=100; total time=   0.5s\n",
      "[CV] END clf__bootstrap=True, clf__max_depth=10, clf__max_features=sqrt, clf__min_samples_leaf=1, clf__min_samples_split=2, clf__n_estimators=100; total time=   0.4s\n",
      "[CV] END clf__bootstrap=True, clf__max_depth=10, clf__max_features=sqrt, clf__min_samples_leaf=1, clf__min_samples_split=2, clf__n_estimators=100; total time=   0.4s\n",
      "[CV] END clf__bootstrap=True, clf__max_depth=10, clf__max_features=sqrt, clf__min_samples_leaf=1, clf__min_samples_split=2, clf__n_estimators=100; total time=   0.5s\n",
      "[CV] END clf__bootstrap=False, clf__max_depth=10, clf__max_features=sqrt, clf__min_samples_leaf=1, clf__min_samples_split=2, clf__n_estimators=100; total time=   0.6s\n",
      "[CV] END clf__bootstrap=False, clf__max_depth=10, clf__max_features=sqrt, clf__min_samples_leaf=1, clf__min_samples_split=2, clf__n_estimators=100; total time=   0.6s\n",
      "[CV] END clf__bootstrap=False, clf__max_depth=10, clf__max_features=sqrt, clf__min_samples_leaf=1, clf__min_samples_split=2, clf__n_estimators=100; total time=   0.4s\n",
      "[CV] END clf__bootstrap=False, clf__max_depth=10, clf__max_features=sqrt, clf__min_samples_leaf=1, clf__min_samples_split=2, clf__n_estimators=100; total time=   0.6s\n",
      "[CV] END clf__bootstrap=False, clf__max_depth=10, clf__max_features=sqrt, clf__min_samples_leaf=1, clf__min_samples_split=2, clf__n_estimators=100; total time=   0.6s\n"
     ]
    }
   ],
   "source": [
    "tag = 'Random Forest Classifier - GridSearch CV'\n",
    "\n",
    "# define constants for modelling\n",
    "RS = 42 # random state\n",
    "CV = 5 # cross val\n",
    "SCORE = 'accuracy' # scoring\n",
    "\n",
    "param_grid = {\n",
    "    'clf__n_estimators': [100], #[100, 500, 1000, 1500, 2000],   # Number of trees in the forest\n",
    "    'clf__max_depth': [10], #[None, 5, 10],  # Maximum depth of the tree\n",
    "    'clf__min_samples_split': [2],  # Minimum number of samples required to split an internal node\n",
    "    'clf__min_samples_leaf': [1],  # Minimum number of samples required to be at a leaf node\n",
    "    'clf__max_features': ['sqrt'],  # Number of features to consider when looking for the best split\n",
    "    'clf__bootstrap': [True, False], # Bootstrap\n",
    "}\n",
    "\n",
    "# Instantiate the GridSearchCV model\n",
    "gs = GridSearchCV(estimator = rf,\n",
    "                  param_grid = param_grid,\n",
    "                  scoring = SCORE,\n",
    "                  cv = CV,\n",
    "                  verbose=2\n",
    ")\n",
    "\n",
    "# Fit the model & make prediction\n",
    "gs.fit(X_train, y_train)\n",
    "bm_1 = gs.best_estimator_"
   ]
  },
  {
   "cell_type": "code",
   "execution_count": 34,
   "id": "25466889",
   "metadata": {},
   "outputs": [
    {
     "data": {
      "text/plain": [
       "array([1, 1, 0, 1, 0, 0, 0, 1, 1, 0, 1, 0, 1, 1, 0, 0, 1, 1, 0, 1, 1, 0,\n",
       "       0, 0, 0, 0, 1, 0, 1, 1, 1, 0, 1, 1, 1, 0, 1, 1, 0, 1, 1, 0, 0, 1,\n",
       "       1, 1, 1, 0, 0, 0, 0, 1, 0, 1, 1, 1, 1, 0, 1, 1, 1, 0, 1, 0, 0, 1,\n",
       "       0, 0, 1, 1, 0, 0, 0, 0, 1, 1, 0, 0, 1, 0, 1, 1, 1, 1, 1, 0, 0, 1,\n",
       "       0, 1, 1, 1, 0, 0, 1, 0, 1, 0, 1, 1, 0, 1, 0, 1, 0, 1, 1, 1, 0, 1,\n",
       "       0, 1, 1, 0, 1, 1, 1, 1, 0, 1, 0, 0, 0, 0, 0, 0, 0, 1, 0, 1, 1, 0,\n",
       "       0, 0, 0, 0, 0, 0, 0, 0, 1, 1, 1, 1, 0, 1, 1, 0, 0, 1, 0, 1, 0, 0,\n",
       "       0, 1, 1, 0, 1, 1, 1, 0, 0, 0, 1, 1, 1, 1, 1, 0, 0, 0, 1, 0, 1, 1,\n",
       "       1, 0, 0, 0, 1, 1, 1, 0, 0, 1, 0, 1, 1, 1, 1, 1, 1, 1, 0, 1, 1, 1,\n",
       "       1, 0, 1, 0, 1, 1, 1, 1, 0, 1, 0, 1, 0, 0, 0, 0, 0, 1, 1, 0, 1, 1,\n",
       "       1, 1, 1, 0, 0, 1, 0, 0, 0, 1, 0, 1, 0, 1, 1, 1, 0, 1, 0, 0, 0, 1,\n",
       "       1, 1, 1, 0, 1, 0, 1, 1, 0, 1, 0, 1, 0, 0, 0, 0, 0, 1, 1, 0, 0, 1,\n",
       "       1, 1, 1, 0, 0, 0, 1, 0, 1, 0, 1, 0, 0, 1, 1, 0, 0, 1, 0, 1, 0, 0,\n",
       "       1, 1, 0, 1, 0, 0, 0, 0, 1, 1, 0, 0, 0, 1, 0, 1, 1, 0, 1, 1, 0, 0,\n",
       "       1, 1, 0, 1, 0, 1, 0, 1, 0, 1, 0, 0, 1, 0, 0, 0, 1, 0, 0, 0, 0, 0,\n",
       "       1, 0, 0, 0, 1, 1, 1, 0, 1, 0, 0, 1, 0, 1, 0, 1, 1, 1, 1, 1, 1, 1,\n",
       "       1, 1, 1, 1, 0, 1, 0, 1, 0, 0, 0, 1, 1, 1, 0, 1, 0, 1, 1, 1, 1, 1,\n",
       "       1, 1, 1, 0, 1, 1, 0, 1, 0, 0, 1, 1, 1, 0, 0, 0, 0, 0, 0, 1, 0, 1,\n",
       "       0, 0, 1, 0, 0, 0, 1, 1, 0, 0, 1, 1, 1, 0, 0, 1, 0, 0, 0, 1, 1, 1,\n",
       "       1, 0, 0, 1, 1, 0, 0, 0, 0, 1, 0, 1, 0, 0, 1, 1, 0, 1, 1, 1, 1, 1,\n",
       "       0, 1, 1, 1, 0, 1, 0, 1, 0, 1, 0, 0, 1, 0, 0, 1, 1, 0, 1, 1, 0, 1,\n",
       "       0, 0, 1, 1, 0, 1, 0, 1, 0, 1, 1, 1, 1, 1, 0, 1, 0, 1, 1, 0, 1, 1,\n",
       "       1, 0, 0, 1, 1, 1, 0, 0, 0, 0, 1, 0, 0, 0, 0, 0, 0, 1, 0, 0, 0, 1,\n",
       "       0, 1, 1, 0, 0, 1, 0, 0, 0, 1, 0, 1, 1, 1, 1, 0, 1, 1, 1, 0, 0])"
      ]
     },
     "execution_count": 34,
     "metadata": {},
     "output_type": "execute_result"
    }
   ],
   "source": [
    "y_pred = bm_1.predict(X_test)\n",
    "y_pred"
   ]
  },
  {
   "cell_type": "code",
   "execution_count": 35,
   "id": "a338a1a4",
   "metadata": {},
   "outputs": [
    {
     "name": "stdout",
     "output_type": "stream",
     "text": [
      "Classification Matrix:               precision    recall  f1-score   support\n",
      "\n",
      "           0       1.00      0.99      1.00       254\n",
      "           1       0.99      1.00      1.00       273\n",
      "\n",
      "    accuracy                           1.00       527\n",
      "   macro avg       1.00      1.00      1.00       527\n",
      "weighted avg       1.00      1.00      1.00       527\n",
      "\n",
      "Accuracy (train): 1.0\n",
      "Accuracy (test): 0.9962049335863378\n",
      "Train Cross-val-score(cv=5): 0.9976\n",
      "Test Cross-val-score(cv=5): 0.9924\n"
     ]
    }
   ],
   "source": [
    "print(f'Classification Matrix: {classification_report(y_test, y_pred)}')\n",
    "print(f'Accuracy (train): {bm_1.score(X_train, y_train)}')\n",
    "print(f'Accuracy (test): {bm_1.score(X_test, y_test)}')\n",
    "print(f'Train Cross-val-score(cv=5): {cross_val_score(bm_1, X_train, y_train, cv=CV).mean():,.4f}')\n",
    "print(f'Test Cross-val-score(cv=5): {cross_val_score(bm_1, X_test, y_test, cv=CV).mean():,.4f}')"
   ]
  },
  {
   "cell_type": "code",
   "execution_count": 36,
   "id": "a46d20b1",
   "metadata": {},
   "outputs": [
    {
     "data": {
      "text/plain": [
       "array(['Rest', 'Rest', 'Down', 'Rest', 'Down', 'Down', 'Down', 'Rest',\n",
       "       'Rest', 'Down', 'Rest', 'Down', 'Rest', 'Rest', 'Down', 'Down',\n",
       "       'Rest', 'Rest', 'Down', 'Rest', 'Down', 'Down', 'Down', 'Down',\n",
       "       'Down', 'Down', 'Rest', 'Down', 'Rest', 'Rest', 'Rest', 'Down',\n",
       "       'Rest', 'Rest', 'Rest', 'Down', 'Rest', 'Rest', 'Down', 'Rest',\n",
       "       'Rest', 'Down', 'Down', 'Rest', 'Rest', 'Rest', 'Rest', 'Down',\n",
       "       'Down', 'Down', 'Down', 'Rest', 'Down', 'Rest', 'Rest', 'Rest',\n",
       "       'Rest', 'Down', 'Rest', 'Rest', 'Rest', 'Down', 'Rest', 'Down',\n",
       "       'Down', 'Rest', 'Down', 'Down', 'Rest', 'Rest', 'Down', 'Down',\n",
       "       'Down', 'Down', 'Rest', 'Rest', 'Down', 'Down', 'Rest', 'Down',\n",
       "       'Rest', 'Rest', 'Rest', 'Rest', 'Rest', 'Down', 'Down', 'Rest',\n",
       "       'Down', 'Rest', 'Rest', 'Rest', 'Down', 'Down', 'Rest', 'Down',\n",
       "       'Rest', 'Down', 'Rest', 'Rest', 'Down', 'Rest', 'Down', 'Rest',\n",
       "       'Down', 'Rest', 'Rest', 'Rest', 'Down', 'Rest', 'Down', 'Rest',\n",
       "       'Rest', 'Down', 'Rest', 'Rest', 'Rest', 'Rest', 'Down', 'Rest',\n",
       "       'Down', 'Down', 'Down', 'Down', 'Down', 'Down', 'Down', 'Rest',\n",
       "       'Down', 'Rest', 'Rest', 'Down', 'Down', 'Down', 'Down', 'Down',\n",
       "       'Down', 'Down', 'Down', 'Down', 'Rest', 'Rest', 'Rest', 'Rest',\n",
       "       'Down', 'Rest', 'Rest', 'Down', 'Down', 'Rest', 'Down', 'Rest',\n",
       "       'Down', 'Down', 'Down', 'Rest', 'Rest', 'Down', 'Rest', 'Rest',\n",
       "       'Rest', 'Down', 'Down', 'Down', 'Rest', 'Rest', 'Rest', 'Rest',\n",
       "       'Rest', 'Down', 'Down', 'Down', 'Rest', 'Down', 'Rest', 'Rest',\n",
       "       'Rest', 'Down', 'Down', 'Down', 'Rest', 'Rest', 'Rest', 'Down',\n",
       "       'Down', 'Rest', 'Down', 'Rest', 'Rest', 'Rest', 'Rest', 'Rest',\n",
       "       'Rest', 'Rest', 'Down', 'Rest', 'Rest', 'Rest', 'Rest', 'Down',\n",
       "       'Rest', 'Down', 'Rest', 'Rest', 'Rest', 'Rest', 'Down', 'Rest',\n",
       "       'Down', 'Rest', 'Down', 'Down', 'Down', 'Down', 'Down', 'Rest',\n",
       "       'Rest', 'Down', 'Rest', 'Rest', 'Rest', 'Rest', 'Rest', 'Down',\n",
       "       'Down', 'Rest', 'Down', 'Down', 'Down', 'Rest', 'Down', 'Rest',\n",
       "       'Down', 'Rest', 'Rest', 'Rest', 'Down', 'Rest', 'Down', 'Down',\n",
       "       'Down', 'Rest', 'Rest', 'Rest', 'Rest', 'Down', 'Rest', 'Down',\n",
       "       'Rest', 'Rest', 'Down', 'Rest', 'Down', 'Rest', 'Down', 'Down',\n",
       "       'Down', 'Down', 'Down', 'Rest', 'Rest', 'Down', 'Down', 'Rest',\n",
       "       'Rest', 'Rest', 'Rest', 'Down', 'Down', 'Down', 'Rest', 'Down',\n",
       "       'Rest', 'Down', 'Rest', 'Down', 'Down', 'Rest', 'Rest', 'Down',\n",
       "       'Down', 'Rest', 'Down', 'Rest', 'Down', 'Down', 'Rest', 'Rest',\n",
       "       'Down', 'Rest', 'Down', 'Down', 'Down', 'Down', 'Rest', 'Rest',\n",
       "       'Down', 'Down', 'Down', 'Rest', 'Down', 'Rest', 'Rest', 'Down',\n",
       "       'Rest', 'Rest', 'Down', 'Down', 'Rest', 'Rest', 'Down', 'Rest',\n",
       "       'Down', 'Rest', 'Down', 'Rest', 'Down', 'Rest', 'Down', 'Down',\n",
       "       'Rest', 'Down', 'Down', 'Down', 'Rest', 'Down', 'Down', 'Down',\n",
       "       'Down', 'Down', 'Rest', 'Down', 'Down', 'Down', 'Rest', 'Rest',\n",
       "       'Rest', 'Down', 'Rest', 'Down', 'Down', 'Rest', 'Down', 'Rest',\n",
       "       'Down', 'Rest', 'Rest', 'Rest', 'Rest', 'Rest', 'Rest', 'Rest',\n",
       "       'Rest', 'Rest', 'Rest', 'Rest', 'Down', 'Rest', 'Down', 'Rest',\n",
       "       'Down', 'Down', 'Down', 'Rest', 'Rest', 'Rest', 'Down', 'Rest',\n",
       "       'Down', 'Rest', 'Rest', 'Rest', 'Rest', 'Rest', 'Rest', 'Rest',\n",
       "       'Rest', 'Down', 'Rest', 'Rest', 'Down', 'Rest', 'Down', 'Down',\n",
       "       'Rest', 'Rest', 'Rest', 'Down', 'Down', 'Down', 'Down', 'Down',\n",
       "       'Down', 'Rest', 'Down', 'Rest', 'Down', 'Down', 'Rest', 'Down',\n",
       "       'Down', 'Down', 'Rest', 'Rest', 'Down', 'Down', 'Rest', 'Rest',\n",
       "       'Rest', 'Down', 'Down', 'Rest', 'Down', 'Down', 'Down', 'Rest',\n",
       "       'Rest', 'Rest', 'Rest', 'Down', 'Down', 'Rest', 'Rest', 'Down',\n",
       "       'Down', 'Down', 'Down', 'Rest', 'Down', 'Rest', 'Down', 'Down',\n",
       "       'Rest', 'Rest', 'Down', 'Rest', 'Down', 'Rest', 'Rest', 'Rest',\n",
       "       'Down', 'Rest', 'Rest', 'Rest', 'Down', 'Rest', 'Down', 'Rest',\n",
       "       'Down', 'Rest', 'Down', 'Down', 'Rest', 'Down', 'Down', 'Rest',\n",
       "       'Rest', 'Down', 'Rest', 'Rest', 'Down', 'Rest', 'Down', 'Down',\n",
       "       'Rest', 'Rest', 'Down', 'Rest', 'Down', 'Rest', 'Down', 'Rest',\n",
       "       'Rest', 'Rest', 'Rest', 'Rest', 'Down', 'Rest', 'Down', 'Rest',\n",
       "       'Rest', 'Down', 'Rest', 'Rest', 'Rest', 'Down', 'Down', 'Rest',\n",
       "       'Rest', 'Rest', 'Down', 'Down', 'Down', 'Down', 'Rest', 'Down',\n",
       "       'Down', 'Down', 'Down', 'Down', 'Down', 'Rest', 'Down', 'Down',\n",
       "       'Down', 'Rest', 'Down', 'Rest', 'Rest', 'Down', 'Down', 'Rest',\n",
       "       'Down', 'Down', 'Down', 'Rest', 'Down', 'Rest', 'Rest', 'Rest',\n",
       "       'Rest', 'Down', 'Rest', 'Rest', 'Rest', 'Down', 'Down'],\n",
       "      dtype=object)"
      ]
     },
     "metadata": {},
     "output_type": "display_data"
    },
    {
     "data": {
      "text/plain": [
       "array(['Rest', 'Rest', 'Down', 'Rest', 'Down', 'Down', 'Down', 'Rest',\n",
       "       'Rest', 'Down', 'Rest', 'Down', 'Rest', 'Rest', 'Down', 'Down',\n",
       "       'Rest', 'Rest', 'Down', 'Rest', 'Rest', 'Down', 'Down', 'Down',\n",
       "       'Down', 'Down', 'Rest', 'Down', 'Rest', 'Rest', 'Rest', 'Down',\n",
       "       'Rest', 'Rest', 'Rest', 'Down', 'Rest', 'Rest', 'Down', 'Rest',\n",
       "       'Rest', 'Down', 'Down', 'Rest', 'Rest', 'Rest', 'Rest', 'Down',\n",
       "       'Down', 'Down', 'Down', 'Rest', 'Down', 'Rest', 'Rest', 'Rest',\n",
       "       'Rest', 'Down', 'Rest', 'Rest', 'Rest', 'Down', 'Rest', 'Down',\n",
       "       'Down', 'Rest', 'Down', 'Down', 'Rest', 'Rest', 'Down', 'Down',\n",
       "       'Down', 'Down', 'Rest', 'Rest', 'Down', 'Down', 'Rest', 'Down',\n",
       "       'Rest', 'Rest', 'Rest', 'Rest', 'Rest', 'Down', 'Down', 'Rest',\n",
       "       'Down', 'Rest', 'Rest', 'Rest', 'Down', 'Down', 'Rest', 'Down',\n",
       "       'Rest', 'Down', 'Rest', 'Rest', 'Down', 'Rest', 'Down', 'Rest',\n",
       "       'Down', 'Rest', 'Rest', 'Rest', 'Down', 'Rest', 'Down', 'Rest',\n",
       "       'Rest', 'Down', 'Rest', 'Rest', 'Rest', 'Rest', 'Down', 'Rest',\n",
       "       'Down', 'Down', 'Down', 'Down', 'Down', 'Down', 'Down', 'Rest',\n",
       "       'Down', 'Rest', 'Rest', 'Down', 'Down', 'Down', 'Down', 'Down',\n",
       "       'Down', 'Down', 'Down', 'Down', 'Rest', 'Rest', 'Rest', 'Rest',\n",
       "       'Down', 'Rest', 'Rest', 'Down', 'Down', 'Rest', 'Down', 'Rest',\n",
       "       'Down', 'Down', 'Down', 'Rest', 'Rest', 'Down', 'Rest', 'Rest',\n",
       "       'Rest', 'Down', 'Down', 'Down', 'Rest', 'Rest', 'Rest', 'Rest',\n",
       "       'Rest', 'Down', 'Down', 'Down', 'Rest', 'Down', 'Rest', 'Rest',\n",
       "       'Rest', 'Down', 'Down', 'Down', 'Rest', 'Rest', 'Rest', 'Down',\n",
       "       'Down', 'Rest', 'Down', 'Rest', 'Rest', 'Rest', 'Rest', 'Rest',\n",
       "       'Rest', 'Rest', 'Down', 'Rest', 'Rest', 'Rest', 'Rest', 'Down',\n",
       "       'Rest', 'Down', 'Rest', 'Rest', 'Rest', 'Rest', 'Down', 'Rest',\n",
       "       'Down', 'Rest', 'Down', 'Down', 'Down', 'Down', 'Down', 'Rest',\n",
       "       'Rest', 'Down', 'Rest', 'Rest', 'Rest', 'Rest', 'Rest', 'Down',\n",
       "       'Down', 'Rest', 'Down', 'Down', 'Down', 'Rest', 'Down', 'Rest',\n",
       "       'Down', 'Rest', 'Rest', 'Rest', 'Down', 'Rest', 'Down', 'Down',\n",
       "       'Down', 'Rest', 'Rest', 'Rest', 'Rest', 'Down', 'Rest', 'Down',\n",
       "       'Rest', 'Rest', 'Down', 'Rest', 'Down', 'Rest', 'Down', 'Down',\n",
       "       'Down', 'Down', 'Down', 'Rest', 'Rest', 'Down', 'Down', 'Rest',\n",
       "       'Rest', 'Rest', 'Rest', 'Down', 'Down', 'Down', 'Rest', 'Down',\n",
       "       'Rest', 'Down', 'Rest', 'Down', 'Down', 'Rest', 'Rest', 'Down',\n",
       "       'Down', 'Rest', 'Down', 'Rest', 'Down', 'Down', 'Rest', 'Rest',\n",
       "       'Down', 'Rest', 'Down', 'Down', 'Down', 'Down', 'Rest', 'Rest',\n",
       "       'Down', 'Down', 'Down', 'Rest', 'Down', 'Rest', 'Rest', 'Down',\n",
       "       'Rest', 'Rest', 'Down', 'Down', 'Rest', 'Rest', 'Down', 'Rest',\n",
       "       'Down', 'Rest', 'Down', 'Rest', 'Down', 'Rest', 'Down', 'Down',\n",
       "       'Rest', 'Down', 'Down', 'Down', 'Rest', 'Down', 'Down', 'Down',\n",
       "       'Down', 'Down', 'Rest', 'Down', 'Down', 'Down', 'Rest', 'Rest',\n",
       "       'Rest', 'Down', 'Rest', 'Down', 'Down', 'Rest', 'Down', 'Rest',\n",
       "       'Down', 'Rest', 'Rest', 'Rest', 'Rest', 'Rest', 'Rest', 'Rest',\n",
       "       'Rest', 'Rest', 'Rest', 'Rest', 'Down', 'Rest', 'Down', 'Rest',\n",
       "       'Down', 'Down', 'Down', 'Rest', 'Rest', 'Rest', 'Down', 'Rest',\n",
       "       'Down', 'Rest', 'Rest', 'Rest', 'Rest', 'Rest', 'Rest', 'Rest',\n",
       "       'Rest', 'Down', 'Rest', 'Rest', 'Down', 'Rest', 'Down', 'Down',\n",
       "       'Rest', 'Rest', 'Rest', 'Down', 'Down', 'Down', 'Down', 'Down',\n",
       "       'Down', 'Rest', 'Down', 'Rest', 'Down', 'Down', 'Rest', 'Down',\n",
       "       'Down', 'Down', 'Rest', 'Rest', 'Down', 'Down', 'Rest', 'Rest',\n",
       "       'Rest', 'Down', 'Down', 'Rest', 'Down', 'Down', 'Down', 'Rest',\n",
       "       'Rest', 'Rest', 'Rest', 'Down', 'Down', 'Rest', 'Rest', 'Down',\n",
       "       'Down', 'Down', 'Down', 'Rest', 'Down', 'Rest', 'Down', 'Down',\n",
       "       'Rest', 'Rest', 'Down', 'Rest', 'Rest', 'Rest', 'Rest', 'Rest',\n",
       "       'Down', 'Rest', 'Rest', 'Rest', 'Down', 'Rest', 'Down', 'Rest',\n",
       "       'Down', 'Rest', 'Down', 'Down', 'Rest', 'Down', 'Down', 'Rest',\n",
       "       'Rest', 'Down', 'Rest', 'Rest', 'Down', 'Rest', 'Down', 'Down',\n",
       "       'Rest', 'Rest', 'Down', 'Rest', 'Down', 'Rest', 'Down', 'Rest',\n",
       "       'Rest', 'Rest', 'Rest', 'Rest', 'Down', 'Rest', 'Down', 'Rest',\n",
       "       'Rest', 'Down', 'Rest', 'Rest', 'Rest', 'Down', 'Down', 'Rest',\n",
       "       'Rest', 'Rest', 'Down', 'Down', 'Down', 'Down', 'Rest', 'Down',\n",
       "       'Down', 'Down', 'Down', 'Down', 'Down', 'Rest', 'Down', 'Down',\n",
       "       'Down', 'Rest', 'Down', 'Rest', 'Rest', 'Down', 'Down', 'Rest',\n",
       "       'Down', 'Down', 'Down', 'Rest', 'Down', 'Rest', 'Rest', 'Rest',\n",
       "       'Rest', 'Down', 'Rest', 'Rest', 'Rest', 'Down', 'Down'],\n",
       "      dtype=object)"
      ]
     },
     "metadata": {},
     "output_type": "display_data"
    }
   ],
   "source": [
    "# Inverse transform the predicted labels to get the original class labels\n",
    "y_pred = label_encoder.inverse_transform(y_pred)\n",
    "y_test = label_encoder.inverse_transform(y_test)\n",
    "\n",
    "display(y_test)\n",
    "display(y_pred)"
   ]
  },
  {
   "cell_type": "markdown",
   "id": "23de9f30",
   "metadata": {},
   "source": [
    "## Modeling and Hyperparameters Tuning"
   ]
  },
  {
   "cell_type": "markdown",
   "id": "21a19913",
   "metadata": {},
   "source": [
    "### Writing Out the Model Function"
   ]
  },
  {
   "cell_type": "code",
   "execution_count": 37,
   "id": "a4993a2f",
   "metadata": {},
   "outputs": [],
   "source": [
    "# Define a function that returns the model scores\n",
    "# Set view_cm to True to get confusion matrix visualisation\n",
    "def get_model_score (X, y, pipe, view_cm = False):\n",
    "    \n",
    "    # Split the data into train & test by 70 / 30\n",
    "    X_train, X_test, y_train, y_test = train_test_split(X, y, test_size=0.3, random_state=99)\n",
    "    \n",
    "    # Create a LabelEncoder object\n",
    "    label_encoder = LabelEncoder()\n",
    "    label_encoder.fit(y_train)\n",
    "    \n",
    "    # Transform y_train and y_test to numerical format\n",
    "    y_train = label_encoder.transform(y_train)\n",
    "    y_test = label_encoder.transform(y_test)\n",
    "    \n",
    "    #  the data\n",
    "    pipe.fit(X_train, y_train)\n",
    "    display(pipe) # Remove is there is an error\n",
    "    \n",
    "    # Make prediction with the model \n",
    "    y_pred = pipe.predict(X_test)\n",
    "    \n",
    "    # Save confusion matrix values\n",
    "    tn, fp, fn, tp = confusion_matrix(y_test, y_pred).ravel()\n",
    "    spec = tn / (tn + fp)\n",
    "    \n",
    "    fp, tp, thresholds = metrics.roc_curve(y_test, y_pred)\n",
    "    roc_auc = metrics.auc(fp, tp)\n",
    "\n",
    "    print(classification_report(y_test, y_pred))\n",
    "    print(f'Accuracy (train): {pipe.score(X_train, y_train)}')\n",
    "    print(f'Accuracy (test): {pipe.score(X_test, y_test)}')\n",
    "    print(f'Cross-val-score(cv=5): {cross_val_score(pipe, X_train, y_train, cv=5).mean()}')\n",
    "    print(f'Sensitivity(TPR): {recall_score(y_test, y_pred)}')\n",
    "    print(f'Specificity(TNR): {spec}')\n",
    "    print(f'Precision: {precision_score(y_test, y_pred)}')\n",
    "    print(f'ROC_AUC: {roc_auc}')\n",
    "    print('-------------------------------------------------------\\n')\n",
    "    \n",
    "    if view_cm: \n",
    "        \n",
    "        cm = confusion_matrix(y_test, y_pred)\n",
    "\n",
    "        ax = sns.heatmap(data=cm, cmap=sns.color_palette(['tomato', 'lightgreen'], as_cmap=True), annot=[[f\"TN={cm[0][0]:.0f}\", f\"FN={cm[0][1]:.0f}\"], [f\"FP={cm[1][0]:.0f}\", f\"TP={cm[1][1]:.0f}\"]],\n",
    "                         fmt='', annot_kws={'fontsize': 24}, cbar=False, square=True)\n",
    "\n",
    "        ax.set_xlabel('Actual')\n",
    "        ax.set_ylabel('Predicted')\n",
    "        ax.tick_params(length=0, labeltop=True, labelbottom=False)\n",
    "        ax.xaxis.set_label_position('top')\n",
    "        ax.set_xticklabels(['Negative (0)', 'Positive (1)'])\n",
    "        ax.set_yticklabels(['Negative (0)', 'Positive (1)'], rotation=90, va='center')\n",
    "        ax.add_patch(plt.Rectangle((0, 1), 1, 0.1, color='ivory', clip_on=False, zorder=0, transform=ax.transAxes))\n",
    "        ax.add_patch(plt.Rectangle((0, 0), -0.1, 1, color='ivory', clip_on=False, zorder=0, transform=ax.transAxes))\n",
    "        plt.tight_layout()\n",
    "        plt.show()"
   ]
  },
  {
   "cell_type": "code",
   "execution_count": 38,
   "id": "5c1a305b",
   "metadata": {},
   "outputs": [],
   "source": [
    "# Define a function that runs GridSearchCV with the Parameters given & return the scores\n",
    "def get_gridsearch_params(X, y, model, params, folds, view_cm = False):\n",
    "    \n",
    "    # Split the data into train & test by 70 / 30\n",
    "    X_train, X_test, y_train, y_test = train_test_split(X, y, test_size=0.3, random_state=42)\n",
    "    \n",
    "    # Create a LabelEncoder object\n",
    "    label_encoder = LabelEncoder()\n",
    "    label_encoder.fit(y_train)\n",
    "\n",
    "    # Transform y_train and y_test to numerical format\n",
    "    y_train = label_encoder.transform(y_train)\n",
    "    y_test = label_encoder.transform(y_test)\n",
    "    \n",
    "    # Instantiate the GridSearchCV model\n",
    "    gs_model = GridSearchCV(estimator=model,\n",
    "                            param_grid=params,\n",
    "                            scoring='accuracy',\n",
    "                            cv=folds,\n",
    "                            verbose=2\n",
    "    )\n",
    "    \n",
    "    # Fit the model\n",
    "    gs_model.fit(X_train, y_train)\n",
    "    y_train_pred = gs_model.predict(X_train)\n",
    "    y_pred = gs_model.predict(X_test)\n",
    "    \n",
    "    # Save confusion matrix values\n",
    "    tn, fp, fn, tp = confusion_matrix(y_test, y_pred).ravel()\n",
    "    spec = tn / (tn + fp)\n",
    "    \n",
    "    print(f'Best Hyperparameters: {gs_model.best_params_}') # Display the best hyperparameters for the selected model\n",
    "    print(f'Best training accuracy: {gs_model.best_score_}')\n",
    "    print(f'Test set accuracy score for best params: {accuracy_score(y_test, y_pred)}')\n",
    "    # Display the scores for the GridSearched Best Model\n",
    "    print('-------------------------------------------------------\\n')\n",
    "    print(classification_report(y_test, y_pred))\n",
    "    print(f'Sensitivity(TPR): {recall_score(y_test, y_pred)}')\n",
    "    print(f'Specificity(TNR): {spec}')\n",
    "    print(f'Precision: {precision_score(y_test, y_pred)}')\n",
    "    print(f'F1 Score(Train): {f1_score(y_train, y_train_pred)}')\n",
    "    print(f'F1 Score(Test): {f1_score(y_test, y_pred)}')\n",
    "    print('-------------------------------------------------------\\n')\n",
    "\n",
    "    if view_cm: \n",
    "        \n",
    "        cm = confusion_matrix(y_test, y_pred)\n",
    "\n",
    "        ax = sns.heatmap(data=cm, cmap=sns.color_palette(['tomato', 'lightgreen'], as_cmap=True), annot=[[f\"TN={cm[0][0]:.0f}\", f\"FN={cm[0][1]:.0f}\"], [f\"FP={cm[1][0]:.0f}\", f\"TP={cm[1][1]:.0f}\"]],\n",
    "                         fmt='', annot_kws={'fontsize': 24}, cbar=False, square=True)\n",
    "\n",
    "        ax.set_xlabel('Actual')\n",
    "        ax.set_ylabel('Predicted')\n",
    "        ax.tick_params(length=0, labeltop=True, labelbottom=False)\n",
    "        ax.xaxis.set_label_position('top')\n",
    "        ax.set_xticklabels(['Negative (0)', 'Positive (1)'])\n",
    "        ax.set_yticklabels(['Negative (0)', 'Positive (1)'], rotation=90, va='center')\n",
    "        ax.add_patch(plt.Rectangle((0, 1), 1, 0.1, color='ivory', clip_on=False, zorder=0, transform=ax.transAxes))\n",
    "        ax.add_patch(plt.Rectangle((0, 0), -0.1, 1, color='ivory', clip_on=False, zorder=0, transform=ax.transAxes))\n",
    "        plt.tight_layout()\n",
    "        plt.show()\n",
    "    \n",
    "    return"
   ]
  },
  {
   "cell_type": "markdown",
   "id": "34e1c6e3",
   "metadata": {},
   "source": [
    "### Model 1 - Random Forest"
   ]
  },
  {
   "cell_type": "code",
   "execution_count": 39,
   "id": "fbeb0a3f",
   "metadata": {},
   "outputs": [
    {
     "data": {
      "text/html": [
       "<style>#sk-container-id-4 {color: black;}#sk-container-id-4 pre{padding: 0;}#sk-container-id-4 div.sk-toggleable {background-color: white;}#sk-container-id-4 label.sk-toggleable__label {cursor: pointer;display: block;width: 100%;margin-bottom: 0;padding: 0.3em;box-sizing: border-box;text-align: center;}#sk-container-id-4 label.sk-toggleable__label-arrow:before {content: \"▸\";float: left;margin-right: 0.25em;color: #696969;}#sk-container-id-4 label.sk-toggleable__label-arrow:hover:before {color: black;}#sk-container-id-4 div.sk-estimator:hover label.sk-toggleable__label-arrow:before {color: black;}#sk-container-id-4 div.sk-toggleable__content {max-height: 0;max-width: 0;overflow: hidden;text-align: left;background-color: #f0f8ff;}#sk-container-id-4 div.sk-toggleable__content pre {margin: 0.2em;color: black;border-radius: 0.25em;background-color: #f0f8ff;}#sk-container-id-4 input.sk-toggleable__control:checked~div.sk-toggleable__content {max-height: 200px;max-width: 100%;overflow: auto;}#sk-container-id-4 input.sk-toggleable__control:checked~label.sk-toggleable__label-arrow:before {content: \"▾\";}#sk-container-id-4 div.sk-estimator input.sk-toggleable__control:checked~label.sk-toggleable__label {background-color: #d4ebff;}#sk-container-id-4 div.sk-label input.sk-toggleable__control:checked~label.sk-toggleable__label {background-color: #d4ebff;}#sk-container-id-4 input.sk-hidden--visually {border: 0;clip: rect(1px 1px 1px 1px);clip: rect(1px, 1px, 1px, 1px);height: 1px;margin: -1px;overflow: hidden;padding: 0;position: absolute;width: 1px;}#sk-container-id-4 div.sk-estimator {font-family: monospace;background-color: #f0f8ff;border: 1px dotted black;border-radius: 0.25em;box-sizing: border-box;margin-bottom: 0.5em;}#sk-container-id-4 div.sk-estimator:hover {background-color: #d4ebff;}#sk-container-id-4 div.sk-parallel-item::after {content: \"\";width: 100%;border-bottom: 1px solid gray;flex-grow: 1;}#sk-container-id-4 div.sk-label:hover label.sk-toggleable__label {background-color: #d4ebff;}#sk-container-id-4 div.sk-serial::before {content: \"\";position: absolute;border-left: 1px solid gray;box-sizing: border-box;top: 0;bottom: 0;left: 50%;z-index: 0;}#sk-container-id-4 div.sk-serial {display: flex;flex-direction: column;align-items: center;background-color: white;padding-right: 0.2em;padding-left: 0.2em;position: relative;}#sk-container-id-4 div.sk-item {position: relative;z-index: 1;}#sk-container-id-4 div.sk-parallel {display: flex;align-items: stretch;justify-content: center;background-color: white;position: relative;}#sk-container-id-4 div.sk-item::before, #sk-container-id-4 div.sk-parallel-item::before {content: \"\";position: absolute;border-left: 1px solid gray;box-sizing: border-box;top: 0;bottom: 0;left: 50%;z-index: -1;}#sk-container-id-4 div.sk-parallel-item {display: flex;flex-direction: column;z-index: 1;position: relative;background-color: white;}#sk-container-id-4 div.sk-parallel-item:first-child::after {align-self: flex-end;width: 50%;}#sk-container-id-4 div.sk-parallel-item:last-child::after {align-self: flex-start;width: 50%;}#sk-container-id-4 div.sk-parallel-item:only-child::after {width: 0;}#sk-container-id-4 div.sk-dashed-wrapped {border: 1px dashed gray;margin: 0 0.4em 0.5em 0.4em;box-sizing: border-box;padding-bottom: 0.4em;background-color: white;}#sk-container-id-4 div.sk-label label {font-family: monospace;font-weight: bold;display: inline-block;line-height: 1.2em;}#sk-container-id-4 div.sk-label-container {text-align: center;}#sk-container-id-4 div.sk-container {/* jupyter's `normalize.less` sets `[hidden] { display: none; }` but bootstrap.min.css set `[hidden] { display: none !important; }` so we also need the `!important` here to be able to override the default hidden behavior on the sphinx rendered scikit-learn.org. See: https://github.com/scikit-learn/scikit-learn/issues/21755 */display: inline-block !important;position: relative;}#sk-container-id-4 div.sk-text-repr-fallback {display: none;}</style><div id=\"sk-container-id-4\" class=\"sk-top-container\"><div class=\"sk-text-repr-fallback\"><pre>Pipeline(steps=[(&#x27;SS&#x27;, StandardScaler()), (&#x27;clf&#x27;, RandomForestClassifier())])</pre><b>In a Jupyter environment, please rerun this cell to show the HTML representation or trust the notebook. <br />On GitHub, the HTML representation is unable to render, please try loading this page with nbviewer.org.</b></div><div class=\"sk-container\" hidden><div class=\"sk-item sk-dashed-wrapped\"><div class=\"sk-label-container\"><div class=\"sk-label sk-toggleable\"><input class=\"sk-toggleable__control sk-hidden--visually\" id=\"sk-estimator-id-6\" type=\"checkbox\" ><label for=\"sk-estimator-id-6\" class=\"sk-toggleable__label sk-toggleable__label-arrow\">Pipeline</label><div class=\"sk-toggleable__content\"><pre>Pipeline(steps=[(&#x27;SS&#x27;, StandardScaler()), (&#x27;clf&#x27;, RandomForestClassifier())])</pre></div></div></div><div class=\"sk-serial\"><div class=\"sk-item\"><div class=\"sk-estimator sk-toggleable\"><input class=\"sk-toggleable__control sk-hidden--visually\" id=\"sk-estimator-id-7\" type=\"checkbox\" ><label for=\"sk-estimator-id-7\" class=\"sk-toggleable__label sk-toggleable__label-arrow\">StandardScaler</label><div class=\"sk-toggleable__content\"><pre>StandardScaler()</pre></div></div></div><div class=\"sk-item\"><div class=\"sk-estimator sk-toggleable\"><input class=\"sk-toggleable__control sk-hidden--visually\" id=\"sk-estimator-id-8\" type=\"checkbox\" ><label for=\"sk-estimator-id-8\" class=\"sk-toggleable__label sk-toggleable__label-arrow\">RandomForestClassifier</label><div class=\"sk-toggleable__content\"><pre>RandomForestClassifier()</pre></div></div></div></div></div></div></div>"
      ],
      "text/plain": [
       "Pipeline(steps=[('SS', StandardScaler()), ('clf', RandomForestClassifier())])"
      ]
     },
     "metadata": {},
     "output_type": "display_data"
    },
    {
     "name": "stdout",
     "output_type": "stream",
     "text": [
      "              precision    recall  f1-score   support\n",
      "\n",
      "           0       1.00      0.99      1.00       254\n",
      "           1       0.99      1.00      1.00       273\n",
      "\n",
      "    accuracy                           1.00       527\n",
      "   macro avg       1.00      1.00      1.00       527\n",
      "weighted avg       1.00      1.00      1.00       527\n",
      "\n",
      "Accuracy (train): 1.0\n",
      "Accuracy (test): 0.9962049335863378\n",
      "Cross-val-score(cv=5): 0.9975510204081633\n",
      "Sensitivity(TPR): 1.0\n",
      "Specificity(TNR): 0.9921259842519685\n",
      "Precision: 0.9927272727272727\n",
      "ROC_AUC: 0.9960629921259843\n",
      "-------------------------------------------------------\n",
      "\n"
     ]
    },
    {
     "data": {
      "image/png": "[encoded data removed]",
      "text/plain": [
       "<Figure size 640x480 with 1 Axes>"
      ]
     },
     "metadata": {},
     "output_type": "display_data"
    }
   ],
   "source": [
    "# Assemble our predictor variables (X) and our target (y)\n",
    "X = coordinates_df.drop('class', axis = 1)\n",
    "y = coordinates_df['class']\n",
    "\n",
    "rf = Pipeline([\n",
    "    ('SS', StandardScaler()),\n",
    "    ('clf', ensemble.RandomForestClassifier()),\n",
    "])  # Add closing parenthesis for Pipeline constructor\n",
    "\n",
    "get_model_score(X, y, rf, view_cm = True)"
   ]
  },
  {
   "cell_type": "code",
   "execution_count": 40,
   "id": "115845a6",
   "metadata": {
    "scrolled": false
   },
   "outputs": [
    {
     "name": "stdout",
     "output_type": "stream",
     "text": [
      "Fitting 5 folds for each of 48 candidates, totalling 240 fits\n",
      "[CV] END clf__bootstrap=True, clf__max_depth=5, clf__max_features=sqrt, clf__min_samples_leaf=1, clf__min_samples_split=2, clf__n_estimators=100; total time=   0.5s\n",
      "[CV] END clf__bootstrap=True, clf__max_depth=5, clf__max_features=sqrt, clf__min_samples_leaf=1, clf__min_samples_split=2, clf__n_estimators=100; total time=   0.5s\n",
      "[CV] END clf__bootstrap=True, clf__max_depth=5, clf__max_features=sqrt, clf__min_samples_leaf=1, clf__min_samples_split=2, clf__n_estimators=100; total time=   0.5s\n",
      "[CV] END clf__bootstrap=True, clf__max_depth=5, clf__max_features=sqrt, clf__min_samples_leaf=1, clf__min_samples_split=2, clf__n_estimators=100; total time=   0.5s\n",
      "[CV] END clf__bootstrap=True, clf__max_depth=5, clf__max_features=sqrt, clf__min_samples_leaf=1, clf__min_samples_split=2, clf__n_estimators=100; total time=   0.5s\n",
      "[CV] END clf__bootstrap=True, clf__max_depth=5, clf__max_features=sqrt, clf__min_samples_leaf=1, clf__min_samples_split=2, clf__n_estimators=500; total time=   2.8s\n",
      "[CV] END clf__bootstrap=True, clf__max_depth=5, clf__max_features=sqrt, clf__min_samples_leaf=1, clf__min_samples_split=2, clf__n_estimators=500; total time=   3.0s\n",
      "[CV] END clf__bootstrap=True, clf__max_depth=5, clf__max_features=sqrt, clf__min_samples_leaf=1, clf__min_samples_split=2, clf__n_estimators=500; total time=   2.9s\n",
      "[CV] END clf__bootstrap=True, clf__max_depth=5, clf__max_features=sqrt, clf__min_samples_leaf=1, clf__min_samples_split=2, clf__n_estimators=500; total time=   2.7s\n",
      "[CV] END clf__bootstrap=True, clf__max_depth=5, clf__max_features=sqrt, clf__min_samples_leaf=1, clf__min_samples_split=2, clf__n_estimators=500; total time=   3.0s\n",
      "[CV] END clf__bootstrap=True, clf__max_depth=5, clf__max_features=sqrt, clf__min_samples_leaf=1, clf__min_samples_split=2, clf__n_estimators=1000; total time=   5.9s\n",
      "[CV] END clf__bootstrap=True, clf__max_depth=5, clf__max_features=sqrt, clf__min_samples_leaf=1, clf__min_samples_split=2, clf__n_estimators=1000; total time=   6.5s\n",
      "[CV] END clf__bootstrap=True, clf__max_depth=5, clf__max_features=sqrt, clf__min_samples_leaf=1, clf__min_samples_split=2, clf__n_estimators=1000; total time=   8.4s\n",
      "[CV] END clf__bootstrap=True, clf__max_depth=5, clf__max_features=sqrt, clf__min_samples_leaf=1, clf__min_samples_split=2, clf__n_estimators=1000; total time=   6.2s\n",
      "[CV] END clf__bootstrap=True, clf__max_depth=5, clf__max_features=sqrt, clf__min_samples_leaf=1, clf__min_samples_split=2, clf__n_estimators=1000; total time=   6.2s\n",
      "[CV] END clf__bootstrap=True, clf__max_depth=5, clf__max_features=sqrt, clf__min_samples_leaf=1, clf__min_samples_split=5, clf__n_estimators=100; total time=   0.5s\n",
      "[CV] END clf__bootstrap=True, clf__max_depth=5, clf__max_features=sqrt, clf__min_samples_leaf=1, clf__min_samples_split=5, clf__n_estimators=100; total time=   0.5s\n",
      "[CV] END clf__bootstrap=True, clf__max_depth=5, clf__max_features=sqrt, clf__min_samples_leaf=1, clf__min_samples_split=5, clf__n_estimators=100; total time=   0.5s\n",
      "[CV] END clf__bootstrap=True, clf__max_depth=5, clf__max_features=sqrt, clf__min_samples_leaf=1, clf__min_samples_split=5, clf__n_estimators=100; total time=   0.5s\n",
      "[CV] END clf__bootstrap=True, clf__max_depth=5, clf__max_features=sqrt, clf__min_samples_leaf=1, clf__min_samples_split=5, clf__n_estimators=100; total time=   0.5s\n",
      "[CV] END clf__bootstrap=True, clf__max_depth=5, clf__max_features=sqrt, clf__min_samples_leaf=1, clf__min_samples_split=5, clf__n_estimators=500; total time=   2.8s\n",
      "[CV] END clf__bootstrap=True, clf__max_depth=5, clf__max_features=sqrt, clf__min_samples_leaf=1, clf__min_samples_split=5, clf__n_estimators=500; total time=   3.0s\n",
      "[CV] END clf__bootstrap=True, clf__max_depth=5, clf__max_features=sqrt, clf__min_samples_leaf=1, clf__min_samples_split=5, clf__n_estimators=500; total time=   2.9s\n",
      "[CV] END clf__bootstrap=True, clf__max_depth=5, clf__max_features=sqrt, clf__min_samples_leaf=1, clf__min_samples_split=5, clf__n_estimators=500; total time=   2.7s\n",
      "[CV] END clf__bootstrap=True, clf__max_depth=5, clf__max_features=sqrt, clf__min_samples_leaf=1, clf__min_samples_split=5, clf__n_estimators=500; total time=   3.1s\n",
      "[CV] END clf__bootstrap=True, clf__max_depth=5, clf__max_features=sqrt, clf__min_samples_leaf=1, clf__min_samples_split=5, clf__n_estimators=1000; total time=   5.7s\n",
      "[CV] END clf__bootstrap=True, clf__max_depth=5, clf__max_features=sqrt, clf__min_samples_leaf=1, clf__min_samples_split=5, clf__n_estimators=1000; total time=   6.1s\n",
      "[CV] END clf__bootstrap=True, clf__max_depth=5, clf__max_features=sqrt, clf__min_samples_leaf=1, clf__min_samples_split=5, clf__n_estimators=1000; total time=   5.9s\n",
      "[CV] END clf__bootstrap=True, clf__max_depth=5, clf__max_features=sqrt, clf__min_samples_leaf=1, clf__min_samples_split=5, clf__n_estimators=1000; total time=   5.5s\n",
      "[CV] END clf__bootstrap=True, clf__max_depth=5, clf__max_features=sqrt, clf__min_samples_leaf=1, clf__min_samples_split=5, clf__n_estimators=1000; total time=   6.2s\n",
      "[CV] END clf__bootstrap=True, clf__max_depth=5, clf__max_features=sqrt, clf__min_samples_leaf=5, clf__min_samples_split=2, clf__n_estimators=100; total time=   0.5s\n",
      "[CV] END clf__bootstrap=True, clf__max_depth=5, clf__max_features=sqrt, clf__min_samples_leaf=5, clf__min_samples_split=2, clf__n_estimators=100; total time=   0.5s\n",
      "[CV] END clf__bootstrap=True, clf__max_depth=5, clf__max_features=sqrt, clf__min_samples_leaf=5, clf__min_samples_split=2, clf__n_estimators=100; total time=   0.5s\n",
      "[CV] END clf__bootstrap=True, clf__max_depth=5, clf__max_features=sqrt, clf__min_samples_leaf=5, clf__min_samples_split=2, clf__n_estimators=100; total time=   0.4s\n",
      "[CV] END clf__bootstrap=True, clf__max_depth=5, clf__max_features=sqrt, clf__min_samples_leaf=5, clf__min_samples_split=2, clf__n_estimators=100; total time=   0.5s\n",
      "[CV] END clf__bootstrap=True, clf__max_depth=5, clf__max_features=sqrt, clf__min_samples_leaf=5, clf__min_samples_split=2, clf__n_estimators=500; total time=   2.7s\n",
      "[CV] END clf__bootstrap=True, clf__max_depth=5, clf__max_features=sqrt, clf__min_samples_leaf=5, clf__min_samples_split=2, clf__n_estimators=500; total time=   2.8s\n",
      "[CV] END clf__bootstrap=True, clf__max_depth=5, clf__max_features=sqrt, clf__min_samples_leaf=5, clf__min_samples_split=2, clf__n_estimators=500; total time=   2.7s\n",
      "[CV] END clf__bootstrap=True, clf__max_depth=5, clf__max_features=sqrt, clf__min_samples_leaf=5, clf__min_samples_split=2, clf__n_estimators=500; total time=   2.6s\n",
      "[CV] END clf__bootstrap=True, clf__max_depth=5, clf__max_features=sqrt, clf__min_samples_leaf=5, clf__min_samples_split=2, clf__n_estimators=500; total time=   2.9s\n",
      "[CV] END clf__bootstrap=True, clf__max_depth=5, clf__max_features=sqrt, clf__min_samples_leaf=5, clf__min_samples_split=2, clf__n_estimators=1000; total time=   5.5s\n",
      "[CV] END clf__bootstrap=True, clf__max_depth=5, clf__max_features=sqrt, clf__min_samples_leaf=5, clf__min_samples_split=2, clf__n_estimators=1000; total time=   5.8s\n",
      "[CV] END clf__bootstrap=True, clf__max_depth=5, clf__max_features=sqrt, clf__min_samples_leaf=5, clf__min_samples_split=2, clf__n_estimators=1000; total time=   5.7s\n",
      "[CV] END clf__bootstrap=True, clf__max_depth=5, clf__max_features=sqrt, clf__min_samples_leaf=5, clf__min_samples_split=2, clf__n_estimators=1000; total time=   7.1s\n",
      "[CV] END clf__bootstrap=True, clf__max_depth=5, clf__max_features=sqrt, clf__min_samples_leaf=5, clf__min_samples_split=2, clf__n_estimators=1000; total time=   7.3s\n",
      "[CV] END clf__bootstrap=True, clf__max_depth=5, clf__max_features=sqrt, clf__min_samples_leaf=5, clf__min_samples_split=5, clf__n_estimators=100; total time=   0.5s\n",
      "[CV] END clf__bootstrap=True, clf__max_depth=5, clf__max_features=sqrt, clf__min_samples_leaf=5, clf__min_samples_split=5, clf__n_estimators=100; total time=   0.5s\n",
      "[CV] END clf__bootstrap=True, clf__max_depth=5, clf__max_features=sqrt, clf__min_samples_leaf=5, clf__min_samples_split=5, clf__n_estimators=100; total time=   0.5s\n",
      "[CV] END clf__bootstrap=True, clf__max_depth=5, clf__max_features=sqrt, clf__min_samples_leaf=5, clf__min_samples_split=5, clf__n_estimators=100; total time=   0.4s\n",
      "[CV] END clf__bootstrap=True, clf__max_depth=5, clf__max_features=sqrt, clf__min_samples_leaf=5, clf__min_samples_split=5, clf__n_estimators=100; total time=   0.5s\n"
     ]
    },
    {
     "name": "stdout",
     "output_type": "stream",
     "text": [
      "[CV] END clf__bootstrap=True, clf__max_depth=5, clf__max_features=sqrt, clf__min_samples_leaf=5, clf__min_samples_split=5, clf__n_estimators=500; total time=   2.8s\n",
      "[CV] END clf__bootstrap=True, clf__max_depth=5, clf__max_features=sqrt, clf__min_samples_leaf=5, clf__min_samples_split=5, clf__n_estimators=500; total time=   2.9s\n",
      "[CV] END clf__bootstrap=True, clf__max_depth=5, clf__max_features=sqrt, clf__min_samples_leaf=5, clf__min_samples_split=5, clf__n_estimators=500; total time=   2.9s\n",
      "[CV] END clf__bootstrap=True, clf__max_depth=5, clf__max_features=sqrt, clf__min_samples_leaf=5, clf__min_samples_split=5, clf__n_estimators=500; total time=   2.5s\n",
      "[CV] END clf__bootstrap=True, clf__max_depth=5, clf__max_features=sqrt, clf__min_samples_leaf=5, clf__min_samples_split=5, clf__n_estimators=500; total time=   2.8s\n",
      "[CV] END clf__bootstrap=True, clf__max_depth=5, clf__max_features=sqrt, clf__min_samples_leaf=5, clf__min_samples_split=5, clf__n_estimators=1000; total time=   5.5s\n",
      "[CV] END clf__bootstrap=True, clf__max_depth=5, clf__max_features=sqrt, clf__min_samples_leaf=5, clf__min_samples_split=5, clf__n_estimators=1000; total time=   5.8s\n",
      "[CV] END clf__bootstrap=True, clf__max_depth=5, clf__max_features=sqrt, clf__min_samples_leaf=5, clf__min_samples_split=5, clf__n_estimators=1000; total time=   5.7s\n",
      "[CV] END clf__bootstrap=True, clf__max_depth=5, clf__max_features=sqrt, clf__min_samples_leaf=5, clf__min_samples_split=5, clf__n_estimators=1000; total time=   5.2s\n",
      "[CV] END clf__bootstrap=True, clf__max_depth=5, clf__max_features=sqrt, clf__min_samples_leaf=5, clf__min_samples_split=5, clf__n_estimators=1000; total time=   5.8s\n",
      "[CV] END clf__bootstrap=True, clf__max_depth=10, clf__max_features=sqrt, clf__min_samples_leaf=1, clf__min_samples_split=2, clf__n_estimators=100; total time=   0.5s\n",
      "[CV] END clf__bootstrap=True, clf__max_depth=10, clf__max_features=sqrt, clf__min_samples_leaf=1, clf__min_samples_split=2, clf__n_estimators=100; total time=   0.6s\n",
      "[CV] END clf__bootstrap=True, clf__max_depth=10, clf__max_features=sqrt, clf__min_samples_leaf=1, clf__min_samples_split=2, clf__n_estimators=100; total time=   0.5s\n",
      "[CV] END clf__bootstrap=True, clf__max_depth=10, clf__max_features=sqrt, clf__min_samples_leaf=1, clf__min_samples_split=2, clf__n_estimators=100; total time=   0.5s\n",
      "[CV] END clf__bootstrap=True, clf__max_depth=10, clf__max_features=sqrt, clf__min_samples_leaf=1, clf__min_samples_split=2, clf__n_estimators=100; total time=   0.5s\n",
      "[CV] END clf__bootstrap=True, clf__max_depth=10, clf__max_features=sqrt, clf__min_samples_leaf=1, clf__min_samples_split=2, clf__n_estimators=500; total time=   2.8s\n",
      "[CV] END clf__bootstrap=True, clf__max_depth=10, clf__max_features=sqrt, clf__min_samples_leaf=1, clf__min_samples_split=2, clf__n_estimators=500; total time=   3.0s\n",
      "[CV] END clf__bootstrap=True, clf__max_depth=10, clf__max_features=sqrt, clf__min_samples_leaf=1, clf__min_samples_split=2, clf__n_estimators=500; total time=   2.9s\n",
      "[CV] END clf__bootstrap=True, clf__max_depth=10, clf__max_features=sqrt, clf__min_samples_leaf=1, clf__min_samples_split=2, clf__n_estimators=500; total time=   2.7s\n",
      "[CV] END clf__bootstrap=True, clf__max_depth=10, clf__max_features=sqrt, clf__min_samples_leaf=1, clf__min_samples_split=2, clf__n_estimators=500; total time=   3.0s\n",
      "[CV] END clf__bootstrap=True, clf__max_depth=10, clf__max_features=sqrt, clf__min_samples_leaf=1, clf__min_samples_split=2, clf__n_estimators=1000; total time=   6.0s\n",
      "[CV] END clf__bootstrap=True, clf__max_depth=10, clf__max_features=sqrt, clf__min_samples_leaf=1, clf__min_samples_split=2, clf__n_estimators=1000; total time=   6.2s\n",
      "[CV] END clf__bootstrap=True, clf__max_depth=10, clf__max_features=sqrt, clf__min_samples_leaf=1, clf__min_samples_split=2, clf__n_estimators=1000; total time=   5.9s\n",
      "[CV] END clf__bootstrap=True, clf__max_depth=10, clf__max_features=sqrt, clf__min_samples_leaf=1, clf__min_samples_split=2, clf__n_estimators=1000; total time=   5.5s\n",
      "[CV] END clf__bootstrap=True, clf__max_depth=10, clf__max_features=sqrt, clf__min_samples_leaf=1, clf__min_samples_split=2, clf__n_estimators=1000; total time=   6.9s\n",
      "[CV] END clf__bootstrap=True, clf__max_depth=10, clf__max_features=sqrt, clf__min_samples_leaf=1, clf__min_samples_split=5, clf__n_estimators=100; total time=   0.9s\n",
      "[CV] END clf__bootstrap=True, clf__max_depth=10, clf__max_features=sqrt, clf__min_samples_leaf=1, clf__min_samples_split=5, clf__n_estimators=100; total time=   1.0s\n",
      "[CV] END clf__bootstrap=True, clf__max_depth=10, clf__max_features=sqrt, clf__min_samples_leaf=1, clf__min_samples_split=5, clf__n_estimators=100; total time=   0.9s\n",
      "[CV] END clf__bootstrap=True, clf__max_depth=10, clf__max_features=sqrt, clf__min_samples_leaf=1, clf__min_samples_split=5, clf__n_estimators=100; total time=   0.8s\n",
      "[CV] END clf__bootstrap=True, clf__max_depth=10, clf__max_features=sqrt, clf__min_samples_leaf=1, clf__min_samples_split=5, clf__n_estimators=100; total time=   0.7s\n",
      "[CV] END clf__bootstrap=True, clf__max_depth=10, clf__max_features=sqrt, clf__min_samples_leaf=1, clf__min_samples_split=5, clf__n_estimators=500; total time=   3.4s\n",
      "[CV] END clf__bootstrap=True, clf__max_depth=10, clf__max_features=sqrt, clf__min_samples_leaf=1, clf__min_samples_split=5, clf__n_estimators=500; total time=   3.7s\n",
      "[CV] END clf__bootstrap=True, clf__max_depth=10, clf__max_features=sqrt, clf__min_samples_leaf=1, clf__min_samples_split=5, clf__n_estimators=500; total time=   3.0s\n",
      "[CV] END clf__bootstrap=True, clf__max_depth=10, clf__max_features=sqrt, clf__min_samples_leaf=1, clf__min_samples_split=5, clf__n_estimators=500; total time=   2.7s\n",
      "[CV] END clf__bootstrap=True, clf__max_depth=10, clf__max_features=sqrt, clf__min_samples_leaf=1, clf__min_samples_split=5, clf__n_estimators=500; total time=   3.2s\n",
      "[CV] END clf__bootstrap=True, clf__max_depth=10, clf__max_features=sqrt, clf__min_samples_leaf=1, clf__min_samples_split=5, clf__n_estimators=1000; total time=   5.8s\n",
      "[CV] END clf__bootstrap=True, clf__max_depth=10, clf__max_features=sqrt, clf__min_samples_leaf=1, clf__min_samples_split=5, clf__n_estimators=1000; total time=   6.1s\n",
      "[CV] END clf__bootstrap=True, clf__max_depth=10, clf__max_features=sqrt, clf__min_samples_leaf=1, clf__min_samples_split=5, clf__n_estimators=1000; total time=   6.0s\n",
      "[CV] END clf__bootstrap=True, clf__max_depth=10, clf__max_features=sqrt, clf__min_samples_leaf=1, clf__min_samples_split=5, clf__n_estimators=1000; total time=   5.4s\n",
      "[CV] END clf__bootstrap=True, clf__max_depth=10, clf__max_features=sqrt, clf__min_samples_leaf=1, clf__min_samples_split=5, clf__n_estimators=1000; total time=   6.3s\n",
      "[CV] END clf__bootstrap=True, clf__max_depth=10, clf__max_features=sqrt, clf__min_samples_leaf=5, clf__min_samples_split=2, clf__n_estimators=100; total time=   0.5s\n",
      "[CV] END clf__bootstrap=True, clf__max_depth=10, clf__max_features=sqrt, clf__min_samples_leaf=5, clf__min_samples_split=2, clf__n_estimators=100; total time=   0.5s\n",
      "[CV] END clf__bootstrap=True, clf__max_depth=10, clf__max_features=sqrt, clf__min_samples_leaf=5, clf__min_samples_split=2, clf__n_estimators=100; total time=   0.5s\n",
      "[CV] END clf__bootstrap=True, clf__max_depth=10, clf__max_features=sqrt, clf__min_samples_leaf=5, clf__min_samples_split=2, clf__n_estimators=100; total time=   0.4s\n",
      "[CV] END clf__bootstrap=True, clf__max_depth=10, clf__max_features=sqrt, clf__min_samples_leaf=5, clf__min_samples_split=2, clf__n_estimators=100; total time=   0.5s\n",
      "[CV] END clf__bootstrap=True, clf__max_depth=10, clf__max_features=sqrt, clf__min_samples_leaf=5, clf__min_samples_split=2, clf__n_estimators=500; total time=   2.7s\n",
      "[CV] END clf__bootstrap=True, clf__max_depth=10, clf__max_features=sqrt, clf__min_samples_leaf=5, clf__min_samples_split=2, clf__n_estimators=500; total time=   2.8s\n",
      "[CV] END clf__bootstrap=True, clf__max_depth=10, clf__max_features=sqrt, clf__min_samples_leaf=5, clf__min_samples_split=2, clf__n_estimators=500; total time=   2.7s\n",
      "[CV] END clf__bootstrap=True, clf__max_depth=10, clf__max_features=sqrt, clf__min_samples_leaf=5, clf__min_samples_split=2, clf__n_estimators=500; total time=   2.6s\n",
      "[CV] END clf__bootstrap=True, clf__max_depth=10, clf__max_features=sqrt, clf__min_samples_leaf=5, clf__min_samples_split=2, clf__n_estimators=500; total time=   2.8s\n"
     ]
    },
    {
     "name": "stdout",
     "output_type": "stream",
     "text": [
      "[CV] END clf__bootstrap=True, clf__max_depth=10, clf__max_features=sqrt, clf__min_samples_leaf=5, clf__min_samples_split=2, clf__n_estimators=1000; total time=   5.5s\n",
      "[CV] END clf__bootstrap=True, clf__max_depth=10, clf__max_features=sqrt, clf__min_samples_leaf=5, clf__min_samples_split=2, clf__n_estimators=1000; total time=   5.8s\n",
      "[CV] END clf__bootstrap=True, clf__max_depth=10, clf__max_features=sqrt, clf__min_samples_leaf=5, clf__min_samples_split=2, clf__n_estimators=1000; total time=   5.7s\n",
      "[CV] END clf__bootstrap=True, clf__max_depth=10, clf__max_features=sqrt, clf__min_samples_leaf=5, clf__min_samples_split=2, clf__n_estimators=1000; total time=   5.2s\n",
      "[CV] END clf__bootstrap=True, clf__max_depth=10, clf__max_features=sqrt, clf__min_samples_leaf=5, clf__min_samples_split=2, clf__n_estimators=1000; total time=   6.0s\n",
      "[CV] END clf__bootstrap=True, clf__max_depth=10, clf__max_features=sqrt, clf__min_samples_leaf=5, clf__min_samples_split=5, clf__n_estimators=100; total time=   0.5s\n",
      "[CV] END clf__bootstrap=True, clf__max_depth=10, clf__max_features=sqrt, clf__min_samples_leaf=5, clf__min_samples_split=5, clf__n_estimators=100; total time=   0.5s\n",
      "[CV] END clf__bootstrap=True, clf__max_depth=10, clf__max_features=sqrt, clf__min_samples_leaf=5, clf__min_samples_split=5, clf__n_estimators=100; total time=   0.5s\n",
      "[CV] END clf__bootstrap=True, clf__max_depth=10, clf__max_features=sqrt, clf__min_samples_leaf=5, clf__min_samples_split=5, clf__n_estimators=100; total time=   0.4s\n",
      "[CV] END clf__bootstrap=True, clf__max_depth=10, clf__max_features=sqrt, clf__min_samples_leaf=5, clf__min_samples_split=5, clf__n_estimators=100; total time=   0.5s\n",
      "[CV] END clf__bootstrap=True, clf__max_depth=10, clf__max_features=sqrt, clf__min_samples_leaf=5, clf__min_samples_split=5, clf__n_estimators=500; total time=   2.8s\n",
      "[CV] END clf__bootstrap=True, clf__max_depth=10, clf__max_features=sqrt, clf__min_samples_leaf=5, clf__min_samples_split=5, clf__n_estimators=500; total time=   3.6s\n",
      "[CV] END clf__bootstrap=True, clf__max_depth=10, clf__max_features=sqrt, clf__min_samples_leaf=5, clf__min_samples_split=5, clf__n_estimators=500; total time=   4.2s\n",
      "[CV] END clf__bootstrap=True, clf__max_depth=10, clf__max_features=sqrt, clf__min_samples_leaf=5, clf__min_samples_split=5, clf__n_estimators=500; total time=   3.1s\n",
      "[CV] END clf__bootstrap=True, clf__max_depth=10, clf__max_features=sqrt, clf__min_samples_leaf=5, clf__min_samples_split=5, clf__n_estimators=500; total time=   3.5s\n",
      "[CV] END clf__bootstrap=True, clf__max_depth=10, clf__max_features=sqrt, clf__min_samples_leaf=5, clf__min_samples_split=5, clf__n_estimators=1000; total time=   5.5s\n",
      "[CV] END clf__bootstrap=True, clf__max_depth=10, clf__max_features=sqrt, clf__min_samples_leaf=5, clf__min_samples_split=5, clf__n_estimators=1000; total time=   5.8s\n",
      "[CV] END clf__bootstrap=True, clf__max_depth=10, clf__max_features=sqrt, clf__min_samples_leaf=5, clf__min_samples_split=5, clf__n_estimators=1000; total time=   5.8s\n",
      "[CV] END clf__bootstrap=True, clf__max_depth=10, clf__max_features=sqrt, clf__min_samples_leaf=5, clf__min_samples_split=5, clf__n_estimators=1000; total time=   5.4s\n",
      "[CV] END clf__bootstrap=True, clf__max_depth=10, clf__max_features=sqrt, clf__min_samples_leaf=5, clf__min_samples_split=5, clf__n_estimators=1000; total time=   6.0s\n",
      "[CV] END clf__bootstrap=False, clf__max_depth=5, clf__max_features=sqrt, clf__min_samples_leaf=1, clf__min_samples_split=2, clf__n_estimators=100; total time=   0.6s\n",
      "[CV] END clf__bootstrap=False, clf__max_depth=5, clf__max_features=sqrt, clf__min_samples_leaf=1, clf__min_samples_split=2, clf__n_estimators=100; total time=   0.7s\n",
      "[CV] END clf__bootstrap=False, clf__max_depth=5, clf__max_features=sqrt, clf__min_samples_leaf=1, clf__min_samples_split=2, clf__n_estimators=100; total time=   0.7s\n",
      "[CV] END clf__bootstrap=False, clf__max_depth=5, clf__max_features=sqrt, clf__min_samples_leaf=1, clf__min_samples_split=2, clf__n_estimators=100; total time=   0.6s\n",
      "[CV] END clf__bootstrap=False, clf__max_depth=5, clf__max_features=sqrt, clf__min_samples_leaf=1, clf__min_samples_split=2, clf__n_estimators=100; total time=   0.7s\n",
      "[CV] END clf__bootstrap=False, clf__max_depth=5, clf__max_features=sqrt, clf__min_samples_leaf=1, clf__min_samples_split=2, clf__n_estimators=500; total time=   3.4s\n",
      "[CV] END clf__bootstrap=False, clf__max_depth=5, clf__max_features=sqrt, clf__min_samples_leaf=1, clf__min_samples_split=2, clf__n_estimators=500; total time=   3.9s\n",
      "[CV] END clf__bootstrap=False, clf__max_depth=5, clf__max_features=sqrt, clf__min_samples_leaf=1, clf__min_samples_split=2, clf__n_estimators=500; total time=   3.7s\n",
      "[CV] END clf__bootstrap=False, clf__max_depth=5, clf__max_features=sqrt, clf__min_samples_leaf=1, clf__min_samples_split=2, clf__n_estimators=500; total time=   3.3s\n",
      "[CV] END clf__bootstrap=False, clf__max_depth=5, clf__max_features=sqrt, clf__min_samples_leaf=1, clf__min_samples_split=2, clf__n_estimators=500; total time=   3.9s\n",
      "[CV] END clf__bootstrap=False, clf__max_depth=5, clf__max_features=sqrt, clf__min_samples_leaf=1, clf__min_samples_split=2, clf__n_estimators=1000; total time=   6.9s\n",
      "[CV] END clf__bootstrap=False, clf__max_depth=5, clf__max_features=sqrt, clf__min_samples_leaf=1, clf__min_samples_split=2, clf__n_estimators=1000; total time=   7.8s\n",
      "[CV] END clf__bootstrap=False, clf__max_depth=5, clf__max_features=sqrt, clf__min_samples_leaf=1, clf__min_samples_split=2, clf__n_estimators=1000; total time=   7.6s\n",
      "[CV] END clf__bootstrap=False, clf__max_depth=5, clf__max_features=sqrt, clf__min_samples_leaf=1, clf__min_samples_split=2, clf__n_estimators=1000; total time=   6.8s\n",
      "[CV] END clf__bootstrap=False, clf__max_depth=5, clf__max_features=sqrt, clf__min_samples_leaf=1, clf__min_samples_split=2, clf__n_estimators=1000; total time=   7.9s\n",
      "[CV] END clf__bootstrap=False, clf__max_depth=5, clf__max_features=sqrt, clf__min_samples_leaf=1, clf__min_samples_split=5, clf__n_estimators=100; total time=   0.6s\n",
      "[CV] END clf__bootstrap=False, clf__max_depth=5, clf__max_features=sqrt, clf__min_samples_leaf=1, clf__min_samples_split=5, clf__n_estimators=100; total time=   0.8s\n",
      "[CV] END clf__bootstrap=False, clf__max_depth=5, clf__max_features=sqrt, clf__min_samples_leaf=1, clf__min_samples_split=5, clf__n_estimators=100; total time=   0.7s\n",
      "[CV] END clf__bootstrap=False, clf__max_depth=5, clf__max_features=sqrt, clf__min_samples_leaf=1, clf__min_samples_split=5, clf__n_estimators=100; total time=   0.7s\n",
      "[CV] END clf__bootstrap=False, clf__max_depth=5, clf__max_features=sqrt, clf__min_samples_leaf=1, clf__min_samples_split=5, clf__n_estimators=100; total time=   0.9s\n",
      "[CV] END clf__bootstrap=False, clf__max_depth=5, clf__max_features=sqrt, clf__min_samples_leaf=1, clf__min_samples_split=5, clf__n_estimators=500; total time=   5.6s\n",
      "[CV] END clf__bootstrap=False, clf__max_depth=5, clf__max_features=sqrt, clf__min_samples_leaf=1, clf__min_samples_split=5, clf__n_estimators=500; total time=   4.6s\n",
      "[CV] END clf__bootstrap=False, clf__max_depth=5, clf__max_features=sqrt, clf__min_samples_leaf=1, clf__min_samples_split=5, clf__n_estimators=500; total time=   4.3s\n",
      "[CV] END clf__bootstrap=False, clf__max_depth=5, clf__max_features=sqrt, clf__min_samples_leaf=1, clf__min_samples_split=5, clf__n_estimators=500; total time=   3.3s\n",
      "[CV] END clf__bootstrap=False, clf__max_depth=5, clf__max_features=sqrt, clf__min_samples_leaf=1, clf__min_samples_split=5, clf__n_estimators=500; total time=   3.9s\n",
      "[CV] END clf__bootstrap=False, clf__max_depth=5, clf__max_features=sqrt, clf__min_samples_leaf=1, clf__min_samples_split=5, clf__n_estimators=1000; total time=   6.9s\n",
      "[CV] END clf__bootstrap=False, clf__max_depth=5, clf__max_features=sqrt, clf__min_samples_leaf=1, clf__min_samples_split=5, clf__n_estimators=1000; total time=   7.8s\n",
      "[CV] END clf__bootstrap=False, clf__max_depth=5, clf__max_features=sqrt, clf__min_samples_leaf=1, clf__min_samples_split=5, clf__n_estimators=1000; total time=   7.6s\n",
      "[CV] END clf__bootstrap=False, clf__max_depth=5, clf__max_features=sqrt, clf__min_samples_leaf=1, clf__min_samples_split=5, clf__n_estimators=1000; total time=   6.7s\n",
      "[CV] END clf__bootstrap=False, clf__max_depth=5, clf__max_features=sqrt, clf__min_samples_leaf=1, clf__min_samples_split=5, clf__n_estimators=1000; total time=   7.8s\n"
     ]
    },
    {
     "name": "stdout",
     "output_type": "stream",
     "text": [
      "[CV] END clf__bootstrap=False, clf__max_depth=5, clf__max_features=sqrt, clf__min_samples_leaf=5, clf__min_samples_split=2, clf__n_estimators=100; total time=   0.6s\n",
      "[CV] END clf__bootstrap=False, clf__max_depth=5, clf__max_features=sqrt, clf__min_samples_leaf=5, clf__min_samples_split=2, clf__n_estimators=100; total time=   0.7s\n",
      "[CV] END clf__bootstrap=False, clf__max_depth=5, clf__max_features=sqrt, clf__min_samples_leaf=5, clf__min_samples_split=2, clf__n_estimators=100; total time=   0.6s\n",
      "[CV] END clf__bootstrap=False, clf__max_depth=5, clf__max_features=sqrt, clf__min_samples_leaf=5, clf__min_samples_split=2, clf__n_estimators=100; total time=   0.6s\n",
      "[CV] END clf__bootstrap=False, clf__max_depth=5, clf__max_features=sqrt, clf__min_samples_leaf=5, clf__min_samples_split=2, clf__n_estimators=100; total time=   0.7s\n",
      "[CV] END clf__bootstrap=False, clf__max_depth=5, clf__max_features=sqrt, clf__min_samples_leaf=5, clf__min_samples_split=2, clf__n_estimators=500; total time=   3.2s\n",
      "[CV] END clf__bootstrap=False, clf__max_depth=5, clf__max_features=sqrt, clf__min_samples_leaf=5, clf__min_samples_split=2, clf__n_estimators=500; total time=   3.6s\n",
      "[CV] END clf__bootstrap=False, clf__max_depth=5, clf__max_features=sqrt, clf__min_samples_leaf=5, clf__min_samples_split=2, clf__n_estimators=500; total time=   3.5s\n",
      "[CV] END clf__bootstrap=False, clf__max_depth=5, clf__max_features=sqrt, clf__min_samples_leaf=5, clf__min_samples_split=2, clf__n_estimators=500; total time=   3.2s\n",
      "[CV] END clf__bootstrap=False, clf__max_depth=5, clf__max_features=sqrt, clf__min_samples_leaf=5, clf__min_samples_split=2, clf__n_estimators=500; total time=   3.7s\n",
      "[CV] END clf__bootstrap=False, clf__max_depth=5, clf__max_features=sqrt, clf__min_samples_leaf=5, clf__min_samples_split=2, clf__n_estimators=1000; total time=   6.7s\n",
      "[CV] END clf__bootstrap=False, clf__max_depth=5, clf__max_features=sqrt, clf__min_samples_leaf=5, clf__min_samples_split=2, clf__n_estimators=1000; total time=   7.5s\n",
      "[CV] END clf__bootstrap=False, clf__max_depth=5, clf__max_features=sqrt, clf__min_samples_leaf=5, clf__min_samples_split=2, clf__n_estimators=1000; total time=   7.4s\n",
      "[CV] END clf__bootstrap=False, clf__max_depth=5, clf__max_features=sqrt, clf__min_samples_leaf=5, clf__min_samples_split=2, clf__n_estimators=1000; total time=   8.7s\n",
      "[CV] END clf__bootstrap=False, clf__max_depth=5, clf__max_features=sqrt, clf__min_samples_leaf=5, clf__min_samples_split=2, clf__n_estimators=1000; total time=   8.8s\n",
      "[CV] END clf__bootstrap=False, clf__max_depth=5, clf__max_features=sqrt, clf__min_samples_leaf=5, clf__min_samples_split=5, clf__n_estimators=100; total time=   0.6s\n",
      "[CV] END clf__bootstrap=False, clf__max_depth=5, clf__max_features=sqrt, clf__min_samples_leaf=5, clf__min_samples_split=5, clf__n_estimators=100; total time=   0.7s\n",
      "[CV] END clf__bootstrap=False, clf__max_depth=5, clf__max_features=sqrt, clf__min_samples_leaf=5, clf__min_samples_split=5, clf__n_estimators=100; total time=   0.6s\n",
      "[CV] END clf__bootstrap=False, clf__max_depth=5, clf__max_features=sqrt, clf__min_samples_leaf=5, clf__min_samples_split=5, clf__n_estimators=100; total time=   0.6s\n",
      "[CV] END clf__bootstrap=False, clf__max_depth=5, clf__max_features=sqrt, clf__min_samples_leaf=5, clf__min_samples_split=5, clf__n_estimators=100; total time=   0.7s\n",
      "[CV] END clf__bootstrap=False, clf__max_depth=5, clf__max_features=sqrt, clf__min_samples_leaf=5, clf__min_samples_split=5, clf__n_estimators=500; total time=   3.3s\n",
      "[CV] END clf__bootstrap=False, clf__max_depth=5, clf__max_features=sqrt, clf__min_samples_leaf=5, clf__min_samples_split=5, clf__n_estimators=500; total time=   3.7s\n",
      "[CV] END clf__bootstrap=False, clf__max_depth=5, clf__max_features=sqrt, clf__min_samples_leaf=5, clf__min_samples_split=5, clf__n_estimators=500; total time=   3.5s\n",
      "[CV] END clf__bootstrap=False, clf__max_depth=5, clf__max_features=sqrt, clf__min_samples_leaf=5, clf__min_samples_split=5, clf__n_estimators=500; total time=   3.2s\n",
      "[CV] END clf__bootstrap=False, clf__max_depth=5, clf__max_features=sqrt, clf__min_samples_leaf=5, clf__min_samples_split=5, clf__n_estimators=500; total time=   3.7s\n",
      "[CV] END clf__bootstrap=False, clf__max_depth=5, clf__max_features=sqrt, clf__min_samples_leaf=5, clf__min_samples_split=5, clf__n_estimators=1000; total time=   6.6s\n",
      "[CV] END clf__bootstrap=False, clf__max_depth=5, clf__max_features=sqrt, clf__min_samples_leaf=5, clf__min_samples_split=5, clf__n_estimators=1000; total time=   7.4s\n",
      "[CV] END clf__bootstrap=False, clf__max_depth=5, clf__max_features=sqrt, clf__min_samples_leaf=5, clf__min_samples_split=5, clf__n_estimators=1000; total time=   7.1s\n",
      "[CV] END clf__bootstrap=False, clf__max_depth=5, clf__max_features=sqrt, clf__min_samples_leaf=5, clf__min_samples_split=5, clf__n_estimators=1000; total time=   6.5s\n",
      "[CV] END clf__bootstrap=False, clf__max_depth=5, clf__max_features=sqrt, clf__min_samples_leaf=5, clf__min_samples_split=5, clf__n_estimators=1000; total time=   7.5s\n",
      "[CV] END clf__bootstrap=False, clf__max_depth=10, clf__max_features=sqrt, clf__min_samples_leaf=1, clf__min_samples_split=2, clf__n_estimators=100; total time=   0.6s\n",
      "[CV] END clf__bootstrap=False, clf__max_depth=10, clf__max_features=sqrt, clf__min_samples_leaf=1, clf__min_samples_split=2, clf__n_estimators=100; total time=   0.7s\n",
      "[CV] END clf__bootstrap=False, clf__max_depth=10, clf__max_features=sqrt, clf__min_samples_leaf=1, clf__min_samples_split=2, clf__n_estimators=100; total time=   0.7s\n",
      "[CV] END clf__bootstrap=False, clf__max_depth=10, clf__max_features=sqrt, clf__min_samples_leaf=1, clf__min_samples_split=2, clf__n_estimators=100; total time=   0.6s\n",
      "[CV] END clf__bootstrap=False, clf__max_depth=10, clf__max_features=sqrt, clf__min_samples_leaf=1, clf__min_samples_split=2, clf__n_estimators=100; total time=   0.7s\n",
      "[CV] END clf__bootstrap=False, clf__max_depth=10, clf__max_features=sqrt, clf__min_samples_leaf=1, clf__min_samples_split=2, clf__n_estimators=500; total time=   3.4s\n",
      "[CV] END clf__bootstrap=False, clf__max_depth=10, clf__max_features=sqrt, clf__min_samples_leaf=1, clf__min_samples_split=2, clf__n_estimators=500; total time=   3.9s\n",
      "[CV] END clf__bootstrap=False, clf__max_depth=10, clf__max_features=sqrt, clf__min_samples_leaf=1, clf__min_samples_split=2, clf__n_estimators=500; total time=   3.8s\n",
      "[CV] END clf__bootstrap=False, clf__max_depth=10, clf__max_features=sqrt, clf__min_samples_leaf=1, clf__min_samples_split=2, clf__n_estimators=500; total time=   3.3s\n",
      "[CV] END clf__bootstrap=False, clf__max_depth=10, clf__max_features=sqrt, clf__min_samples_leaf=1, clf__min_samples_split=2, clf__n_estimators=500; total time=   3.9s\n",
      "[CV] END clf__bootstrap=False, clf__max_depth=10, clf__max_features=sqrt, clf__min_samples_leaf=1, clf__min_samples_split=2, clf__n_estimators=1000; total time=   7.0s\n",
      "[CV] END clf__bootstrap=False, clf__max_depth=10, clf__max_features=sqrt, clf__min_samples_leaf=1, clf__min_samples_split=2, clf__n_estimators=1000; total time=  10.1s\n",
      "[CV] END clf__bootstrap=False, clf__max_depth=10, clf__max_features=sqrt, clf__min_samples_leaf=1, clf__min_samples_split=2, clf__n_estimators=1000; total time=   8.9s\n",
      "[CV] END clf__bootstrap=False, clf__max_depth=10, clf__max_features=sqrt, clf__min_samples_leaf=1, clf__min_samples_split=2, clf__n_estimators=1000; total time=   6.8s\n",
      "[CV] END clf__bootstrap=False, clf__max_depth=10, clf__max_features=sqrt, clf__min_samples_leaf=1, clf__min_samples_split=2, clf__n_estimators=1000; total time=   7.9s\n",
      "[CV] END clf__bootstrap=False, clf__max_depth=10, clf__max_features=sqrt, clf__min_samples_leaf=1, clf__min_samples_split=5, clf__n_estimators=100; total time=   0.6s\n",
      "[CV] END clf__bootstrap=False, clf__max_depth=10, clf__max_features=sqrt, clf__min_samples_leaf=1, clf__min_samples_split=5, clf__n_estimators=100; total time=   0.7s\n",
      "[CV] END clf__bootstrap=False, clf__max_depth=10, clf__max_features=sqrt, clf__min_samples_leaf=1, clf__min_samples_split=5, clf__n_estimators=100; total time=   0.7s\n",
      "[CV] END clf__bootstrap=False, clf__max_depth=10, clf__max_features=sqrt, clf__min_samples_leaf=1, clf__min_samples_split=5, clf__n_estimators=100; total time=   0.6s\n",
      "[CV] END clf__bootstrap=False, clf__max_depth=10, clf__max_features=sqrt, clf__min_samples_leaf=1, clf__min_samples_split=5, clf__n_estimators=100; total time=   0.7s\n"
     ]
    },
    {
     "name": "stdout",
     "output_type": "stream",
     "text": [
      "[CV] END clf__bootstrap=False, clf__max_depth=10, clf__max_features=sqrt, clf__min_samples_leaf=1, clf__min_samples_split=5, clf__n_estimators=500; total time=   3.4s\n",
      "[CV] END clf__bootstrap=False, clf__max_depth=10, clf__max_features=sqrt, clf__min_samples_leaf=1, clf__min_samples_split=5, clf__n_estimators=500; total time=   3.8s\n",
      "[CV] END clf__bootstrap=False, clf__max_depth=10, clf__max_features=sqrt, clf__min_samples_leaf=1, clf__min_samples_split=5, clf__n_estimators=500; total time=   3.7s\n",
      "[CV] END clf__bootstrap=False, clf__max_depth=10, clf__max_features=sqrt, clf__min_samples_leaf=1, clf__min_samples_split=5, clf__n_estimators=500; total time=   3.3s\n",
      "[CV] END clf__bootstrap=False, clf__max_depth=10, clf__max_features=sqrt, clf__min_samples_leaf=1, clf__min_samples_split=5, clf__n_estimators=500; total time=   3.9s\n",
      "[CV] END clf__bootstrap=False, clf__max_depth=10, clf__max_features=sqrt, clf__min_samples_leaf=1, clf__min_samples_split=5, clf__n_estimators=1000; total time=   6.8s\n",
      "[CV] END clf__bootstrap=False, clf__max_depth=10, clf__max_features=sqrt, clf__min_samples_leaf=1, clf__min_samples_split=5, clf__n_estimators=1000; total time=   7.9s\n",
      "[CV] END clf__bootstrap=False, clf__max_depth=10, clf__max_features=sqrt, clf__min_samples_leaf=1, clf__min_samples_split=5, clf__n_estimators=1000; total time=   7.7s\n",
      "[CV] END clf__bootstrap=False, clf__max_depth=10, clf__max_features=sqrt, clf__min_samples_leaf=1, clf__min_samples_split=5, clf__n_estimators=1000; total time=   6.8s\n",
      "[CV] END clf__bootstrap=False, clf__max_depth=10, clf__max_features=sqrt, clf__min_samples_leaf=1, clf__min_samples_split=5, clf__n_estimators=1000; total time=   8.0s\n",
      "[CV] END clf__bootstrap=False, clf__max_depth=10, clf__max_features=sqrt, clf__min_samples_leaf=5, clf__min_samples_split=2, clf__n_estimators=100; total time=   0.6s\n",
      "[CV] END clf__bootstrap=False, clf__max_depth=10, clf__max_features=sqrt, clf__min_samples_leaf=5, clf__min_samples_split=2, clf__n_estimators=100; total time=   0.7s\n",
      "[CV] END clf__bootstrap=False, clf__max_depth=10, clf__max_features=sqrt, clf__min_samples_leaf=5, clf__min_samples_split=2, clf__n_estimators=100; total time=   0.6s\n",
      "[CV] END clf__bootstrap=False, clf__max_depth=10, clf__max_features=sqrt, clf__min_samples_leaf=5, clf__min_samples_split=2, clf__n_estimators=100; total time=   0.6s\n",
      "[CV] END clf__bootstrap=False, clf__max_depth=10, clf__max_features=sqrt, clf__min_samples_leaf=5, clf__min_samples_split=2, clf__n_estimators=100; total time=   0.7s\n",
      "[CV] END clf__bootstrap=False, clf__max_depth=10, clf__max_features=sqrt, clf__min_samples_leaf=5, clf__min_samples_split=2, clf__n_estimators=500; total time=   3.4s\n",
      "[CV] END clf__bootstrap=False, clf__max_depth=10, clf__max_features=sqrt, clf__min_samples_leaf=5, clf__min_samples_split=2, clf__n_estimators=500; total time=   3.6s\n",
      "[CV] END clf__bootstrap=False, clf__max_depth=10, clf__max_features=sqrt, clf__min_samples_leaf=5, clf__min_samples_split=2, clf__n_estimators=500; total time=   3.6s\n",
      "[CV] END clf__bootstrap=False, clf__max_depth=10, clf__max_features=sqrt, clf__min_samples_leaf=5, clf__min_samples_split=2, clf__n_estimators=500; total time=   4.6s\n",
      "[CV] END clf__bootstrap=False, clf__max_depth=10, clf__max_features=sqrt, clf__min_samples_leaf=5, clf__min_samples_split=2, clf__n_estimators=500; total time=   5.0s\n",
      "[CV] END clf__bootstrap=False, clf__max_depth=10, clf__max_features=sqrt, clf__min_samples_leaf=5, clf__min_samples_split=2, clf__n_estimators=1000; total time=   7.6s\n",
      "[CV] END clf__bootstrap=False, clf__max_depth=10, clf__max_features=sqrt, clf__min_samples_leaf=5, clf__min_samples_split=2, clf__n_estimators=1000; total time=   7.5s\n",
      "[CV] END clf__bootstrap=False, clf__max_depth=10, clf__max_features=sqrt, clf__min_samples_leaf=5, clf__min_samples_split=2, clf__n_estimators=1000; total time=   7.1s\n",
      "[CV] END clf__bootstrap=False, clf__max_depth=10, clf__max_features=sqrt, clf__min_samples_leaf=5, clf__min_samples_split=2, clf__n_estimators=1000; total time=   6.6s\n",
      "[CV] END clf__bootstrap=False, clf__max_depth=10, clf__max_features=sqrt, clf__min_samples_leaf=5, clf__min_samples_split=2, clf__n_estimators=1000; total time=   7.6s\n",
      "[CV] END clf__bootstrap=False, clf__max_depth=10, clf__max_features=sqrt, clf__min_samples_leaf=5, clf__min_samples_split=5, clf__n_estimators=100; total time=   0.6s\n",
      "[CV] END clf__bootstrap=False, clf__max_depth=10, clf__max_features=sqrt, clf__min_samples_leaf=5, clf__min_samples_split=5, clf__n_estimators=100; total time=   0.7s\n",
      "[CV] END clf__bootstrap=False, clf__max_depth=10, clf__max_features=sqrt, clf__min_samples_leaf=5, clf__min_samples_split=5, clf__n_estimators=100; total time=   0.7s\n",
      "[CV] END clf__bootstrap=False, clf__max_depth=10, clf__max_features=sqrt, clf__min_samples_leaf=5, clf__min_samples_split=5, clf__n_estimators=100; total time=   0.6s\n",
      "[CV] END clf__bootstrap=False, clf__max_depth=10, clf__max_features=sqrt, clf__min_samples_leaf=5, clf__min_samples_split=5, clf__n_estimators=100; total time=   0.7s\n",
      "[CV] END clf__bootstrap=False, clf__max_depth=10, clf__max_features=sqrt, clf__min_samples_leaf=5, clf__min_samples_split=5, clf__n_estimators=500; total time=   3.3s\n",
      "[CV] END clf__bootstrap=False, clf__max_depth=10, clf__max_features=sqrt, clf__min_samples_leaf=5, clf__min_samples_split=5, clf__n_estimators=500; total time=   3.6s\n",
      "[CV] END clf__bootstrap=False, clf__max_depth=10, clf__max_features=sqrt, clf__min_samples_leaf=5, clf__min_samples_split=5, clf__n_estimators=500; total time=   3.5s\n",
      "[CV] END clf__bootstrap=False, clf__max_depth=10, clf__max_features=sqrt, clf__min_samples_leaf=5, clf__min_samples_split=5, clf__n_estimators=500; total time=   3.2s\n",
      "[CV] END clf__bootstrap=False, clf__max_depth=10, clf__max_features=sqrt, clf__min_samples_leaf=5, clf__min_samples_split=5, clf__n_estimators=500; total time=   3.8s\n",
      "[CV] END clf__bootstrap=False, clf__max_depth=10, clf__max_features=sqrt, clf__min_samples_leaf=5, clf__min_samples_split=5, clf__n_estimators=1000; total time=   6.6s\n",
      "[CV] END clf__bootstrap=False, clf__max_depth=10, clf__max_features=sqrt, clf__min_samples_leaf=5, clf__min_samples_split=5, clf__n_estimators=1000; total time=   7.4s\n",
      "[CV] END clf__bootstrap=False, clf__max_depth=10, clf__max_features=sqrt, clf__min_samples_leaf=5, clf__min_samples_split=5, clf__n_estimators=1000; total time=   7.2s\n",
      "[CV] END clf__bootstrap=False, clf__max_depth=10, clf__max_features=sqrt, clf__min_samples_leaf=5, clf__min_samples_split=5, clf__n_estimators=1000; total time=   6.5s\n",
      "[CV] END clf__bootstrap=False, clf__max_depth=10, clf__max_features=sqrt, clf__min_samples_leaf=5, clf__min_samples_split=5, clf__n_estimators=1000; total time=   7.8s\n",
      "Best Hyperparameters: {'clf__bootstrap': False, 'clf__max_depth': 5, 'clf__max_features': 'sqrt', 'clf__min_samples_leaf': 1, 'clf__min_samples_split': 2, 'clf__n_estimators': 1000}\n",
      "Best training accuracy: 0.9975543388086943\n",
      "Test set accuracy score for best params: 1.0\n",
      "-------------------------------------------------------\n",
      "\n",
      "              precision    recall  f1-score   support\n",
      "\n",
      "           0       1.00      1.00      1.00       289\n",
      "           1       1.00      1.00      1.00       238\n",
      "\n",
      "    accuracy                           1.00       527\n",
      "   macro avg       1.00      1.00      1.00       527\n",
      "weighted avg       1.00      1.00      1.00       527\n",
      "\n",
      "Sensitivity(TPR): 1.0\n",
      "Specificity(TNR): 1.0\n",
      "Precision: 1.0\n",
      "F1 Score(Train): 1.0\n",
      "F1 Score(Test): 1.0\n",
      "-------------------------------------------------------\n",
      "\n"
     ]
    },
    {
     "data": {
      "image/png": "[encoded data removed]",
      "text/plain": [
       "<Figure size 640x480 with 1 Axes>"
      ]
     },
     "metadata": {},
     "output_type": "display_data"
    }
   ],
   "source": [
    "# Assemble our predictor variables (X) and our target (y)\n",
    "X = coordinates_df.drop('class', axis = 1)\n",
    "y = coordinates_df['class']\n",
    "\n",
    "rf = Pipeline([\n",
    "    ('SS', StandardScaler()),\n",
    "    ('clf', ensemble.RandomForestClassifier()),\n",
    "])  # Add closing parenthesis for Pipeline constructor\n",
    "\n",
    "tag = 'Random Forest Classifier - GridSearch CV'\n",
    "\n",
    "param_grid = {\n",
    "    'clf__n_estimators': [100, 500, 1000], #[100, 500, 1000, 1500, 2000],   # Number of trees in the forest\n",
    "    'clf__max_depth': [5, 10], #[None, 5, 10],  # Maximum depth of the tree\n",
    "    'clf__min_samples_split': [2, 5],  # Minimum number of samples required to split an internal node\n",
    "    'clf__min_samples_leaf': [1, 5],  # Minimum number of samples required to be at a leaf node\n",
    "    'clf__max_features': ['sqrt'],  # Number of features to consider when looking for the best split\n",
    "    'clf__bootstrap': [True, False], # Bootstrap\n",
    "}\n",
    "\n",
    "get_gridsearch_params(X, y, rf, param_grid, folds=5, view_cm = True)"
   ]
  },
  {
   "cell_type": "markdown",
   "id": "5c8f6985",
   "metadata": {},
   "source": [
    "### Model 2 - Logistic Regression"
   ]
  },
  {
   "cell_type": "code",
   "execution_count": 41,
   "id": "ac21a442",
   "metadata": {},
   "outputs": [
    {
     "data": {
      "text/html": [
       "<style>#sk-container-id-5 {color: black;}#sk-container-id-5 pre{padding: 0;}#sk-container-id-5 div.sk-toggleable {background-color: white;}#sk-container-id-5 label.sk-toggleable__label {cursor: pointer;display: block;width: 100%;margin-bottom: 0;padding: 0.3em;box-sizing: border-box;text-align: center;}#sk-container-id-5 label.sk-toggleable__label-arrow:before {content: \"▸\";float: left;margin-right: 0.25em;color: #696969;}#sk-container-id-5 label.sk-toggleable__label-arrow:hover:before {color: black;}#sk-container-id-5 div.sk-estimator:hover label.sk-toggleable__label-arrow:before {color: black;}#sk-container-id-5 div.sk-toggleable__content {max-height: 0;max-width: 0;overflow: hidden;text-align: left;background-color: #f0f8ff;}#sk-container-id-5 div.sk-toggleable__content pre {margin: 0.2em;color: black;border-radius: 0.25em;background-color: #f0f8ff;}#sk-container-id-5 input.sk-toggleable__control:checked~div.sk-toggleable__content {max-height: 200px;max-width: 100%;overflow: auto;}#sk-container-id-5 input.sk-toggleable__control:checked~label.sk-toggleable__label-arrow:before {content: \"▾\";}#sk-container-id-5 div.sk-estimator input.sk-toggleable__control:checked~label.sk-toggleable__label {background-color: #d4ebff;}#sk-container-id-5 div.sk-label input.sk-toggleable__control:checked~label.sk-toggleable__label {background-color: #d4ebff;}#sk-container-id-5 input.sk-hidden--visually {border: 0;clip: rect(1px 1px 1px 1px);clip: rect(1px, 1px, 1px, 1px);height: 1px;margin: -1px;overflow: hidden;padding: 0;position: absolute;width: 1px;}#sk-container-id-5 div.sk-estimator {font-family: monospace;background-color: #f0f8ff;border: 1px dotted black;border-radius: 0.25em;box-sizing: border-box;margin-bottom: 0.5em;}#sk-container-id-5 div.sk-estimator:hover {background-color: #d4ebff;}#sk-container-id-5 div.sk-parallel-item::after {content: \"\";width: 100%;border-bottom: 1px solid gray;flex-grow: 1;}#sk-container-id-5 div.sk-label:hover label.sk-toggleable__label {background-color: #d4ebff;}#sk-container-id-5 div.sk-serial::before {content: \"\";position: absolute;border-left: 1px solid gray;box-sizing: border-box;top: 0;bottom: 0;left: 50%;z-index: 0;}#sk-container-id-5 div.sk-serial {display: flex;flex-direction: column;align-items: center;background-color: white;padding-right: 0.2em;padding-left: 0.2em;position: relative;}#sk-container-id-5 div.sk-item {position: relative;z-index: 1;}#sk-container-id-5 div.sk-parallel {display: flex;align-items: stretch;justify-content: center;background-color: white;position: relative;}#sk-container-id-5 div.sk-item::before, #sk-container-id-5 div.sk-parallel-item::before {content: \"\";position: absolute;border-left: 1px solid gray;box-sizing: border-box;top: 0;bottom: 0;left: 50%;z-index: -1;}#sk-container-id-5 div.sk-parallel-item {display: flex;flex-direction: column;z-index: 1;position: relative;background-color: white;}#sk-container-id-5 div.sk-parallel-item:first-child::after {align-self: flex-end;width: 50%;}#sk-container-id-5 div.sk-parallel-item:last-child::after {align-self: flex-start;width: 50%;}#sk-container-id-5 div.sk-parallel-item:only-child::after {width: 0;}#sk-container-id-5 div.sk-dashed-wrapped {border: 1px dashed gray;margin: 0 0.4em 0.5em 0.4em;box-sizing: border-box;padding-bottom: 0.4em;background-color: white;}#sk-container-id-5 div.sk-label label {font-family: monospace;font-weight: bold;display: inline-block;line-height: 1.2em;}#sk-container-id-5 div.sk-label-container {text-align: center;}#sk-container-id-5 div.sk-container {/* jupyter's `normalize.less` sets `[hidden] { display: none; }` but bootstrap.min.css set `[hidden] { display: none !important; }` so we also need the `!important` here to be able to override the default hidden behavior on the sphinx rendered scikit-learn.org. See: https://github.com/scikit-learn/scikit-learn/issues/21755 */display: inline-block !important;position: relative;}#sk-container-id-5 div.sk-text-repr-fallback {display: none;}</style><div id=\"sk-container-id-5\" class=\"sk-top-container\"><div class=\"sk-text-repr-fallback\"><pre>Pipeline(steps=[(&#x27;SS&#x27;, StandardScaler()), (&#x27;lr&#x27;, LogisticRegression())])</pre><b>In a Jupyter environment, please rerun this cell to show the HTML representation or trust the notebook. <br />On GitHub, the HTML representation is unable to render, please try loading this page with nbviewer.org.</b></div><div class=\"sk-container\" hidden><div class=\"sk-item sk-dashed-wrapped\"><div class=\"sk-label-container\"><div class=\"sk-label sk-toggleable\"><input class=\"sk-toggleable__control sk-hidden--visually\" id=\"sk-estimator-id-9\" type=\"checkbox\" ><label for=\"sk-estimator-id-9\" class=\"sk-toggleable__label sk-toggleable__label-arrow\">Pipeline</label><div class=\"sk-toggleable__content\"><pre>Pipeline(steps=[(&#x27;SS&#x27;, StandardScaler()), (&#x27;lr&#x27;, LogisticRegression())])</pre></div></div></div><div class=\"sk-serial\"><div class=\"sk-item\"><div class=\"sk-estimator sk-toggleable\"><input class=\"sk-toggleable__control sk-hidden--visually\" id=\"sk-estimator-id-10\" type=\"checkbox\" ><label for=\"sk-estimator-id-10\" class=\"sk-toggleable__label sk-toggleable__label-arrow\">StandardScaler</label><div class=\"sk-toggleable__content\"><pre>StandardScaler()</pre></div></div></div><div class=\"sk-item\"><div class=\"sk-estimator sk-toggleable\"><input class=\"sk-toggleable__control sk-hidden--visually\" id=\"sk-estimator-id-11\" type=\"checkbox\" ><label for=\"sk-estimator-id-11\" class=\"sk-toggleable__label sk-toggleable__label-arrow\">LogisticRegression</label><div class=\"sk-toggleable__content\"><pre>LogisticRegression()</pre></div></div></div></div></div></div></div>"
      ],
      "text/plain": [
       "Pipeline(steps=[('SS', StandardScaler()), ('lr', LogisticRegression())])"
      ]
     },
     "metadata": {},
     "output_type": "display_data"
    },
    {
     "name": "stdout",
     "output_type": "stream",
     "text": [
      "              precision    recall  f1-score   support\n",
      "\n",
      "           0       1.00      1.00      1.00       254\n",
      "           1       1.00      1.00      1.00       273\n",
      "\n",
      "    accuracy                           1.00       527\n",
      "   macro avg       1.00      1.00      1.00       527\n",
      "weighted avg       1.00      1.00      1.00       527\n",
      "\n",
      "Accuracy (train): 1.0\n",
      "Accuracy (test): 1.0\n",
      "Cross-val-score(cv=5): 0.9975543388086943\n",
      "Sensitivity(TPR): 1.0\n",
      "Specificity(TNR): 1.0\n",
      "Precision: 1.0\n",
      "ROC_AUC: 1.0\n",
      "-------------------------------------------------------\n",
      "\n"
     ]
    },
    {
     "data": {
      "image/png": "[encoded data removed]",
      "text/plain": [
       "<Figure size 640x480 with 1 Axes>"
      ]
     },
     "metadata": {},
     "output_type": "display_data"
    }
   ],
   "source": [
    "# Assemble our predictor variables (X) and our target (y)\n",
    "X = coordinates_df.drop('class', axis = 1)\n",
    "y = coordinates_df['class']\n",
    "\n",
    "lr = Pipeline([\n",
    "    ('SS', StandardScaler()),\n",
    "    ('lr', LogisticRegression()),\n",
    "])\n",
    "\n",
    "get_model_score(X, y, lr, view_cm = True)"
   ]
  },
  {
   "cell_type": "code",
   "execution_count": 42,
   "id": "85cd6f52",
   "metadata": {
    "scrolled": false
   },
   "outputs": [
    {
     "name": "stdout",
     "output_type": "stream",
     "text": [
      "Fitting 5 folds for each of 18 candidates, totalling 90 fits\n",
      "[CV] END lr__C=0.1, lr__max_iter=100, lr__penalty=l1, lr__solver=liblinear; total time=   0.0s\n",
      "[CV] END lr__C=0.1, lr__max_iter=100, lr__penalty=l1, lr__solver=liblinear; total time=   0.0s\n",
      "[CV] END lr__C=0.1, lr__max_iter=100, lr__penalty=l1, lr__solver=liblinear; total time=   0.0s\n",
      "[CV] END lr__C=0.1, lr__max_iter=100, lr__penalty=l1, lr__solver=liblinear; total time=   0.0s\n",
      "[CV] END lr__C=0.1, lr__max_iter=100, lr__penalty=l1, lr__solver=liblinear; total time=   0.0s\n",
      "[CV] END lr__C=0.1, lr__max_iter=100, lr__penalty=l2, lr__solver=liblinear; total time=   0.0s\n",
      "[CV] END lr__C=0.1, lr__max_iter=100, lr__penalty=l2, lr__solver=liblinear; total time=   0.0s\n",
      "[CV] END lr__C=0.1, lr__max_iter=100, lr__penalty=l2, lr__solver=liblinear; total time=   0.0s\n",
      "[CV] END lr__C=0.1, lr__max_iter=100, lr__penalty=l2, lr__solver=liblinear; total time=   0.0s\n",
      "[CV] END lr__C=0.1, lr__max_iter=100, lr__penalty=l2, lr__solver=liblinear; total time=   0.0s\n",
      "[CV] END lr__C=0.1, lr__max_iter=200, lr__penalty=l1, lr__solver=liblinear; total time=   0.0s\n",
      "[CV] END lr__C=0.1, lr__max_iter=200, lr__penalty=l1, lr__solver=liblinear; total time=   0.0s\n",
      "[CV] END lr__C=0.1, lr__max_iter=200, lr__penalty=l1, lr__solver=liblinear; total time=   0.0s\n",
      "[CV] END lr__C=0.1, lr__max_iter=200, lr__penalty=l1, lr__solver=liblinear; total time=   0.0s\n",
      "[CV] END lr__C=0.1, lr__max_iter=200, lr__penalty=l1, lr__solver=liblinear; total time=   0.0s\n",
      "[CV] END lr__C=0.1, lr__max_iter=200, lr__penalty=l2, lr__solver=liblinear; total time=   0.0s\n",
      "[CV] END lr__C=0.1, lr__max_iter=200, lr__penalty=l2, lr__solver=liblinear; total time=   0.0s\n",
      "[CV] END lr__C=0.1, lr__max_iter=200, lr__penalty=l2, lr__solver=liblinear; total time=   0.0s\n",
      "[CV] END lr__C=0.1, lr__max_iter=200, lr__penalty=l2, lr__solver=liblinear; total time=   0.0s\n",
      "[CV] END lr__C=0.1, lr__max_iter=200, lr__penalty=l2, lr__solver=liblinear; total time=   0.0s\n",
      "[CV] END lr__C=0.1, lr__max_iter=300, lr__penalty=l1, lr__solver=liblinear; total time=   0.0s\n",
      "[CV] END lr__C=0.1, lr__max_iter=300, lr__penalty=l1, lr__solver=liblinear; total time=   0.0s\n",
      "[CV] END lr__C=0.1, lr__max_iter=300, lr__penalty=l1, lr__solver=liblinear; total time=   0.0s\n",
      "[CV] END lr__C=0.1, lr__max_iter=300, lr__penalty=l1, lr__solver=liblinear; total time=   0.0s\n",
      "[CV] END lr__C=0.1, lr__max_iter=300, lr__penalty=l1, lr__solver=liblinear; total time=   0.0s\n",
      "[CV] END lr__C=0.1, lr__max_iter=300, lr__penalty=l2, lr__solver=liblinear; total time=   0.0s\n",
      "[CV] END lr__C=0.1, lr__max_iter=300, lr__penalty=l2, lr__solver=liblinear; total time=   0.0s\n",
      "[CV] END lr__C=0.1, lr__max_iter=300, lr__penalty=l2, lr__solver=liblinear; total time=   0.0s\n",
      "[CV] END lr__C=0.1, lr__max_iter=300, lr__penalty=l2, lr__solver=liblinear; total time=   0.0s\n",
      "[CV] END lr__C=0.1, lr__max_iter=300, lr__penalty=l2, lr__solver=liblinear; total time=   0.0s\n",
      "[CV] END lr__C=1.0, lr__max_iter=100, lr__penalty=l1, lr__solver=liblinear; total time=   0.0s\n",
      "[CV] END lr__C=1.0, lr__max_iter=100, lr__penalty=l1, lr__solver=liblinear; total time=   0.0s\n",
      "[CV] END lr__C=1.0, lr__max_iter=100, lr__penalty=l1, lr__solver=liblinear; total time=   0.0s\n",
      "[CV] END lr__C=1.0, lr__max_iter=100, lr__penalty=l1, lr__solver=liblinear; total time=   0.0s\n",
      "[CV] END lr__C=1.0, lr__max_iter=100, lr__penalty=l1, lr__solver=liblinear; total time=   0.0s\n",
      "[CV] END lr__C=1.0, lr__max_iter=100, lr__penalty=l2, lr__solver=liblinear; total time=   0.0s\n",
      "[CV] END lr__C=1.0, lr__max_iter=100, lr__penalty=l2, lr__solver=liblinear; total time=   0.0s\n",
      "[CV] END lr__C=1.0, lr__max_iter=100, lr__penalty=l2, lr__solver=liblinear; total time=   0.0s\n",
      "[CV] END lr__C=1.0, lr__max_iter=100, lr__penalty=l2, lr__solver=liblinear; total time=   0.0s\n",
      "[CV] END lr__C=1.0, lr__max_iter=100, lr__penalty=l2, lr__solver=liblinear; total time=   0.0s\n",
      "[CV] END lr__C=1.0, lr__max_iter=200, lr__penalty=l1, lr__solver=liblinear; total time=   0.0s\n",
      "[CV] END lr__C=1.0, lr__max_iter=200, lr__penalty=l1, lr__solver=liblinear; total time=   0.0s\n",
      "[CV] END lr__C=1.0, lr__max_iter=200, lr__penalty=l1, lr__solver=liblinear; total time=   0.0s\n",
      "[CV] END lr__C=1.0, lr__max_iter=200, lr__penalty=l1, lr__solver=liblinear; total time=   0.0s\n",
      "[CV] END lr__C=1.0, lr__max_iter=200, lr__penalty=l1, lr__solver=liblinear; total time=   0.0s\n",
      "[CV] END lr__C=1.0, lr__max_iter=200, lr__penalty=l2, lr__solver=liblinear; total time=   0.0s\n",
      "[CV] END lr__C=1.0, lr__max_iter=200, lr__penalty=l2, lr__solver=liblinear; total time=   0.0s\n",
      "[CV] END lr__C=1.0, lr__max_iter=200, lr__penalty=l2, lr__solver=liblinear; total time=   0.0s\n",
      "[CV] END lr__C=1.0, lr__max_iter=200, lr__penalty=l2, lr__solver=liblinear; total time=   0.0s\n",
      "[CV] END lr__C=1.0, lr__max_iter=200, lr__penalty=l2, lr__solver=liblinear; total time=   0.0s\n",
      "[CV] END lr__C=1.0, lr__max_iter=300, lr__penalty=l1, lr__solver=liblinear; total time=   0.0s\n",
      "[CV] END lr__C=1.0, lr__max_iter=300, lr__penalty=l1, lr__solver=liblinear; total time=   0.0s\n",
      "[CV] END lr__C=1.0, lr__max_iter=300, lr__penalty=l1, lr__solver=liblinear; total time=   0.0s\n",
      "[CV] END lr__C=1.0, lr__max_iter=300, lr__penalty=l1, lr__solver=liblinear; total time=   0.0s\n",
      "[CV] END lr__C=1.0, lr__max_iter=300, lr__penalty=l1, lr__solver=liblinear; total time=   0.0s\n",
      "[CV] END lr__C=1.0, lr__max_iter=300, lr__penalty=l2, lr__solver=liblinear; total time=   0.0s\n",
      "[CV] END lr__C=1.0, lr__max_iter=300, lr__penalty=l2, lr__solver=liblinear; total time=   0.0s\n",
      "[CV] END lr__C=1.0, lr__max_iter=300, lr__penalty=l2, lr__solver=liblinear; total time=   0.0s\n",
      "[CV] END lr__C=1.0, lr__max_iter=300, lr__penalty=l2, lr__solver=liblinear; total time=   0.0s\n",
      "[CV] END lr__C=1.0, lr__max_iter=300, lr__penalty=l2, lr__solver=liblinear; total time=   0.0s\n",
      "[CV] END lr__C=10.0, lr__max_iter=100, lr__penalty=l1, lr__solver=liblinear; total time=   0.0s\n",
      "[CV] END lr__C=10.0, lr__max_iter=100, lr__penalty=l1, lr__solver=liblinear; total time=   0.0s\n",
      "[CV] END lr__C=10.0, lr__max_iter=100, lr__penalty=l1, lr__solver=liblinear; total time=   0.0s\n",
      "[CV] END lr__C=10.0, lr__max_iter=100, lr__penalty=l1, lr__solver=liblinear; total time=   0.0s\n",
      "[CV] END lr__C=10.0, lr__max_iter=100, lr__penalty=l1, lr__solver=liblinear; total time=   0.0s\n",
      "[CV] END lr__C=10.0, lr__max_iter=100, lr__penalty=l2, lr__solver=liblinear; total time=   0.0s\n",
      "[CV] END lr__C=10.0, lr__max_iter=100, lr__penalty=l2, lr__solver=liblinear; total time=   0.0s\n",
      "[CV] END lr__C=10.0, lr__max_iter=100, lr__penalty=l2, lr__solver=liblinear; total time=   0.0s\n",
      "[CV] END lr__C=10.0, lr__max_iter=100, lr__penalty=l2, lr__solver=liblinear; total time=   0.0s\n",
      "[CV] END lr__C=10.0, lr__max_iter=100, lr__penalty=l2, lr__solver=liblinear; total time=   0.0s\n",
      "[CV] END lr__C=10.0, lr__max_iter=200, lr__penalty=l1, lr__solver=liblinear; total time=   0.0s\n",
      "[CV] END lr__C=10.0, lr__max_iter=200, lr__penalty=l1, lr__solver=liblinear; total time=   0.0s\n",
      "[CV] END lr__C=10.0, lr__max_iter=200, lr__penalty=l1, lr__solver=liblinear; total time=   0.0s\n",
      "[CV] END lr__C=10.0, lr__max_iter=200, lr__penalty=l1, lr__solver=liblinear; total time=   0.0s\n",
      "[CV] END lr__C=10.0, lr__max_iter=200, lr__penalty=l1, lr__solver=liblinear; total time=   0.0s\n",
      "[CV] END lr__C=10.0, lr__max_iter=200, lr__penalty=l2, lr__solver=liblinear; total time=   0.0s\n",
      "[CV] END lr__C=10.0, lr__max_iter=200, lr__penalty=l2, lr__solver=liblinear; total time=   0.0s\n",
      "[CV] END lr__C=10.0, lr__max_iter=200, lr__penalty=l2, lr__solver=liblinear; total time=   0.0s\n",
      "[CV] END lr__C=10.0, lr__max_iter=200, lr__penalty=l2, lr__solver=liblinear; total time=   0.0s\n",
      "[CV] END lr__C=10.0, lr__max_iter=200, lr__penalty=l2, lr__solver=liblinear; total time=   0.0s\n",
      "[CV] END lr__C=10.0, lr__max_iter=300, lr__penalty=l1, lr__solver=liblinear; total time=   0.0s\n",
      "[CV] END lr__C=10.0, lr__max_iter=300, lr__penalty=l1, lr__solver=liblinear; total time=   0.0s\n",
      "[CV] END lr__C=10.0, lr__max_iter=300, lr__penalty=l1, lr__solver=liblinear; total time=   0.0s\n",
      "[CV] END lr__C=10.0, lr__max_iter=300, lr__penalty=l1, lr__solver=liblinear; total time=   0.0s\n",
      "[CV] END lr__C=10.0, lr__max_iter=300, lr__penalty=l1, lr__solver=liblinear; total time=   0.0s\n",
      "[CV] END lr__C=10.0, lr__max_iter=300, lr__penalty=l2, lr__solver=liblinear; total time=   0.0s\n",
      "[CV] END lr__C=10.0, lr__max_iter=300, lr__penalty=l2, lr__solver=liblinear; total time=   0.0s\n",
      "[CV] END lr__C=10.0, lr__max_iter=300, lr__penalty=l2, lr__solver=liblinear; total time=   0.0s\n"
     ]
    },
    {
     "name": "stdout",
     "output_type": "stream",
     "text": [
      "[CV] END lr__C=10.0, lr__max_iter=300, lr__penalty=l2, lr__solver=liblinear; total time=   0.0s\n",
      "[CV] END lr__C=10.0, lr__max_iter=300, lr__penalty=l2, lr__solver=liblinear; total time=   0.0s\n",
      "Best Hyperparameters: {'lr__C': 1.0, 'lr__max_iter': 100, 'lr__penalty': 'l2', 'lr__solver': 'liblinear'}\n",
      "Best training accuracy: 1.0\n",
      "Test set accuracy score for best params: 1.0\n",
      "-------------------------------------------------------\n",
      "\n",
      "              precision    recall  f1-score   support\n",
      "\n",
      "           0       1.00      1.00      1.00       289\n",
      "           1       1.00      1.00      1.00       238\n",
      "\n",
      "    accuracy                           1.00       527\n",
      "   macro avg       1.00      1.00      1.00       527\n",
      "weighted avg       1.00      1.00      1.00       527\n",
      "\n",
      "Sensitivity(TPR): 1.0\n",
      "Specificity(TNR): 1.0\n",
      "Precision: 1.0\n",
      "F1 Score(Train): 1.0\n",
      "F1 Score(Test): 1.0\n",
      "-------------------------------------------------------\n",
      "\n"
     ]
    },
    {
     "data": {
      "image/png": "[encoded data removed]",
      "text/plain": [
       "<Figure size 640x480 with 1 Axes>"
      ]
     },
     "metadata": {},
     "output_type": "display_data"
    }
   ],
   "source": [
    "# Assemble our predictor variables (X) and our target (y)\n",
    "X = coordinates_df.drop('class', axis = 1)\n",
    "y = coordinates_df['class']\n",
    "\n",
    "lr = Pipeline([\n",
    "    ('SS', StandardScaler()),\n",
    "    ('lr', LogisticRegression()),\n",
    "])\n",
    "\n",
    "param_grid = {\n",
    "    'lr__penalty': ['l1', 'l2'],  # Regularization penalty ('l1' for L1 regularization, 'l2' for L2 regularization)\n",
    "    'lr__C': [0.1, 1.0, 10.0],  # Inverse of regularization strength (smaller values specify stronger regularization)\n",
    "    'lr__solver': ['liblinear'],  # Solver algorithm ('liblinear' for small datasets)\n",
    "    'lr__max_iter': [100, 200, 300],  # Maximum number of iterations\n",
    "}\n",
    "\n",
    "get_gridsearch_params(X, y, lr, param_grid, folds=5, view_cm = True)"
   ]
  },
  {
   "cell_type": "markdown",
   "id": "cab38ac0",
   "metadata": {},
   "source": [
    "### Model 3 - Gradient Boost Model"
   ]
  },
  {
   "cell_type": "code",
   "execution_count": 43,
   "id": "87ba450d",
   "metadata": {},
   "outputs": [
    {
     "data": {
      "text/html": [
       "<style>#sk-container-id-6 {color: black;}#sk-container-id-6 pre{padding: 0;}#sk-container-id-6 div.sk-toggleable {background-color: white;}#sk-container-id-6 label.sk-toggleable__label {cursor: pointer;display: block;width: 100%;margin-bottom: 0;padding: 0.3em;box-sizing: border-box;text-align: center;}#sk-container-id-6 label.sk-toggleable__label-arrow:before {content: \"▸\";float: left;margin-right: 0.25em;color: #696969;}#sk-container-id-6 label.sk-toggleable__label-arrow:hover:before {color: black;}#sk-container-id-6 div.sk-estimator:hover label.sk-toggleable__label-arrow:before {color: black;}#sk-container-id-6 div.sk-toggleable__content {max-height: 0;max-width: 0;overflow: hidden;text-align: left;background-color: #f0f8ff;}#sk-container-id-6 div.sk-toggleable__content pre {margin: 0.2em;color: black;border-radius: 0.25em;background-color: #f0f8ff;}#sk-container-id-6 input.sk-toggleable__control:checked~div.sk-toggleable__content {max-height: 200px;max-width: 100%;overflow: auto;}#sk-container-id-6 input.sk-toggleable__control:checked~label.sk-toggleable__label-arrow:before {content: \"▾\";}#sk-container-id-6 div.sk-estimator input.sk-toggleable__control:checked~label.sk-toggleable__label {background-color: #d4ebff;}#sk-container-id-6 div.sk-label input.sk-toggleable__control:checked~label.sk-toggleable__label {background-color: #d4ebff;}#sk-container-id-6 input.sk-hidden--visually {border: 0;clip: rect(1px 1px 1px 1px);clip: rect(1px, 1px, 1px, 1px);height: 1px;margin: -1px;overflow: hidden;padding: 0;position: absolute;width: 1px;}#sk-container-id-6 div.sk-estimator {font-family: monospace;background-color: #f0f8ff;border: 1px dotted black;border-radius: 0.25em;box-sizing: border-box;margin-bottom: 0.5em;}#sk-container-id-6 div.sk-estimator:hover {background-color: #d4ebff;}#sk-container-id-6 div.sk-parallel-item::after {content: \"\";width: 100%;border-bottom: 1px solid gray;flex-grow: 1;}#sk-container-id-6 div.sk-label:hover label.sk-toggleable__label {background-color: #d4ebff;}#sk-container-id-6 div.sk-serial::before {content: \"\";position: absolute;border-left: 1px solid gray;box-sizing: border-box;top: 0;bottom: 0;left: 50%;z-index: 0;}#sk-container-id-6 div.sk-serial {display: flex;flex-direction: column;align-items: center;background-color: white;padding-right: 0.2em;padding-left: 0.2em;position: relative;}#sk-container-id-6 div.sk-item {position: relative;z-index: 1;}#sk-container-id-6 div.sk-parallel {display: flex;align-items: stretch;justify-content: center;background-color: white;position: relative;}#sk-container-id-6 div.sk-item::before, #sk-container-id-6 div.sk-parallel-item::before {content: \"\";position: absolute;border-left: 1px solid gray;box-sizing: border-box;top: 0;bottom: 0;left: 50%;z-index: -1;}#sk-container-id-6 div.sk-parallel-item {display: flex;flex-direction: column;z-index: 1;position: relative;background-color: white;}#sk-container-id-6 div.sk-parallel-item:first-child::after {align-self: flex-end;width: 50%;}#sk-container-id-6 div.sk-parallel-item:last-child::after {align-self: flex-start;width: 50%;}#sk-container-id-6 div.sk-parallel-item:only-child::after {width: 0;}#sk-container-id-6 div.sk-dashed-wrapped {border: 1px dashed gray;margin: 0 0.4em 0.5em 0.4em;box-sizing: border-box;padding-bottom: 0.4em;background-color: white;}#sk-container-id-6 div.sk-label label {font-family: monospace;font-weight: bold;display: inline-block;line-height: 1.2em;}#sk-container-id-6 div.sk-label-container {text-align: center;}#sk-container-id-6 div.sk-container {/* jupyter's `normalize.less` sets `[hidden] { display: none; }` but bootstrap.min.css set `[hidden] { display: none !important; }` so we also need the `!important` here to be able to override the default hidden behavior on the sphinx rendered scikit-learn.org. See: https://github.com/scikit-learn/scikit-learn/issues/21755 */display: inline-block !important;position: relative;}#sk-container-id-6 div.sk-text-repr-fallback {display: none;}</style><div id=\"sk-container-id-6\" class=\"sk-top-container\"><div class=\"sk-text-repr-fallback\"><pre>Pipeline(steps=[(&#x27;SS&#x27;, StandardScaler()), (&#x27;gb&#x27;, GradientBoostingClassifier())])</pre><b>In a Jupyter environment, please rerun this cell to show the HTML representation or trust the notebook. <br />On GitHub, the HTML representation is unable to render, please try loading this page with nbviewer.org.</b></div><div class=\"sk-container\" hidden><div class=\"sk-item sk-dashed-wrapped\"><div class=\"sk-label-container\"><div class=\"sk-label sk-toggleable\"><input class=\"sk-toggleable__control sk-hidden--visually\" id=\"sk-estimator-id-12\" type=\"checkbox\" ><label for=\"sk-estimator-id-12\" class=\"sk-toggleable__label sk-toggleable__label-arrow\">Pipeline</label><div class=\"sk-toggleable__content\"><pre>Pipeline(steps=[(&#x27;SS&#x27;, StandardScaler()), (&#x27;gb&#x27;, GradientBoostingClassifier())])</pre></div></div></div><div class=\"sk-serial\"><div class=\"sk-item\"><div class=\"sk-estimator sk-toggleable\"><input class=\"sk-toggleable__control sk-hidden--visually\" id=\"sk-estimator-id-13\" type=\"checkbox\" ><label for=\"sk-estimator-id-13\" class=\"sk-toggleable__label sk-toggleable__label-arrow\">StandardScaler</label><div class=\"sk-toggleable__content\"><pre>StandardScaler()</pre></div></div></div><div class=\"sk-item\"><div class=\"sk-estimator sk-toggleable\"><input class=\"sk-toggleable__control sk-hidden--visually\" id=\"sk-estimator-id-14\" type=\"checkbox\" ><label for=\"sk-estimator-id-14\" class=\"sk-toggleable__label sk-toggleable__label-arrow\">GradientBoostingClassifier</label><div class=\"sk-toggleable__content\"><pre>GradientBoostingClassifier()</pre></div></div></div></div></div></div></div>"
      ],
      "text/plain": [
       "Pipeline(steps=[('SS', StandardScaler()), ('gb', GradientBoostingClassifier())])"
      ]
     },
     "metadata": {},
     "output_type": "display_data"
    },
    {
     "name": "stdout",
     "output_type": "stream",
     "text": [
      "              precision    recall  f1-score   support\n",
      "\n",
      "           0       1.00      1.00      1.00       254\n",
      "           1       1.00      1.00      1.00       273\n",
      "\n",
      "    accuracy                           1.00       527\n",
      "   macro avg       1.00      1.00      1.00       527\n",
      "weighted avg       1.00      1.00      1.00       527\n",
      "\n",
      "Accuracy (train): 1.0\n",
      "Accuracy (test): 1.0\n",
      "Cross-val-score(cv=5): 0.9983673469387755\n",
      "Sensitivity(TPR): 1.0\n",
      "Specificity(TNR): 1.0\n",
      "Precision: 1.0\n",
      "ROC_AUC: 1.0\n",
      "-------------------------------------------------------\n",
      "\n"
     ]
    },
    {
     "data": {
      "image/png": "[encoded data removed]",
      "text/plain": [
       "<Figure size 640x480 with 1 Axes>"
      ]
     },
     "metadata": {},
     "output_type": "display_data"
    }
   ],
   "source": [
    "# Assemble our predictor variables (X) and our target (y)\n",
    "X = coordinates_df.drop('class', axis = 1)\n",
    "y = coordinates_df['class']\n",
    "\n",
    "gb = Pipeline([\n",
    "    ('SS', StandardScaler()),\n",
    "    ('gb', GradientBoostingClassifier()),\n",
    "])\n",
    "\n",
    "get_model_score(X, y, gb, view_cm = True)"
   ]
  },
  {
   "cell_type": "code",
   "execution_count": 44,
   "id": "9bd93d5d",
   "metadata": {
    "scrolled": false
   },
   "outputs": [
    {
     "name": "stdout",
     "output_type": "stream",
     "text": [
      "Fitting 5 folds for each of 64 candidates, totalling 320 fits\n",
      "[CV] END gb__learning_rate=0.1, gb__max_depth=3, gb__max_features=sqrt, gb__min_samples_leaf=1, gb__min_samples_split=2, gb__n_estimators=100; total time=   0.9s\n",
      "[CV] END gb__learning_rate=0.1, gb__max_depth=3, gb__max_features=sqrt, gb__min_samples_leaf=1, gb__min_samples_split=2, gb__n_estimators=100; total time=   0.9s\n",
      "[CV] END gb__learning_rate=0.1, gb__max_depth=3, gb__max_features=sqrt, gb__min_samples_leaf=1, gb__min_samples_split=2, gb__n_estimators=100; total time=   0.9s\n",
      "[CV] END gb__learning_rate=0.1, gb__max_depth=3, gb__max_features=sqrt, gb__min_samples_leaf=1, gb__min_samples_split=2, gb__n_estimators=100; total time=   0.9s\n",
      "[CV] END gb__learning_rate=0.1, gb__max_depth=3, gb__max_features=sqrt, gb__min_samples_leaf=1, gb__min_samples_split=2, gb__n_estimators=100; total time=   0.9s\n",
      "[CV] END gb__learning_rate=0.1, gb__max_depth=3, gb__max_features=sqrt, gb__min_samples_leaf=1, gb__min_samples_split=2, gb__n_estimators=1000; total time=   2.3s\n",
      "[CV] END gb__learning_rate=0.1, gb__max_depth=3, gb__max_features=sqrt, gb__min_samples_leaf=1, gb__min_samples_split=2, gb__n_estimators=1000; total time=   3.1s\n",
      "[CV] END gb__learning_rate=0.1, gb__max_depth=3, gb__max_features=sqrt, gb__min_samples_leaf=1, gb__min_samples_split=2, gb__n_estimators=1000; total time=   2.9s\n",
      "[CV] END gb__learning_rate=0.1, gb__max_depth=3, gb__max_features=sqrt, gb__min_samples_leaf=1, gb__min_samples_split=2, gb__n_estimators=1000; total time=   2.3s\n",
      "[CV] END gb__learning_rate=0.1, gb__max_depth=3, gb__max_features=sqrt, gb__min_samples_leaf=1, gb__min_samples_split=2, gb__n_estimators=1000; total time=   3.0s\n",
      "[CV] END gb__learning_rate=0.1, gb__max_depth=3, gb__max_features=sqrt, gb__min_samples_leaf=1, gb__min_samples_split=8, gb__n_estimators=100; total time=   1.0s\n",
      "[CV] END gb__learning_rate=0.1, gb__max_depth=3, gb__max_features=sqrt, gb__min_samples_leaf=1, gb__min_samples_split=8, gb__n_estimators=100; total time=   1.0s\n",
      "[CV] END gb__learning_rate=0.1, gb__max_depth=3, gb__max_features=sqrt, gb__min_samples_leaf=1, gb__min_samples_split=8, gb__n_estimators=100; total time=   0.9s\n",
      "[CV] END gb__learning_rate=0.1, gb__max_depth=3, gb__max_features=sqrt, gb__min_samples_leaf=1, gb__min_samples_split=8, gb__n_estimators=100; total time=   0.9s\n",
      "[CV] END gb__learning_rate=0.1, gb__max_depth=3, gb__max_features=sqrt, gb__min_samples_leaf=1, gb__min_samples_split=8, gb__n_estimators=100; total time=   0.9s\n",
      "[CV] END gb__learning_rate=0.1, gb__max_depth=3, gb__max_features=sqrt, gb__min_samples_leaf=1, gb__min_samples_split=8, gb__n_estimators=1000; total time=   2.5s\n",
      "[CV] END gb__learning_rate=0.1, gb__max_depth=3, gb__max_features=sqrt, gb__min_samples_leaf=1, gb__min_samples_split=8, gb__n_estimators=1000; total time=   3.4s\n",
      "[CV] END gb__learning_rate=0.1, gb__max_depth=3, gb__max_features=sqrt, gb__min_samples_leaf=1, gb__min_samples_split=8, gb__n_estimators=1000; total time=   3.4s\n",
      "[CV] END gb__learning_rate=0.1, gb__max_depth=3, gb__max_features=sqrt, gb__min_samples_leaf=1, gb__min_samples_split=8, gb__n_estimators=1000; total time=   2.3s\n",
      "[CV] END gb__learning_rate=0.1, gb__max_depth=3, gb__max_features=sqrt, gb__min_samples_leaf=1, gb__min_samples_split=8, gb__n_estimators=1000; total time=   3.1s\n",
      "[CV] END gb__learning_rate=0.1, gb__max_depth=3, gb__max_features=sqrt, gb__min_samples_leaf=2, gb__min_samples_split=2, gb__n_estimators=100; total time=   1.0s\n",
      "[CV] END gb__learning_rate=0.1, gb__max_depth=3, gb__max_features=sqrt, gb__min_samples_leaf=2, gb__min_samples_split=2, gb__n_estimators=100; total time=   1.0s\n",
      "[CV] END gb__learning_rate=0.1, gb__max_depth=3, gb__max_features=sqrt, gb__min_samples_leaf=2, gb__min_samples_split=2, gb__n_estimators=100; total time=   1.1s\n",
      "[CV] END gb__learning_rate=0.1, gb__max_depth=3, gb__max_features=sqrt, gb__min_samples_leaf=2, gb__min_samples_split=2, gb__n_estimators=100; total time=   1.3s\n",
      "[CV] END gb__learning_rate=0.1, gb__max_depth=3, gb__max_features=sqrt, gb__min_samples_leaf=2, gb__min_samples_split=2, gb__n_estimators=100; total time=   1.7s\n",
      "[CV] END gb__learning_rate=0.1, gb__max_depth=3, gb__max_features=sqrt, gb__min_samples_leaf=2, gb__min_samples_split=2, gb__n_estimators=1000; total time=   3.1s\n",
      "[CV] END gb__learning_rate=0.1, gb__max_depth=3, gb__max_features=sqrt, gb__min_samples_leaf=2, gb__min_samples_split=2, gb__n_estimators=1000; total time=   3.6s\n",
      "[CV] END gb__learning_rate=0.1, gb__max_depth=3, gb__max_features=sqrt, gb__min_samples_leaf=2, gb__min_samples_split=2, gb__n_estimators=1000; total time=   3.6s\n",
      "[CV] END gb__learning_rate=0.1, gb__max_depth=3, gb__max_features=sqrt, gb__min_samples_leaf=2, gb__min_samples_split=2, gb__n_estimators=1000; total time=   2.4s\n",
      "[CV] END gb__learning_rate=0.1, gb__max_depth=3, gb__max_features=sqrt, gb__min_samples_leaf=2, gb__min_samples_split=2, gb__n_estimators=1000; total time=   2.9s\n",
      "[CV] END gb__learning_rate=0.1, gb__max_depth=3, gb__max_features=sqrt, gb__min_samples_leaf=2, gb__min_samples_split=8, gb__n_estimators=100; total time=   0.9s\n",
      "[CV] END gb__learning_rate=0.1, gb__max_depth=3, gb__max_features=sqrt, gb__min_samples_leaf=2, gb__min_samples_split=8, gb__n_estimators=100; total time=   1.0s\n",
      "[CV] END gb__learning_rate=0.1, gb__max_depth=3, gb__max_features=sqrt, gb__min_samples_leaf=2, gb__min_samples_split=8, gb__n_estimators=100; total time=   1.0s\n",
      "[CV] END gb__learning_rate=0.1, gb__max_depth=3, gb__max_features=sqrt, gb__min_samples_leaf=2, gb__min_samples_split=8, gb__n_estimators=100; total time=   0.9s\n",
      "[CV] END gb__learning_rate=0.1, gb__max_depth=3, gb__max_features=sqrt, gb__min_samples_leaf=2, gb__min_samples_split=8, gb__n_estimators=100; total time=   0.9s\n",
      "[CV] END gb__learning_rate=0.1, gb__max_depth=3, gb__max_features=sqrt, gb__min_samples_leaf=2, gb__min_samples_split=8, gb__n_estimators=1000; total time=   2.3s\n",
      "[CV] END gb__learning_rate=0.1, gb__max_depth=3, gb__max_features=sqrt, gb__min_samples_leaf=2, gb__min_samples_split=8, gb__n_estimators=1000; total time=   3.0s\n",
      "[CV] END gb__learning_rate=0.1, gb__max_depth=3, gb__max_features=sqrt, gb__min_samples_leaf=2, gb__min_samples_split=8, gb__n_estimators=1000; total time=   3.1s\n",
      "[CV] END gb__learning_rate=0.1, gb__max_depth=3, gb__max_features=sqrt, gb__min_samples_leaf=2, gb__min_samples_split=8, gb__n_estimators=1000; total time=   2.5s\n",
      "[CV] END gb__learning_rate=0.1, gb__max_depth=3, gb__max_features=sqrt, gb__min_samples_leaf=2, gb__min_samples_split=8, gb__n_estimators=1000; total time=   2.9s\n",
      "[CV] END gb__learning_rate=0.1, gb__max_depth=3, gb__max_features=log2, gb__min_samples_leaf=1, gb__min_samples_split=2, gb__n_estimators=100; total time=   0.6s\n",
      "[CV] END gb__learning_rate=0.1, gb__max_depth=3, gb__max_features=log2, gb__min_samples_leaf=1, gb__min_samples_split=2, gb__n_estimators=100; total time=   0.6s\n",
      "[CV] END gb__learning_rate=0.1, gb__max_depth=3, gb__max_features=log2, gb__min_samples_leaf=1, gb__min_samples_split=2, gb__n_estimators=100; total time=   0.6s\n",
      "[CV] END gb__learning_rate=0.1, gb__max_depth=3, gb__max_features=log2, gb__min_samples_leaf=1, gb__min_samples_split=2, gb__n_estimators=100; total time=   0.6s\n",
      "[CV] END gb__learning_rate=0.1, gb__max_depth=3, gb__max_features=log2, gb__min_samples_leaf=1, gb__min_samples_split=2, gb__n_estimators=100; total time=   0.6s\n",
      "[CV] END gb__learning_rate=0.1, gb__max_depth=3, gb__max_features=log2, gb__min_samples_leaf=1, gb__min_samples_split=2, gb__n_estimators=1000; total time=   1.8s\n",
      "[CV] END gb__learning_rate=0.1, gb__max_depth=3, gb__max_features=log2, gb__min_samples_leaf=1, gb__min_samples_split=2, gb__n_estimators=1000; total time=   2.1s\n",
      "[CV] END gb__learning_rate=0.1, gb__max_depth=3, gb__max_features=log2, gb__min_samples_leaf=1, gb__min_samples_split=2, gb__n_estimators=1000; total time=   2.1s\n",
      "[CV] END gb__learning_rate=0.1, gb__max_depth=3, gb__max_features=log2, gb__min_samples_leaf=1, gb__min_samples_split=2, gb__n_estimators=1000; total time=   1.8s\n",
      "[CV] END gb__learning_rate=0.1, gb__max_depth=3, gb__max_features=log2, gb__min_samples_leaf=1, gb__min_samples_split=2, gb__n_estimators=1000; total time=   2.1s\n",
      "[CV] END gb__learning_rate=0.1, gb__max_depth=3, gb__max_features=log2, gb__min_samples_leaf=1, gb__min_samples_split=8, gb__n_estimators=100; total time=   0.6s\n"
     ]
    },
    {
     "name": "stdout",
     "output_type": "stream",
     "text": [
      "[CV] END gb__learning_rate=0.1, gb__max_depth=3, gb__max_features=log2, gb__min_samples_leaf=1, gb__min_samples_split=8, gb__n_estimators=100; total time=   0.6s\n",
      "[CV] END gb__learning_rate=0.1, gb__max_depth=3, gb__max_features=log2, gb__min_samples_leaf=1, gb__min_samples_split=8, gb__n_estimators=100; total time=   0.6s\n",
      "[CV] END gb__learning_rate=0.1, gb__max_depth=3, gb__max_features=log2, gb__min_samples_leaf=1, gb__min_samples_split=8, gb__n_estimators=100; total time=   0.6s\n",
      "[CV] END gb__learning_rate=0.1, gb__max_depth=3, gb__max_features=log2, gb__min_samples_leaf=1, gb__min_samples_split=8, gb__n_estimators=100; total time=   0.6s\n",
      "[CV] END gb__learning_rate=0.1, gb__max_depth=3, gb__max_features=log2, gb__min_samples_leaf=1, gb__min_samples_split=8, gb__n_estimators=1000; total time=   1.9s\n",
      "[CV] END gb__learning_rate=0.1, gb__max_depth=3, gb__max_features=log2, gb__min_samples_leaf=1, gb__min_samples_split=8, gb__n_estimators=1000; total time=   2.1s\n",
      "[CV] END gb__learning_rate=0.1, gb__max_depth=3, gb__max_features=log2, gb__min_samples_leaf=1, gb__min_samples_split=8, gb__n_estimators=1000; total time=   2.2s\n",
      "[CV] END gb__learning_rate=0.1, gb__max_depth=3, gb__max_features=log2, gb__min_samples_leaf=1, gb__min_samples_split=8, gb__n_estimators=1000; total time=   1.8s\n",
      "[CV] END gb__learning_rate=0.1, gb__max_depth=3, gb__max_features=log2, gb__min_samples_leaf=1, gb__min_samples_split=8, gb__n_estimators=1000; total time=   2.2s\n",
      "[CV] END gb__learning_rate=0.1, gb__max_depth=3, gb__max_features=log2, gb__min_samples_leaf=2, gb__min_samples_split=2, gb__n_estimators=100; total time=   0.7s\n",
      "[CV] END gb__learning_rate=0.1, gb__max_depth=3, gb__max_features=log2, gb__min_samples_leaf=2, gb__min_samples_split=2, gb__n_estimators=100; total time=   0.6s\n",
      "[CV] END gb__learning_rate=0.1, gb__max_depth=3, gb__max_features=log2, gb__min_samples_leaf=2, gb__min_samples_split=2, gb__n_estimators=100; total time=   0.6s\n",
      "[CV] END gb__learning_rate=0.1, gb__max_depth=3, gb__max_features=log2, gb__min_samples_leaf=2, gb__min_samples_split=2, gb__n_estimators=100; total time=   0.6s\n",
      "[CV] END gb__learning_rate=0.1, gb__max_depth=3, gb__max_features=log2, gb__min_samples_leaf=2, gb__min_samples_split=2, gb__n_estimators=100; total time=   0.6s\n",
      "[CV] END gb__learning_rate=0.1, gb__max_depth=3, gb__max_features=log2, gb__min_samples_leaf=2, gb__min_samples_split=2, gb__n_estimators=1000; total time=   1.8s\n",
      "[CV] END gb__learning_rate=0.1, gb__max_depth=3, gb__max_features=log2, gb__min_samples_leaf=2, gb__min_samples_split=2, gb__n_estimators=1000; total time=   2.1s\n",
      "[CV] END gb__learning_rate=0.1, gb__max_depth=3, gb__max_features=log2, gb__min_samples_leaf=2, gb__min_samples_split=2, gb__n_estimators=1000; total time=   2.1s\n",
      "[CV] END gb__learning_rate=0.1, gb__max_depth=3, gb__max_features=log2, gb__min_samples_leaf=2, gb__min_samples_split=2, gb__n_estimators=1000; total time=   1.8s\n",
      "[CV] END gb__learning_rate=0.1, gb__max_depth=3, gb__max_features=log2, gb__min_samples_leaf=2, gb__min_samples_split=2, gb__n_estimators=1000; total time=   2.1s\n",
      "[CV] END gb__learning_rate=0.1, gb__max_depth=3, gb__max_features=log2, gb__min_samples_leaf=2, gb__min_samples_split=8, gb__n_estimators=100; total time=   0.6s\n",
      "[CV] END gb__learning_rate=0.1, gb__max_depth=3, gb__max_features=log2, gb__min_samples_leaf=2, gb__min_samples_split=8, gb__n_estimators=100; total time=   0.6s\n",
      "[CV] END gb__learning_rate=0.1, gb__max_depth=3, gb__max_features=log2, gb__min_samples_leaf=2, gb__min_samples_split=8, gb__n_estimators=100; total time=   0.6s\n",
      "[CV] END gb__learning_rate=0.1, gb__max_depth=3, gb__max_features=log2, gb__min_samples_leaf=2, gb__min_samples_split=8, gb__n_estimators=100; total time=   0.6s\n",
      "[CV] END gb__learning_rate=0.1, gb__max_depth=3, gb__max_features=log2, gb__min_samples_leaf=2, gb__min_samples_split=8, gb__n_estimators=100; total time=   0.6s\n",
      "[CV] END gb__learning_rate=0.1, gb__max_depth=3, gb__max_features=log2, gb__min_samples_leaf=2, gb__min_samples_split=8, gb__n_estimators=1000; total time=   1.8s\n",
      "[CV] END gb__learning_rate=0.1, gb__max_depth=3, gb__max_features=log2, gb__min_samples_leaf=2, gb__min_samples_split=8, gb__n_estimators=1000; total time=   2.2s\n",
      "[CV] END gb__learning_rate=0.1, gb__max_depth=3, gb__max_features=log2, gb__min_samples_leaf=2, gb__min_samples_split=8, gb__n_estimators=1000; total time=   2.2s\n",
      "[CV] END gb__learning_rate=0.1, gb__max_depth=3, gb__max_features=log2, gb__min_samples_leaf=2, gb__min_samples_split=8, gb__n_estimators=1000; total time=   1.8s\n",
      "[CV] END gb__learning_rate=0.1, gb__max_depth=3, gb__max_features=log2, gb__min_samples_leaf=2, gb__min_samples_split=8, gb__n_estimators=1000; total time=   2.1s\n",
      "[CV] END gb__learning_rate=0.1, gb__max_depth=7, gb__max_features=sqrt, gb__min_samples_leaf=1, gb__min_samples_split=2, gb__n_estimators=100; total time=   0.8s\n",
      "[CV] END gb__learning_rate=0.1, gb__max_depth=7, gb__max_features=sqrt, gb__min_samples_leaf=1, gb__min_samples_split=2, gb__n_estimators=100; total time=   1.0s\n",
      "[CV] END gb__learning_rate=0.1, gb__max_depth=7, gb__max_features=sqrt, gb__min_samples_leaf=1, gb__min_samples_split=2, gb__n_estimators=100; total time=   0.9s\n",
      "[CV] END gb__learning_rate=0.1, gb__max_depth=7, gb__max_features=sqrt, gb__min_samples_leaf=1, gb__min_samples_split=2, gb__n_estimators=100; total time=   0.8s\n",
      "[CV] END gb__learning_rate=0.1, gb__max_depth=7, gb__max_features=sqrt, gb__min_samples_leaf=1, gb__min_samples_split=2, gb__n_estimators=100; total time=   0.9s\n",
      "[CV] END gb__learning_rate=0.1, gb__max_depth=7, gb__max_features=sqrt, gb__min_samples_leaf=1, gb__min_samples_split=2, gb__n_estimators=1000; total time=   1.8s\n",
      "[CV] END gb__learning_rate=0.1, gb__max_depth=7, gb__max_features=sqrt, gb__min_samples_leaf=1, gb__min_samples_split=2, gb__n_estimators=1000; total time=   2.0s\n",
      "[CV] END gb__learning_rate=0.1, gb__max_depth=7, gb__max_features=sqrt, gb__min_samples_leaf=1, gb__min_samples_split=2, gb__n_estimators=1000; total time=   2.2s\n",
      "[CV] END gb__learning_rate=0.1, gb__max_depth=7, gb__max_features=sqrt, gb__min_samples_leaf=1, gb__min_samples_split=2, gb__n_estimators=1000; total time=   2.7s\n",
      "[CV] END gb__learning_rate=0.1, gb__max_depth=7, gb__max_features=sqrt, gb__min_samples_leaf=1, gb__min_samples_split=2, gb__n_estimators=1000; total time=   2.8s\n",
      "[CV] END gb__learning_rate=0.1, gb__max_depth=7, gb__max_features=sqrt, gb__min_samples_leaf=1, gb__min_samples_split=8, gb__n_estimators=100; total time=   2.2s\n",
      "[CV] END gb__learning_rate=0.1, gb__max_depth=7, gb__max_features=sqrt, gb__min_samples_leaf=1, gb__min_samples_split=8, gb__n_estimators=100; total time=   2.0s\n",
      "[CV] END gb__learning_rate=0.1, gb__max_depth=7, gb__max_features=sqrt, gb__min_samples_leaf=1, gb__min_samples_split=8, gb__n_estimators=100; total time=   2.4s\n",
      "[CV] END gb__learning_rate=0.1, gb__max_depth=7, gb__max_features=sqrt, gb__min_samples_leaf=1, gb__min_samples_split=8, gb__n_estimators=100; total time=   2.1s\n",
      "[CV] END gb__learning_rate=0.1, gb__max_depth=7, gb__max_features=sqrt, gb__min_samples_leaf=1, gb__min_samples_split=8, gb__n_estimators=100; total time=   1.9s\n",
      "[CV] END gb__learning_rate=0.1, gb__max_depth=7, gb__max_features=sqrt, gb__min_samples_leaf=1, gb__min_samples_split=8, gb__n_estimators=1000; total time=   3.2s\n",
      "[CV] END gb__learning_rate=0.1, gb__max_depth=7, gb__max_features=sqrt, gb__min_samples_leaf=1, gb__min_samples_split=8, gb__n_estimators=1000; total time=   3.6s\n",
      "[CV] END gb__learning_rate=0.1, gb__max_depth=7, gb__max_features=sqrt, gb__min_samples_leaf=1, gb__min_samples_split=8, gb__n_estimators=1000; total time=   3.5s\n",
      "[CV] END gb__learning_rate=0.1, gb__max_depth=7, gb__max_features=sqrt, gb__min_samples_leaf=1, gb__min_samples_split=8, gb__n_estimators=1000; total time=   3.0s\n",
      "[CV] END gb__learning_rate=0.1, gb__max_depth=7, gb__max_features=sqrt, gb__min_samples_leaf=1, gb__min_samples_split=8, gb__n_estimators=1000; total time=   3.3s\n",
      "[CV] END gb__learning_rate=0.1, gb__max_depth=7, gb__max_features=sqrt, gb__min_samples_leaf=2, gb__min_samples_split=2, gb__n_estimators=100; total time=   2.2s\n",
      "[CV] END gb__learning_rate=0.1, gb__max_depth=7, gb__max_features=sqrt, gb__min_samples_leaf=2, gb__min_samples_split=2, gb__n_estimators=100; total time=   2.0s\n"
     ]
    },
    {
     "name": "stdout",
     "output_type": "stream",
     "text": [
      "[CV] END gb__learning_rate=0.1, gb__max_depth=7, gb__max_features=sqrt, gb__min_samples_leaf=2, gb__min_samples_split=2, gb__n_estimators=100; total time=   2.0s\n",
      "[CV] END gb__learning_rate=0.1, gb__max_depth=7, gb__max_features=sqrt, gb__min_samples_leaf=2, gb__min_samples_split=2, gb__n_estimators=100; total time=   2.2s\n",
      "[CV] END gb__learning_rate=0.1, gb__max_depth=7, gb__max_features=sqrt, gb__min_samples_leaf=2, gb__min_samples_split=2, gb__n_estimators=100; total time=   2.1s\n",
      "[CV] END gb__learning_rate=0.1, gb__max_depth=7, gb__max_features=sqrt, gb__min_samples_leaf=2, gb__min_samples_split=2, gb__n_estimators=1000; total time=   3.7s\n",
      "[CV] END gb__learning_rate=0.1, gb__max_depth=7, gb__max_features=sqrt, gb__min_samples_leaf=2, gb__min_samples_split=2, gb__n_estimators=1000; total time=   4.0s\n",
      "[CV] END gb__learning_rate=0.1, gb__max_depth=7, gb__max_features=sqrt, gb__min_samples_leaf=2, gb__min_samples_split=2, gb__n_estimators=1000; total time=   3.9s\n",
      "[CV] END gb__learning_rate=0.1, gb__max_depth=7, gb__max_features=sqrt, gb__min_samples_leaf=2, gb__min_samples_split=2, gb__n_estimators=1000; total time=   3.8s\n",
      "[CV] END gb__learning_rate=0.1, gb__max_depth=7, gb__max_features=sqrt, gb__min_samples_leaf=2, gb__min_samples_split=2, gb__n_estimators=1000; total time=   3.6s\n",
      "[CV] END gb__learning_rate=0.1, gb__max_depth=7, gb__max_features=sqrt, gb__min_samples_leaf=2, gb__min_samples_split=8, gb__n_estimators=100; total time=   2.2s\n",
      "[CV] END gb__learning_rate=0.1, gb__max_depth=7, gb__max_features=sqrt, gb__min_samples_leaf=2, gb__min_samples_split=8, gb__n_estimators=100; total time=   2.2s\n",
      "[CV] END gb__learning_rate=0.1, gb__max_depth=7, gb__max_features=sqrt, gb__min_samples_leaf=2, gb__min_samples_split=8, gb__n_estimators=100; total time=   1.9s\n",
      "[CV] END gb__learning_rate=0.1, gb__max_depth=7, gb__max_features=sqrt, gb__min_samples_leaf=2, gb__min_samples_split=8, gb__n_estimators=100; total time=   2.2s\n",
      "[CV] END gb__learning_rate=0.1, gb__max_depth=7, gb__max_features=sqrt, gb__min_samples_leaf=2, gb__min_samples_split=8, gb__n_estimators=100; total time=   2.0s\n",
      "[CV] END gb__learning_rate=0.1, gb__max_depth=7, gb__max_features=sqrt, gb__min_samples_leaf=2, gb__min_samples_split=8, gb__n_estimators=1000; total time=   3.8s\n",
      "[CV] END gb__learning_rate=0.1, gb__max_depth=7, gb__max_features=sqrt, gb__min_samples_leaf=2, gb__min_samples_split=8, gb__n_estimators=1000; total time=   4.0s\n",
      "[CV] END gb__learning_rate=0.1, gb__max_depth=7, gb__max_features=sqrt, gb__min_samples_leaf=2, gb__min_samples_split=8, gb__n_estimators=1000; total time=   4.2s\n",
      "[CV] END gb__learning_rate=0.1, gb__max_depth=7, gb__max_features=sqrt, gb__min_samples_leaf=2, gb__min_samples_split=8, gb__n_estimators=1000; total time=   4.0s\n",
      "[CV] END gb__learning_rate=0.1, gb__max_depth=7, gb__max_features=sqrt, gb__min_samples_leaf=2, gb__min_samples_split=8, gb__n_estimators=1000; total time=   4.1s\n",
      "[CV] END gb__learning_rate=0.1, gb__max_depth=7, gb__max_features=log2, gb__min_samples_leaf=1, gb__min_samples_split=2, gb__n_estimators=100; total time=   0.5s\n",
      "[CV] END gb__learning_rate=0.1, gb__max_depth=7, gb__max_features=log2, gb__min_samples_leaf=1, gb__min_samples_split=2, gb__n_estimators=100; total time=   0.6s\n",
      "[CV] END gb__learning_rate=0.1, gb__max_depth=7, gb__max_features=log2, gb__min_samples_leaf=1, gb__min_samples_split=2, gb__n_estimators=100; total time=   0.6s\n",
      "[CV] END gb__learning_rate=0.1, gb__max_depth=7, gb__max_features=log2, gb__min_samples_leaf=1, gb__min_samples_split=2, gb__n_estimators=100; total time=   0.5s\n",
      "[CV] END gb__learning_rate=0.1, gb__max_depth=7, gb__max_features=log2, gb__min_samples_leaf=1, gb__min_samples_split=2, gb__n_estimators=100; total time=   0.9s\n",
      "[CV] END gb__learning_rate=0.1, gb__max_depth=7, gb__max_features=log2, gb__min_samples_leaf=1, gb__min_samples_split=2, gb__n_estimators=1000; total time=   1.4s\n",
      "[CV] END gb__learning_rate=0.1, gb__max_depth=7, gb__max_features=log2, gb__min_samples_leaf=1, gb__min_samples_split=2, gb__n_estimators=1000; total time=   1.7s\n",
      "[CV] END gb__learning_rate=0.1, gb__max_depth=7, gb__max_features=log2, gb__min_samples_leaf=1, gb__min_samples_split=2, gb__n_estimators=1000; total time=   1.7s\n",
      "[CV] END gb__learning_rate=0.1, gb__max_depth=7, gb__max_features=log2, gb__min_samples_leaf=1, gb__min_samples_split=2, gb__n_estimators=1000; total time=   1.6s\n",
      "[CV] END gb__learning_rate=0.1, gb__max_depth=7, gb__max_features=log2, gb__min_samples_leaf=1, gb__min_samples_split=2, gb__n_estimators=1000; total time=   2.8s\n",
      "[CV] END gb__learning_rate=0.1, gb__max_depth=7, gb__max_features=log2, gb__min_samples_leaf=1, gb__min_samples_split=8, gb__n_estimators=100; total time=   1.7s\n",
      "[CV] END gb__learning_rate=0.1, gb__max_depth=7, gb__max_features=log2, gb__min_samples_leaf=1, gb__min_samples_split=8, gb__n_estimators=100; total time=   1.6s\n",
      "[CV] END gb__learning_rate=0.1, gb__max_depth=7, gb__max_features=log2, gb__min_samples_leaf=1, gb__min_samples_split=8, gb__n_estimators=100; total time=   1.3s\n",
      "[CV] END gb__learning_rate=0.1, gb__max_depth=7, gb__max_features=log2, gb__min_samples_leaf=1, gb__min_samples_split=8, gb__n_estimators=100; total time=   1.5s\n",
      "[CV] END gb__learning_rate=0.1, gb__max_depth=7, gb__max_features=log2, gb__min_samples_leaf=1, gb__min_samples_split=8, gb__n_estimators=100; total time=   1.6s\n",
      "[CV] END gb__learning_rate=0.1, gb__max_depth=7, gb__max_features=log2, gb__min_samples_leaf=1, gb__min_samples_split=8, gb__n_estimators=1000; total time=   2.1s\n",
      "[CV] END gb__learning_rate=0.1, gb__max_depth=7, gb__max_features=log2, gb__min_samples_leaf=1, gb__min_samples_split=8, gb__n_estimators=1000; total time=   2.5s\n",
      "[CV] END gb__learning_rate=0.1, gb__max_depth=7, gb__max_features=log2, gb__min_samples_leaf=1, gb__min_samples_split=8, gb__n_estimators=1000; total time=   2.5s\n",
      "[CV] END gb__learning_rate=0.1, gb__max_depth=7, gb__max_features=log2, gb__min_samples_leaf=1, gb__min_samples_split=8, gb__n_estimators=1000; total time=   2.3s\n",
      "[CV] END gb__learning_rate=0.1, gb__max_depth=7, gb__max_features=log2, gb__min_samples_leaf=1, gb__min_samples_split=8, gb__n_estimators=1000; total time=   2.5s\n",
      "[CV] END gb__learning_rate=0.1, gb__max_depth=7, gb__max_features=log2, gb__min_samples_leaf=2, gb__min_samples_split=2, gb__n_estimators=100; total time=   1.4s\n",
      "[CV] END gb__learning_rate=0.1, gb__max_depth=7, gb__max_features=log2, gb__min_samples_leaf=2, gb__min_samples_split=2, gb__n_estimators=100; total time=   1.4s\n",
      "[CV] END gb__learning_rate=0.1, gb__max_depth=7, gb__max_features=log2, gb__min_samples_leaf=2, gb__min_samples_split=2, gb__n_estimators=100; total time=   1.4s\n",
      "[CV] END gb__learning_rate=0.1, gb__max_depth=7, gb__max_features=log2, gb__min_samples_leaf=2, gb__min_samples_split=2, gb__n_estimators=100; total time=   1.4s\n",
      "[CV] END gb__learning_rate=0.1, gb__max_depth=7, gb__max_features=log2, gb__min_samples_leaf=2, gb__min_samples_split=2, gb__n_estimators=100; total time=   1.4s\n",
      "[CV] END gb__learning_rate=0.1, gb__max_depth=7, gb__max_features=log2, gb__min_samples_leaf=2, gb__min_samples_split=2, gb__n_estimators=1000; total time=   2.6s\n",
      "[CV] END gb__learning_rate=0.1, gb__max_depth=7, gb__max_features=log2, gb__min_samples_leaf=2, gb__min_samples_split=2, gb__n_estimators=1000; total time=   2.8s\n",
      "[CV] END gb__learning_rate=0.1, gb__max_depth=7, gb__max_features=log2, gb__min_samples_leaf=2, gb__min_samples_split=2, gb__n_estimators=1000; total time=   2.8s\n",
      "[CV] END gb__learning_rate=0.1, gb__max_depth=7, gb__max_features=log2, gb__min_samples_leaf=2, gb__min_samples_split=2, gb__n_estimators=1000; total time=   2.7s\n",
      "[CV] END gb__learning_rate=0.1, gb__max_depth=7, gb__max_features=log2, gb__min_samples_leaf=2, gb__min_samples_split=2, gb__n_estimators=1000; total time=   2.7s\n",
      "[CV] END gb__learning_rate=0.1, gb__max_depth=7, gb__max_features=log2, gb__min_samples_leaf=2, gb__min_samples_split=8, gb__n_estimators=100; total time=   1.4s\n",
      "[CV] END gb__learning_rate=0.1, gb__max_depth=7, gb__max_features=log2, gb__min_samples_leaf=2, gb__min_samples_split=8, gb__n_estimators=100; total time=   1.4s\n",
      "[CV] END gb__learning_rate=0.1, gb__max_depth=7, gb__max_features=log2, gb__min_samples_leaf=2, gb__min_samples_split=8, gb__n_estimators=100; total time=   1.4s\n"
     ]
    },
    {
     "name": "stdout",
     "output_type": "stream",
     "text": [
      "[CV] END gb__learning_rate=0.1, gb__max_depth=7, gb__max_features=log2, gb__min_samples_leaf=2, gb__min_samples_split=8, gb__n_estimators=100; total time=   1.4s\n",
      "[CV] END gb__learning_rate=0.1, gb__max_depth=7, gb__max_features=log2, gb__min_samples_leaf=2, gb__min_samples_split=8, gb__n_estimators=100; total time=   1.4s\n",
      "[CV] END gb__learning_rate=0.1, gb__max_depth=7, gb__max_features=log2, gb__min_samples_leaf=2, gb__min_samples_split=8, gb__n_estimators=1000; total time=   2.6s\n",
      "[CV] END gb__learning_rate=0.1, gb__max_depth=7, gb__max_features=log2, gb__min_samples_leaf=2, gb__min_samples_split=8, gb__n_estimators=1000; total time=   2.9s\n",
      "[CV] END gb__learning_rate=0.1, gb__max_depth=7, gb__max_features=log2, gb__min_samples_leaf=2, gb__min_samples_split=8, gb__n_estimators=1000; total time=   2.8s\n",
      "[CV] END gb__learning_rate=0.1, gb__max_depth=7, gb__max_features=log2, gb__min_samples_leaf=2, gb__min_samples_split=8, gb__n_estimators=1000; total time=   2.8s\n",
      "[CV] END gb__learning_rate=0.1, gb__max_depth=7, gb__max_features=log2, gb__min_samples_leaf=2, gb__min_samples_split=8, gb__n_estimators=1000; total time=   2.7s\n",
      "[CV] END gb__learning_rate=0.01, gb__max_depth=3, gb__max_features=sqrt, gb__min_samples_leaf=1, gb__min_samples_split=2, gb__n_estimators=100; total time=   0.9s\n",
      "[CV] END gb__learning_rate=0.01, gb__max_depth=3, gb__max_features=sqrt, gb__min_samples_leaf=1, gb__min_samples_split=2, gb__n_estimators=100; total time=   0.9s\n",
      "[CV] END gb__learning_rate=0.01, gb__max_depth=3, gb__max_features=sqrt, gb__min_samples_leaf=1, gb__min_samples_split=2, gb__n_estimators=100; total time=   0.9s\n",
      "[CV] END gb__learning_rate=0.01, gb__max_depth=3, gb__max_features=sqrt, gb__min_samples_leaf=1, gb__min_samples_split=2, gb__n_estimators=100; total time=   0.9s\n",
      "[CV] END gb__learning_rate=0.01, gb__max_depth=3, gb__max_features=sqrt, gb__min_samples_leaf=1, gb__min_samples_split=2, gb__n_estimators=100; total time=   0.9s\n",
      "[CV] END gb__learning_rate=0.01, gb__max_depth=3, gb__max_features=sqrt, gb__min_samples_leaf=1, gb__min_samples_split=2, gb__n_estimators=1000; total time=  10.4s\n",
      "[CV] END gb__learning_rate=0.01, gb__max_depth=3, gb__max_features=sqrt, gb__min_samples_leaf=1, gb__min_samples_split=2, gb__n_estimators=1000; total time=  10.4s\n",
      "[CV] END gb__learning_rate=0.01, gb__max_depth=3, gb__max_features=sqrt, gb__min_samples_leaf=1, gb__min_samples_split=2, gb__n_estimators=1000; total time=  10.6s\n",
      "[CV] END gb__learning_rate=0.01, gb__max_depth=3, gb__max_features=sqrt, gb__min_samples_leaf=1, gb__min_samples_split=2, gb__n_estimators=1000; total time=  13.2s\n",
      "[CV] END gb__learning_rate=0.01, gb__max_depth=3, gb__max_features=sqrt, gb__min_samples_leaf=1, gb__min_samples_split=2, gb__n_estimators=1000; total time=  10.5s\n",
      "[CV] END gb__learning_rate=0.01, gb__max_depth=3, gb__max_features=sqrt, gb__min_samples_leaf=1, gb__min_samples_split=8, gb__n_estimators=100; total time=   0.9s\n",
      "[CV] END gb__learning_rate=0.01, gb__max_depth=3, gb__max_features=sqrt, gb__min_samples_leaf=1, gb__min_samples_split=8, gb__n_estimators=100; total time=   0.9s\n",
      "[CV] END gb__learning_rate=0.01, gb__max_depth=3, gb__max_features=sqrt, gb__min_samples_leaf=1, gb__min_samples_split=8, gb__n_estimators=100; total time=   0.9s\n",
      "[CV] END gb__learning_rate=0.01, gb__max_depth=3, gb__max_features=sqrt, gb__min_samples_leaf=1, gb__min_samples_split=8, gb__n_estimators=100; total time=   1.0s\n",
      "[CV] END gb__learning_rate=0.01, gb__max_depth=3, gb__max_features=sqrt, gb__min_samples_leaf=1, gb__min_samples_split=8, gb__n_estimators=100; total time=   0.9s\n",
      "[CV] END gb__learning_rate=0.01, gb__max_depth=3, gb__max_features=sqrt, gb__min_samples_leaf=1, gb__min_samples_split=8, gb__n_estimators=1000; total time=  10.3s\n",
      "[CV] END gb__learning_rate=0.01, gb__max_depth=3, gb__max_features=sqrt, gb__min_samples_leaf=1, gb__min_samples_split=8, gb__n_estimators=1000; total time=  10.4s\n",
      "[CV] END gb__learning_rate=0.01, gb__max_depth=3, gb__max_features=sqrt, gb__min_samples_leaf=1, gb__min_samples_split=8, gb__n_estimators=1000; total time=  10.5s\n",
      "[CV] END gb__learning_rate=0.01, gb__max_depth=3, gb__max_features=sqrt, gb__min_samples_leaf=1, gb__min_samples_split=8, gb__n_estimators=1000; total time=  10.4s\n",
      "[CV] END gb__learning_rate=0.01, gb__max_depth=3, gb__max_features=sqrt, gb__min_samples_leaf=1, gb__min_samples_split=8, gb__n_estimators=1000; total time=  10.4s\n",
      "[CV] END gb__learning_rate=0.01, gb__max_depth=3, gb__max_features=sqrt, gb__min_samples_leaf=2, gb__min_samples_split=2, gb__n_estimators=100; total time=   0.9s\n",
      "[CV] END gb__learning_rate=0.01, gb__max_depth=3, gb__max_features=sqrt, gb__min_samples_leaf=2, gb__min_samples_split=2, gb__n_estimators=100; total time=   0.9s\n",
      "[CV] END gb__learning_rate=0.01, gb__max_depth=3, gb__max_features=sqrt, gb__min_samples_leaf=2, gb__min_samples_split=2, gb__n_estimators=100; total time=   0.9s\n",
      "[CV] END gb__learning_rate=0.01, gb__max_depth=3, gb__max_features=sqrt, gb__min_samples_leaf=2, gb__min_samples_split=2, gb__n_estimators=100; total time=   0.9s\n",
      "[CV] END gb__learning_rate=0.01, gb__max_depth=3, gb__max_features=sqrt, gb__min_samples_leaf=2, gb__min_samples_split=2, gb__n_estimators=100; total time=   1.0s\n",
      "[CV] END gb__learning_rate=0.01, gb__max_depth=3, gb__max_features=sqrt, gb__min_samples_leaf=2, gb__min_samples_split=2, gb__n_estimators=1000; total time=  10.5s\n",
      "[CV] END gb__learning_rate=0.01, gb__max_depth=3, gb__max_features=sqrt, gb__min_samples_leaf=2, gb__min_samples_split=2, gb__n_estimators=1000; total time=  10.9s\n",
      "[CV] END gb__learning_rate=0.01, gb__max_depth=3, gb__max_features=sqrt, gb__min_samples_leaf=2, gb__min_samples_split=2, gb__n_estimators=1000; total time=  12.9s\n",
      "[CV] END gb__learning_rate=0.01, gb__max_depth=3, gb__max_features=sqrt, gb__min_samples_leaf=2, gb__min_samples_split=2, gb__n_estimators=1000; total time=  10.5s\n",
      "[CV] END gb__learning_rate=0.01, gb__max_depth=3, gb__max_features=sqrt, gb__min_samples_leaf=2, gb__min_samples_split=2, gb__n_estimators=1000; total time=  10.4s\n",
      "[CV] END gb__learning_rate=0.01, gb__max_depth=3, gb__max_features=sqrt, gb__min_samples_leaf=2, gb__min_samples_split=8, gb__n_estimators=100; total time=   0.9s\n",
      "[CV] END gb__learning_rate=0.01, gb__max_depth=3, gb__max_features=sqrt, gb__min_samples_leaf=2, gb__min_samples_split=8, gb__n_estimators=100; total time=   0.9s\n",
      "[CV] END gb__learning_rate=0.01, gb__max_depth=3, gb__max_features=sqrt, gb__min_samples_leaf=2, gb__min_samples_split=8, gb__n_estimators=100; total time=   0.9s\n",
      "[CV] END gb__learning_rate=0.01, gb__max_depth=3, gb__max_features=sqrt, gb__min_samples_leaf=2, gb__min_samples_split=8, gb__n_estimators=100; total time=   0.9s\n",
      "[CV] END gb__learning_rate=0.01, gb__max_depth=3, gb__max_features=sqrt, gb__min_samples_leaf=2, gb__min_samples_split=8, gb__n_estimators=100; total time=   0.9s\n",
      "[CV] END gb__learning_rate=0.01, gb__max_depth=3, gb__max_features=sqrt, gb__min_samples_leaf=2, gb__min_samples_split=8, gb__n_estimators=1000; total time=  10.3s\n",
      "[CV] END gb__learning_rate=0.01, gb__max_depth=3, gb__max_features=sqrt, gb__min_samples_leaf=2, gb__min_samples_split=8, gb__n_estimators=1000; total time=  10.3s\n",
      "[CV] END gb__learning_rate=0.01, gb__max_depth=3, gb__max_features=sqrt, gb__min_samples_leaf=2, gb__min_samples_split=8, gb__n_estimators=1000; total time=  10.4s\n",
      "[CV] END gb__learning_rate=0.01, gb__max_depth=3, gb__max_features=sqrt, gb__min_samples_leaf=2, gb__min_samples_split=8, gb__n_estimators=1000; total time=  10.4s\n",
      "[CV] END gb__learning_rate=0.01, gb__max_depth=3, gb__max_features=sqrt, gb__min_samples_leaf=2, gb__min_samples_split=8, gb__n_estimators=1000; total time=  10.4s\n",
      "[CV] END gb__learning_rate=0.01, gb__max_depth=3, gb__max_features=log2, gb__min_samples_leaf=1, gb__min_samples_split=2, gb__n_estimators=100; total time=   0.6s\n",
      "[CV] END gb__learning_rate=0.01, gb__max_depth=3, gb__max_features=log2, gb__min_samples_leaf=1, gb__min_samples_split=2, gb__n_estimators=100; total time=   0.6s\n",
      "[CV] END gb__learning_rate=0.01, gb__max_depth=3, gb__max_features=log2, gb__min_samples_leaf=1, gb__min_samples_split=2, gb__n_estimators=100; total time=   0.6s\n",
      "[CV] END gb__learning_rate=0.01, gb__max_depth=3, gb__max_features=log2, gb__min_samples_leaf=1, gb__min_samples_split=2, gb__n_estimators=100; total time=   0.6s\n"
     ]
    },
    {
     "name": "stdout",
     "output_type": "stream",
     "text": [
      "[CV] END gb__learning_rate=0.01, gb__max_depth=3, gb__max_features=log2, gb__min_samples_leaf=1, gb__min_samples_split=2, gb__n_estimators=100; total time=   0.6s\n",
      "[CV] END gb__learning_rate=0.01, gb__max_depth=3, gb__max_features=log2, gb__min_samples_leaf=1, gb__min_samples_split=2, gb__n_estimators=1000; total time=   7.0s\n",
      "[CV] END gb__learning_rate=0.01, gb__max_depth=3, gb__max_features=log2, gb__min_samples_leaf=1, gb__min_samples_split=2, gb__n_estimators=1000; total time=   8.6s\n",
      "[CV] END gb__learning_rate=0.01, gb__max_depth=3, gb__max_features=log2, gb__min_samples_leaf=1, gb__min_samples_split=2, gb__n_estimators=1000; total time=   8.0s\n",
      "[CV] END gb__learning_rate=0.01, gb__max_depth=3, gb__max_features=log2, gb__min_samples_leaf=1, gb__min_samples_split=2, gb__n_estimators=1000; total time=   6.9s\n",
      "[CV] END gb__learning_rate=0.01, gb__max_depth=3, gb__max_features=log2, gb__min_samples_leaf=1, gb__min_samples_split=2, gb__n_estimators=1000; total time=   6.9s\n",
      "[CV] END gb__learning_rate=0.01, gb__max_depth=3, gb__max_features=log2, gb__min_samples_leaf=1, gb__min_samples_split=8, gb__n_estimators=100; total time=   0.6s\n",
      "[CV] END gb__learning_rate=0.01, gb__max_depth=3, gb__max_features=log2, gb__min_samples_leaf=1, gb__min_samples_split=8, gb__n_estimators=100; total time=   0.6s\n",
      "[CV] END gb__learning_rate=0.01, gb__max_depth=3, gb__max_features=log2, gb__min_samples_leaf=1, gb__min_samples_split=8, gb__n_estimators=100; total time=   0.6s\n",
      "[CV] END gb__learning_rate=0.01, gb__max_depth=3, gb__max_features=log2, gb__min_samples_leaf=1, gb__min_samples_split=8, gb__n_estimators=100; total time=   0.6s\n",
      "[CV] END gb__learning_rate=0.01, gb__max_depth=3, gb__max_features=log2, gb__min_samples_leaf=1, gb__min_samples_split=8, gb__n_estimators=100; total time=   0.6s\n",
      "[CV] END gb__learning_rate=0.01, gb__max_depth=3, gb__max_features=log2, gb__min_samples_leaf=1, gb__min_samples_split=8, gb__n_estimators=1000; total time=   6.9s\n",
      "[CV] END gb__learning_rate=0.01, gb__max_depth=3, gb__max_features=log2, gb__min_samples_leaf=1, gb__min_samples_split=8, gb__n_estimators=1000; total time=   6.9s\n",
      "[CV] END gb__learning_rate=0.01, gb__max_depth=3, gb__max_features=log2, gb__min_samples_leaf=1, gb__min_samples_split=8, gb__n_estimators=1000; total time=   6.9s\n",
      "[CV] END gb__learning_rate=0.01, gb__max_depth=3, gb__max_features=log2, gb__min_samples_leaf=1, gb__min_samples_split=8, gb__n_estimators=1000; total time=   6.9s\n",
      "[CV] END gb__learning_rate=0.01, gb__max_depth=3, gb__max_features=log2, gb__min_samples_leaf=1, gb__min_samples_split=8, gb__n_estimators=1000; total time=   6.9s\n",
      "[CV] END gb__learning_rate=0.01, gb__max_depth=3, gb__max_features=log2, gb__min_samples_leaf=2, gb__min_samples_split=2, gb__n_estimators=100; total time=   0.6s\n",
      "[CV] END gb__learning_rate=0.01, gb__max_depth=3, gb__max_features=log2, gb__min_samples_leaf=2, gb__min_samples_split=2, gb__n_estimators=100; total time=   0.6s\n",
      "[CV] END gb__learning_rate=0.01, gb__max_depth=3, gb__max_features=log2, gb__min_samples_leaf=2, gb__min_samples_split=2, gb__n_estimators=100; total time=   0.6s\n",
      "[CV] END gb__learning_rate=0.01, gb__max_depth=3, gb__max_features=log2, gb__min_samples_leaf=2, gb__min_samples_split=2, gb__n_estimators=100; total time=   0.6s\n",
      "[CV] END gb__learning_rate=0.01, gb__max_depth=3, gb__max_features=log2, gb__min_samples_leaf=2, gb__min_samples_split=2, gb__n_estimators=100; total time=   0.6s\n",
      "[CV] END gb__learning_rate=0.01, gb__max_depth=3, gb__max_features=log2, gb__min_samples_leaf=2, gb__min_samples_split=2, gb__n_estimators=1000; total time=   6.9s\n",
      "[CV] END gb__learning_rate=0.01, gb__max_depth=3, gb__max_features=log2, gb__min_samples_leaf=2, gb__min_samples_split=2, gb__n_estimators=1000; total time=   6.9s\n",
      "[CV] END gb__learning_rate=0.01, gb__max_depth=3, gb__max_features=log2, gb__min_samples_leaf=2, gb__min_samples_split=2, gb__n_estimators=1000; total time=   6.8s\n",
      "[CV] END gb__learning_rate=0.01, gb__max_depth=3, gb__max_features=log2, gb__min_samples_leaf=2, gb__min_samples_split=2, gb__n_estimators=1000; total time=   7.5s\n",
      "[CV] END gb__learning_rate=0.01, gb__max_depth=3, gb__max_features=log2, gb__min_samples_leaf=2, gb__min_samples_split=2, gb__n_estimators=1000; total time=476.9min\n",
      "[CV] END gb__learning_rate=0.01, gb__max_depth=3, gb__max_features=log2, gb__min_samples_leaf=2, gb__min_samples_split=8, gb__n_estimators=100; total time=   1.8s\n",
      "[CV] END gb__learning_rate=0.01, gb__max_depth=3, gb__max_features=log2, gb__min_samples_leaf=2, gb__min_samples_split=8, gb__n_estimators=100; total time=   1.4s\n",
      "[CV] END gb__learning_rate=0.01, gb__max_depth=3, gb__max_features=log2, gb__min_samples_leaf=2, gb__min_samples_split=8, gb__n_estimators=100; total time=   2.1s\n",
      "[CV] END gb__learning_rate=0.01, gb__max_depth=3, gb__max_features=log2, gb__min_samples_leaf=2, gb__min_samples_split=8, gb__n_estimators=100; total time=   1.4s\n",
      "[CV] END gb__learning_rate=0.01, gb__max_depth=3, gb__max_features=log2, gb__min_samples_leaf=2, gb__min_samples_split=8, gb__n_estimators=100; total time=   1.2s\n",
      "[CV] END gb__learning_rate=0.01, gb__max_depth=3, gb__max_features=log2, gb__min_samples_leaf=2, gb__min_samples_split=8, gb__n_estimators=1000; total time=  13.9s\n",
      "[CV] END gb__learning_rate=0.01, gb__max_depth=3, gb__max_features=log2, gb__min_samples_leaf=2, gb__min_samples_split=8, gb__n_estimators=1000; total time=   9.2s\n",
      "[CV] END gb__learning_rate=0.01, gb__max_depth=3, gb__max_features=log2, gb__min_samples_leaf=2, gb__min_samples_split=8, gb__n_estimators=1000; total time=  10.7s\n",
      "[CV] END gb__learning_rate=0.01, gb__max_depth=3, gb__max_features=log2, gb__min_samples_leaf=2, gb__min_samples_split=8, gb__n_estimators=1000; total time=   8.8s\n",
      "[CV] END gb__learning_rate=0.01, gb__max_depth=3, gb__max_features=log2, gb__min_samples_leaf=2, gb__min_samples_split=8, gb__n_estimators=1000; total time=   7.3s\n",
      "[CV] END gb__learning_rate=0.01, gb__max_depth=7, gb__max_features=sqrt, gb__min_samples_leaf=1, gb__min_samples_split=2, gb__n_estimators=100; total time=   1.5s\n",
      "[CV] END gb__learning_rate=0.01, gb__max_depth=7, gb__max_features=sqrt, gb__min_samples_leaf=1, gb__min_samples_split=2, gb__n_estimators=100; total time=   1.9s\n",
      "[CV] END gb__learning_rate=0.01, gb__max_depth=7, gb__max_features=sqrt, gb__min_samples_leaf=1, gb__min_samples_split=2, gb__n_estimators=100; total time=   1.9s\n",
      "[CV] END gb__learning_rate=0.01, gb__max_depth=7, gb__max_features=sqrt, gb__min_samples_leaf=1, gb__min_samples_split=2, gb__n_estimators=100; total time=   1.7s\n",
      "[CV] END gb__learning_rate=0.01, gb__max_depth=7, gb__max_features=sqrt, gb__min_samples_leaf=1, gb__min_samples_split=2, gb__n_estimators=100; total time=   2.2s\n",
      "[CV] END gb__learning_rate=0.01, gb__max_depth=7, gb__max_features=sqrt, gb__min_samples_leaf=1, gb__min_samples_split=2, gb__n_estimators=1000; total time=  13.4s\n",
      "[CV] END gb__learning_rate=0.01, gb__max_depth=7, gb__max_features=sqrt, gb__min_samples_leaf=1, gb__min_samples_split=2, gb__n_estimators=1000; total time=  24.3s\n",
      "[CV] END gb__learning_rate=0.01, gb__max_depth=7, gb__max_features=sqrt, gb__min_samples_leaf=1, gb__min_samples_split=2, gb__n_estimators=1000; total time=  20.7s\n",
      "[CV] END gb__learning_rate=0.01, gb__max_depth=7, gb__max_features=sqrt, gb__min_samples_leaf=1, gb__min_samples_split=2, gb__n_estimators=1000; total time=  17.2s\n",
      "[CV] END gb__learning_rate=0.01, gb__max_depth=7, gb__max_features=sqrt, gb__min_samples_leaf=1, gb__min_samples_split=2, gb__n_estimators=1000; total time=  22.1s\n",
      "[CV] END gb__learning_rate=0.01, gb__max_depth=7, gb__max_features=sqrt, gb__min_samples_leaf=1, gb__min_samples_split=8, gb__n_estimators=100; total time=   3.6s\n",
      "[CV] END gb__learning_rate=0.01, gb__max_depth=7, gb__max_features=sqrt, gb__min_samples_leaf=1, gb__min_samples_split=8, gb__n_estimators=100; total time=   2.8s\n",
      "[CV] END gb__learning_rate=0.01, gb__max_depth=7, gb__max_features=sqrt, gb__min_samples_leaf=1, gb__min_samples_split=8, gb__n_estimators=100; total time=   3.1s\n",
      "[CV] END gb__learning_rate=0.01, gb__max_depth=7, gb__max_features=sqrt, gb__min_samples_leaf=1, gb__min_samples_split=8, gb__n_estimators=100; total time=   4.3s\n",
      "[CV] END gb__learning_rate=0.01, gb__max_depth=7, gb__max_features=sqrt, gb__min_samples_leaf=1, gb__min_samples_split=8, gb__n_estimators=100; total time=   4.4s\n"
     ]
    },
    {
     "name": "stdout",
     "output_type": "stream",
     "text": [
      "[CV] END gb__learning_rate=0.01, gb__max_depth=7, gb__max_features=sqrt, gb__min_samples_leaf=1, gb__min_samples_split=8, gb__n_estimators=1000; total time=  35.6s\n",
      "[CV] END gb__learning_rate=0.01, gb__max_depth=7, gb__max_features=sqrt, gb__min_samples_leaf=1, gb__min_samples_split=8, gb__n_estimators=1000; total time=  35.4s\n",
      "[CV] END gb__learning_rate=0.01, gb__max_depth=7, gb__max_features=sqrt, gb__min_samples_leaf=1, gb__min_samples_split=8, gb__n_estimators=1000; total time=  49.8s\n",
      "[CV] END gb__learning_rate=0.01, gb__max_depth=7, gb__max_features=sqrt, gb__min_samples_leaf=1, gb__min_samples_split=8, gb__n_estimators=1000; total time=  39.2s\n",
      "[CV] END gb__learning_rate=0.01, gb__max_depth=7, gb__max_features=sqrt, gb__min_samples_leaf=1, gb__min_samples_split=8, gb__n_estimators=1000; total time=  38.1s\n",
      "[CV] END gb__learning_rate=0.01, gb__max_depth=7, gb__max_features=sqrt, gb__min_samples_leaf=2, gb__min_samples_split=2, gb__n_estimators=100; total time=   3.2s\n",
      "[CV] END gb__learning_rate=0.01, gb__max_depth=7, gb__max_features=sqrt, gb__min_samples_leaf=2, gb__min_samples_split=2, gb__n_estimators=100; total time=   3.9s\n",
      "[CV] END gb__learning_rate=0.01, gb__max_depth=7, gb__max_features=sqrt, gb__min_samples_leaf=2, gb__min_samples_split=2, gb__n_estimators=100; total time=   3.8s\n",
      "[CV] END gb__learning_rate=0.01, gb__max_depth=7, gb__max_features=sqrt, gb__min_samples_leaf=2, gb__min_samples_split=2, gb__n_estimators=100; total time=   3.4s\n",
      "[CV] END gb__learning_rate=0.01, gb__max_depth=7, gb__max_features=sqrt, gb__min_samples_leaf=2, gb__min_samples_split=2, gb__n_estimators=100; total time=   3.4s\n",
      "[CV] END gb__learning_rate=0.01, gb__max_depth=7, gb__max_features=sqrt, gb__min_samples_leaf=2, gb__min_samples_split=2, gb__n_estimators=1000; total time= 1.1min\n",
      "[CV] END gb__learning_rate=0.01, gb__max_depth=7, gb__max_features=sqrt, gb__min_samples_leaf=2, gb__min_samples_split=2, gb__n_estimators=1000; total time=  45.1s\n",
      "[CV] END gb__learning_rate=0.01, gb__max_depth=7, gb__max_features=sqrt, gb__min_samples_leaf=2, gb__min_samples_split=2, gb__n_estimators=1000; total time=  49.2s\n",
      "[CV] END gb__learning_rate=0.01, gb__max_depth=7, gb__max_features=sqrt, gb__min_samples_leaf=2, gb__min_samples_split=2, gb__n_estimators=1000; total time=  54.1s\n",
      "[CV] END gb__learning_rate=0.01, gb__max_depth=7, gb__max_features=sqrt, gb__min_samples_leaf=2, gb__min_samples_split=2, gb__n_estimators=1000; total time=  39.5s\n",
      "[CV] END gb__learning_rate=0.01, gb__max_depth=7, gb__max_features=sqrt, gb__min_samples_leaf=2, gb__min_samples_split=8, gb__n_estimators=100; total time=   3.7s\n",
      "[CV] END gb__learning_rate=0.01, gb__max_depth=7, gb__max_features=sqrt, gb__min_samples_leaf=2, gb__min_samples_split=8, gb__n_estimators=100; total time=   3.4s\n",
      "[CV] END gb__learning_rate=0.01, gb__max_depth=7, gb__max_features=sqrt, gb__min_samples_leaf=2, gb__min_samples_split=8, gb__n_estimators=100; total time=   3.4s\n",
      "[CV] END gb__learning_rate=0.01, gb__max_depth=7, gb__max_features=sqrt, gb__min_samples_leaf=2, gb__min_samples_split=8, gb__n_estimators=100; total time=   3.5s\n",
      "[CV] END gb__learning_rate=0.01, gb__max_depth=7, gb__max_features=sqrt, gb__min_samples_leaf=2, gb__min_samples_split=8, gb__n_estimators=100; total time=   3.6s\n",
      "[CV] END gb__learning_rate=0.01, gb__max_depth=7, gb__max_features=sqrt, gb__min_samples_leaf=2, gb__min_samples_split=8, gb__n_estimators=1000; total time=  47.1s\n",
      "[CV] END gb__learning_rate=0.01, gb__max_depth=7, gb__max_features=sqrt, gb__min_samples_leaf=2, gb__min_samples_split=8, gb__n_estimators=1000; total time=  37.3s\n",
      "[CV] END gb__learning_rate=0.01, gb__max_depth=7, gb__max_features=sqrt, gb__min_samples_leaf=2, gb__min_samples_split=8, gb__n_estimators=1000; total time=  37.0s\n",
      "[CV] END gb__learning_rate=0.01, gb__max_depth=7, gb__max_features=sqrt, gb__min_samples_leaf=2, gb__min_samples_split=8, gb__n_estimators=1000; total time=  43.8s\n",
      "[CV] END gb__learning_rate=0.01, gb__max_depth=7, gb__max_features=sqrt, gb__min_samples_leaf=2, gb__min_samples_split=8, gb__n_estimators=1000; total time=  41.9s\n",
      "[CV] END gb__learning_rate=0.01, gb__max_depth=7, gb__max_features=log2, gb__min_samples_leaf=1, gb__min_samples_split=2, gb__n_estimators=100; total time=   1.2s\n",
      "[CV] END gb__learning_rate=0.01, gb__max_depth=7, gb__max_features=log2, gb__min_samples_leaf=1, gb__min_samples_split=2, gb__n_estimators=100; total time=   1.5s\n",
      "[CV] END gb__learning_rate=0.01, gb__max_depth=7, gb__max_features=log2, gb__min_samples_leaf=1, gb__min_samples_split=2, gb__n_estimators=100; total time=   1.5s\n",
      "[CV] END gb__learning_rate=0.01, gb__max_depth=7, gb__max_features=log2, gb__min_samples_leaf=1, gb__min_samples_split=2, gb__n_estimators=100; total time=   1.3s\n",
      "[CV] END gb__learning_rate=0.01, gb__max_depth=7, gb__max_features=log2, gb__min_samples_leaf=1, gb__min_samples_split=2, gb__n_estimators=100; total time=   1.5s\n",
      "[CV] END gb__learning_rate=0.01, gb__max_depth=7, gb__max_features=log2, gb__min_samples_leaf=1, gb__min_samples_split=2, gb__n_estimators=1000; total time=  10.3s\n",
      "[CV] END gb__learning_rate=0.01, gb__max_depth=7, gb__max_features=log2, gb__min_samples_leaf=1, gb__min_samples_split=2, gb__n_estimators=1000; total time=  15.9s\n",
      "[CV] END gb__learning_rate=0.01, gb__max_depth=7, gb__max_features=log2, gb__min_samples_leaf=1, gb__min_samples_split=2, gb__n_estimators=1000; total time=  16.4s\n",
      "[CV] END gb__learning_rate=0.01, gb__max_depth=7, gb__max_features=log2, gb__min_samples_leaf=1, gb__min_samples_split=2, gb__n_estimators=1000; total time=  12.2s\n",
      "[CV] END gb__learning_rate=0.01, gb__max_depth=7, gb__max_features=log2, gb__min_samples_leaf=1, gb__min_samples_split=2, gb__n_estimators=1000; total time=  13.6s\n",
      "[CV] END gb__learning_rate=0.01, gb__max_depth=7, gb__max_features=log2, gb__min_samples_leaf=1, gb__min_samples_split=8, gb__n_estimators=100; total time=   2.7s\n",
      "[CV] END gb__learning_rate=0.01, gb__max_depth=7, gb__max_features=log2, gb__min_samples_leaf=1, gb__min_samples_split=8, gb__n_estimators=100; total time=   3.4s\n",
      "[CV] END gb__learning_rate=0.01, gb__max_depth=7, gb__max_features=log2, gb__min_samples_leaf=1, gb__min_samples_split=8, gb__n_estimators=100; total time=   3.4s\n",
      "[CV] END gb__learning_rate=0.01, gb__max_depth=7, gb__max_features=log2, gb__min_samples_leaf=1, gb__min_samples_split=8, gb__n_estimators=100; total time=   3.0s\n",
      "[CV] END gb__learning_rate=0.01, gb__max_depth=7, gb__max_features=log2, gb__min_samples_leaf=1, gb__min_samples_split=8, gb__n_estimators=100; total time=   3.0s\n",
      "[CV] END gb__learning_rate=0.01, gb__max_depth=7, gb__max_features=log2, gb__min_samples_leaf=1, gb__min_samples_split=8, gb__n_estimators=1000; total time=  28.8s\n",
      "[CV] END gb__learning_rate=0.01, gb__max_depth=7, gb__max_features=log2, gb__min_samples_leaf=1, gb__min_samples_split=8, gb__n_estimators=1000; total time=  30.6s\n",
      "[CV] END gb__learning_rate=0.01, gb__max_depth=7, gb__max_features=log2, gb__min_samples_leaf=1, gb__min_samples_split=8, gb__n_estimators=1000; total time=  23.8s\n",
      "[CV] END gb__learning_rate=0.01, gb__max_depth=7, gb__max_features=log2, gb__min_samples_leaf=1, gb__min_samples_split=8, gb__n_estimators=1000; total time=  25.9s\n",
      "[CV] END gb__learning_rate=0.01, gb__max_depth=7, gb__max_features=log2, gb__min_samples_leaf=1, gb__min_samples_split=8, gb__n_estimators=1000; total time=  33.8s\n",
      "[CV] END gb__learning_rate=0.01, gb__max_depth=7, gb__max_features=log2, gb__min_samples_leaf=2, gb__min_samples_split=2, gb__n_estimators=100; total time=   3.3s\n",
      "[CV] END gb__learning_rate=0.01, gb__max_depth=7, gb__max_features=log2, gb__min_samples_leaf=2, gb__min_samples_split=2, gb__n_estimators=100; total time=   3.4s\n",
      "[CV] END gb__learning_rate=0.01, gb__max_depth=7, gb__max_features=log2, gb__min_samples_leaf=2, gb__min_samples_split=2, gb__n_estimators=100; total time=   3.1s\n",
      "[CV] END gb__learning_rate=0.01, gb__max_depth=7, gb__max_features=log2, gb__min_samples_leaf=2, gb__min_samples_split=2, gb__n_estimators=100; total time=   3.0s\n",
      "[CV] END gb__learning_rate=0.01, gb__max_depth=7, gb__max_features=log2, gb__min_samples_leaf=2, gb__min_samples_split=2, gb__n_estimators=100; total time=   3.3s\n",
      "[CV] END gb__learning_rate=0.01, gb__max_depth=7, gb__max_features=log2, gb__min_samples_leaf=2, gb__min_samples_split=2, gb__n_estimators=1000; total time=  27.8s\n"
     ]
    },
    {
     "name": "stdout",
     "output_type": "stream",
     "text": [
      "[CV] END gb__learning_rate=0.01, gb__max_depth=7, gb__max_features=log2, gb__min_samples_leaf=2, gb__min_samples_split=2, gb__n_estimators=1000; total time=  25.5s\n",
      "[CV] END gb__learning_rate=0.01, gb__max_depth=7, gb__max_features=log2, gb__min_samples_leaf=2, gb__min_samples_split=2, gb__n_estimators=1000; total time=  29.9s\n",
      "[CV] END gb__learning_rate=0.01, gb__max_depth=7, gb__max_features=log2, gb__min_samples_leaf=2, gb__min_samples_split=2, gb__n_estimators=1000; total time=  32.5s\n",
      "[CV] END gb__learning_rate=0.01, gb__max_depth=7, gb__max_features=log2, gb__min_samples_leaf=2, gb__min_samples_split=2, gb__n_estimators=1000; total time=  27.9s\n",
      "[CV] END gb__learning_rate=0.01, gb__max_depth=7, gb__max_features=log2, gb__min_samples_leaf=2, gb__min_samples_split=8, gb__n_estimators=100; total time=   2.3s\n",
      "[CV] END gb__learning_rate=0.01, gb__max_depth=7, gb__max_features=log2, gb__min_samples_leaf=2, gb__min_samples_split=8, gb__n_estimators=100; total time=   2.4s\n",
      "[CV] END gb__learning_rate=0.01, gb__max_depth=7, gb__max_features=log2, gb__min_samples_leaf=2, gb__min_samples_split=8, gb__n_estimators=100; total time=   2.3s\n",
      "[CV] END gb__learning_rate=0.01, gb__max_depth=7, gb__max_features=log2, gb__min_samples_leaf=2, gb__min_samples_split=8, gb__n_estimators=100; total time=   2.3s\n",
      "[CV] END gb__learning_rate=0.01, gb__max_depth=7, gb__max_features=log2, gb__min_samples_leaf=2, gb__min_samples_split=8, gb__n_estimators=100; total time=   2.4s\n",
      "[CV] END gb__learning_rate=0.01, gb__max_depth=7, gb__max_features=log2, gb__min_samples_leaf=2, gb__min_samples_split=8, gb__n_estimators=1000; total time=  24.3s\n",
      "[CV] END gb__learning_rate=0.01, gb__max_depth=7, gb__max_features=log2, gb__min_samples_leaf=2, gb__min_samples_split=8, gb__n_estimators=1000; total time=  34.8s\n",
      "[CV] END gb__learning_rate=0.01, gb__max_depth=7, gb__max_features=log2, gb__min_samples_leaf=2, gb__min_samples_split=8, gb__n_estimators=1000; total time=  31.6s\n",
      "[CV] END gb__learning_rate=0.01, gb__max_depth=7, gb__max_features=log2, gb__min_samples_leaf=2, gb__min_samples_split=8, gb__n_estimators=1000; total time=  35.3s\n",
      "[CV] END gb__learning_rate=0.01, gb__max_depth=7, gb__max_features=log2, gb__min_samples_leaf=2, gb__min_samples_split=8, gb__n_estimators=1000; total time=  36.8s\n",
      "Best Hyperparameters: {'gb__learning_rate': 0.1, 'gb__max_depth': 3, 'gb__max_features': 'log2', 'gb__min_samples_leaf': 2, 'gb__min_samples_split': 2, 'gb__n_estimators': 100}\n",
      "Best training accuracy: 0.9975543388086943\n",
      "Test set accuracy score for best params: 1.0\n",
      "-------------------------------------------------------\n",
      "\n",
      "              precision    recall  f1-score   support\n",
      "\n",
      "           0       1.00      1.00      1.00       289\n",
      "           1       1.00      1.00      1.00       238\n",
      "\n",
      "    accuracy                           1.00       527\n",
      "   macro avg       1.00      1.00      1.00       527\n",
      "weighted avg       1.00      1.00      1.00       527\n",
      "\n",
      "Sensitivity(TPR): 1.0\n",
      "Specificity(TNR): 1.0\n",
      "Precision: 1.0\n",
      "F1 Score(Train): 1.0\n",
      "F1 Score(Test): 1.0\n",
      "-------------------------------------------------------\n",
      "\n"
     ]
    },
    {
     "data": {
      "image/png": "[encoded data removed]",
      "text/plain": [
       "<Figure size 640x480 with 1 Axes>"
      ]
     },
     "metadata": {},
     "output_type": "display_data"
    }
   ],
   "source": [
    "# Assemble our predictor variables (X) and our target (y)\n",
    "X = coordinates_df.drop('class', axis = 1)\n",
    "y = coordinates_df['class']\n",
    "\n",
    "gb = Pipeline([\n",
    "    ('SS', StandardScaler()),\n",
    "    ('gb', GradientBoostingClassifier()),\n",
    "])\n",
    "\n",
    "param_grid = {\n",
    "    'gb__learning_rate': [0.1, 0.01], #[0.1, 0.01, 0.001],  # Learning rate (controls the contribution of each tree)\n",
    "    'gb__n_estimators': [100, 1000], #[100, 500, 1000],  # Number of boosting stages (number of trees)\n",
    "    'gb__max_depth': [3, 7], #[3, 5, 7],  # Maximum depth of the individual regression estimators\n",
    "    'gb__min_samples_split': [2, 8], #[2, 4, 8],  # Minimum number of samples required to split an internal node\n",
    "    'gb__min_samples_leaf': [1, 2], #[1, 2, 4],  # Minimum number of samples required to be at a leaf node\n",
    "    'gb__max_features': ['sqrt', 'log2'],  # Number of features to consider when looking for the best split\n",
    "}\n",
    "\n",
    "get_gridsearch_params(X, y, gb, param_grid, folds=5, view_cm = True)"
   ]
  },
  {
   "cell_type": "markdown",
   "id": "0358eef3",
   "metadata": {},
   "source": [
    "### Model 4 - AdaBoost Model"
   ]
  },
  {
   "cell_type": "code",
   "execution_count": 45,
   "id": "b5dd4a73",
   "metadata": {},
   "outputs": [
    {
     "data": {
      "text/html": [
       "<style>#sk-container-id-7 {color: black;}#sk-container-id-7 pre{padding: 0;}#sk-container-id-7 div.sk-toggleable {background-color: white;}#sk-container-id-7 label.sk-toggleable__label {cursor: pointer;display: block;width: 100%;margin-bottom: 0;padding: 0.3em;box-sizing: border-box;text-align: center;}#sk-container-id-7 label.sk-toggleable__label-arrow:before {content: \"▸\";float: left;margin-right: 0.25em;color: #696969;}#sk-container-id-7 label.sk-toggleable__label-arrow:hover:before {color: black;}#sk-container-id-7 div.sk-estimator:hover label.sk-toggleable__label-arrow:before {color: black;}#sk-container-id-7 div.sk-toggleable__content {max-height: 0;max-width: 0;overflow: hidden;text-align: left;background-color: #f0f8ff;}#sk-container-id-7 div.sk-toggleable__content pre {margin: 0.2em;color: black;border-radius: 0.25em;background-color: #f0f8ff;}#sk-container-id-7 input.sk-toggleable__control:checked~div.sk-toggleable__content {max-height: 200px;max-width: 100%;overflow: auto;}#sk-container-id-7 input.sk-toggleable__control:checked~label.sk-toggleable__label-arrow:before {content: \"▾\";}#sk-container-id-7 div.sk-estimator input.sk-toggleable__control:checked~label.sk-toggleable__label {background-color: #d4ebff;}#sk-container-id-7 div.sk-label input.sk-toggleable__control:checked~label.sk-toggleable__label {background-color: #d4ebff;}#sk-container-id-7 input.sk-hidden--visually {border: 0;clip: rect(1px 1px 1px 1px);clip: rect(1px, 1px, 1px, 1px);height: 1px;margin: -1px;overflow: hidden;padding: 0;position: absolute;width: 1px;}#sk-container-id-7 div.sk-estimator {font-family: monospace;background-color: #f0f8ff;border: 1px dotted black;border-radius: 0.25em;box-sizing: border-box;margin-bottom: 0.5em;}#sk-container-id-7 div.sk-estimator:hover {background-color: #d4ebff;}#sk-container-id-7 div.sk-parallel-item::after {content: \"\";width: 100%;border-bottom: 1px solid gray;flex-grow: 1;}#sk-container-id-7 div.sk-label:hover label.sk-toggleable__label {background-color: #d4ebff;}#sk-container-id-7 div.sk-serial::before {content: \"\";position: absolute;border-left: 1px solid gray;box-sizing: border-box;top: 0;bottom: 0;left: 50%;z-index: 0;}#sk-container-id-7 div.sk-serial {display: flex;flex-direction: column;align-items: center;background-color: white;padding-right: 0.2em;padding-left: 0.2em;position: relative;}#sk-container-id-7 div.sk-item {position: relative;z-index: 1;}#sk-container-id-7 div.sk-parallel {display: flex;align-items: stretch;justify-content: center;background-color: white;position: relative;}#sk-container-id-7 div.sk-item::before, #sk-container-id-7 div.sk-parallel-item::before {content: \"\";position: absolute;border-left: 1px solid gray;box-sizing: border-box;top: 0;bottom: 0;left: 50%;z-index: -1;}#sk-container-id-7 div.sk-parallel-item {display: flex;flex-direction: column;z-index: 1;position: relative;background-color: white;}#sk-container-id-7 div.sk-parallel-item:first-child::after {align-self: flex-end;width: 50%;}#sk-container-id-7 div.sk-parallel-item:last-child::after {align-self: flex-start;width: 50%;}#sk-container-id-7 div.sk-parallel-item:only-child::after {width: 0;}#sk-container-id-7 div.sk-dashed-wrapped {border: 1px dashed gray;margin: 0 0.4em 0.5em 0.4em;box-sizing: border-box;padding-bottom: 0.4em;background-color: white;}#sk-container-id-7 div.sk-label label {font-family: monospace;font-weight: bold;display: inline-block;line-height: 1.2em;}#sk-container-id-7 div.sk-label-container {text-align: center;}#sk-container-id-7 div.sk-container {/* jupyter's `normalize.less` sets `[hidden] { display: none; }` but bootstrap.min.css set `[hidden] { display: none !important; }` so we also need the `!important` here to be able to override the default hidden behavior on the sphinx rendered scikit-learn.org. See: https://github.com/scikit-learn/scikit-learn/issues/21755 */display: inline-block !important;position: relative;}#sk-container-id-7 div.sk-text-repr-fallback {display: none;}</style><div id=\"sk-container-id-7\" class=\"sk-top-container\"><div class=\"sk-text-repr-fallback\"><pre>Pipeline(steps=[(&#x27;SS&#x27;, StandardScaler()),\n",
       "                (&#x27;ab&#x27;,\n",
       "                 AdaBoostClassifier(learning_rate=0.1, n_estimators=100))])</pre><b>In a Jupyter environment, please rerun this cell to show the HTML representation or trust the notebook. <br />On GitHub, the HTML representation is unable to render, please try loading this page with nbviewer.org.</b></div><div class=\"sk-container\" hidden><div class=\"sk-item sk-dashed-wrapped\"><div class=\"sk-label-container\"><div class=\"sk-label sk-toggleable\"><input class=\"sk-toggleable__control sk-hidden--visually\" id=\"sk-estimator-id-15\" type=\"checkbox\" ><label for=\"sk-estimator-id-15\" class=\"sk-toggleable__label sk-toggleable__label-arrow\">Pipeline</label><div class=\"sk-toggleable__content\"><pre>Pipeline(steps=[(&#x27;SS&#x27;, StandardScaler()),\n",
       "                (&#x27;ab&#x27;,\n",
       "                 AdaBoostClassifier(learning_rate=0.1, n_estimators=100))])</pre></div></div></div><div class=\"sk-serial\"><div class=\"sk-item\"><div class=\"sk-estimator sk-toggleable\"><input class=\"sk-toggleable__control sk-hidden--visually\" id=\"sk-estimator-id-16\" type=\"checkbox\" ><label for=\"sk-estimator-id-16\" class=\"sk-toggleable__label sk-toggleable__label-arrow\">StandardScaler</label><div class=\"sk-toggleable__content\"><pre>StandardScaler()</pre></div></div></div><div class=\"sk-item\"><div class=\"sk-estimator sk-toggleable\"><input class=\"sk-toggleable__control sk-hidden--visually\" id=\"sk-estimator-id-17\" type=\"checkbox\" ><label for=\"sk-estimator-id-17\" class=\"sk-toggleable__label sk-toggleable__label-arrow\">AdaBoostClassifier</label><div class=\"sk-toggleable__content\"><pre>AdaBoostClassifier(learning_rate=0.1, n_estimators=100)</pre></div></div></div></div></div></div></div>"
      ],
      "text/plain": [
       "Pipeline(steps=[('SS', StandardScaler()),\n",
       "                ('ab',\n",
       "                 AdaBoostClassifier(learning_rate=0.1, n_estimators=100))])"
      ]
     },
     "metadata": {},
     "output_type": "display_data"
    },
    {
     "name": "stdout",
     "output_type": "stream",
     "text": [
      "              precision    recall  f1-score   support\n",
      "\n",
      "           0       1.00      1.00      1.00       254\n",
      "           1       1.00      1.00      1.00       273\n",
      "\n",
      "    accuracy                           1.00       527\n",
      "   macro avg       1.00      1.00      1.00       527\n",
      "weighted avg       1.00      1.00      1.00       527\n",
      "\n",
      "Accuracy (train): 1.0\n",
      "Accuracy (test): 0.9981024667931688\n",
      "Cross-val-score(cv=5): 0.9991836734693876\n",
      "Sensitivity(TPR): 0.9963369963369964\n",
      "Specificity(TNR): 1.0\n",
      "Precision: 1.0\n",
      "ROC_AUC: 0.9981684981684982\n",
      "-------------------------------------------------------\n",
      "\n"
     ]
    },
    {
     "data": {
      "image/png": "[encoded data removed]",
      "text/plain": [
       "<Figure size 640x480 with 1 Axes>"
      ]
     },
     "metadata": {},
     "output_type": "display_data"
    }
   ],
   "source": [
    "# Assemble our predictor variables (X) and our target (y)\n",
    "X = coordinates_df.drop('class', axis = 1)\n",
    "y = coordinates_df['class']\n",
    "\n",
    "ab = Pipeline([\n",
    "    ('SS', StandardScaler()),\n",
    "    ('ab', AdaBoostClassifier(estimator=None, learning_rate=0.1, n_estimators=100)),\n",
    "])\n",
    "\n",
    "get_model_score(X, y, ab, view_cm = True)"
   ]
  },
  {
   "cell_type": "code",
   "execution_count": null,
   "id": "e5144603",
   "metadata": {
    "scrolled": false
   },
   "outputs": [
    {
     "name": "stdout",
     "output_type": "stream",
     "text": [
      "Fitting 5 folds for each of 18 candidates, totalling 90 fits\n",
      "[CV] END ab__estimator=None, ab__learning_rate=0.1, ab__n_estimators=100; total time=  10.3s\n",
      "[CV] END ab__estimator=None, ab__learning_rate=0.1, ab__n_estimators=100; total time=   9.7s\n",
      "[CV] END ab__estimator=None, ab__learning_rate=0.1, ab__n_estimators=100; total time=  10.4s\n",
      "[CV] END ab__estimator=None, ab__learning_rate=0.1, ab__n_estimators=100; total time=   9.9s\n",
      "[CV] END ab__estimator=None, ab__learning_rate=0.1, ab__n_estimators=100; total time=  10.1s\n",
      "[CV] END ab__estimator=None, ab__learning_rate=0.1, ab__n_estimators=500; total time=  48.3s\n",
      "[CV] END ab__estimator=None, ab__learning_rate=0.1, ab__n_estimators=500; total time=  46.3s\n",
      "[CV] END ab__estimator=None, ab__learning_rate=0.1, ab__n_estimators=500; total time=  49.0s\n",
      "[CV] END ab__estimator=None, ab__learning_rate=0.1, ab__n_estimators=500; total time=  48.2s\n",
      "[CV] END ab__estimator=None, ab__learning_rate=0.1, ab__n_estimators=500; total time=  46.4s\n",
      "[CV] END ab__estimator=None, ab__learning_rate=0.1, ab__n_estimators=1000; total time= 1.6min\n",
      "[CV] END ab__estimator=None, ab__learning_rate=0.1, ab__n_estimators=1000; total time= 1.6min\n"
     ]
    }
   ],
   "source": [
    "# Assemble our predictor variables (X) and our target (y)\n",
    "X = coordinates_df.drop('class', axis = 1)\n",
    "y = coordinates_df['class']\n",
    "\n",
    "ab = Pipeline([\n",
    "    ('SS', StandardScaler()),\n",
    "    ('ab', AdaBoostClassifier(estimator=None, learning_rate=0.1, n_estimators=100)),\n",
    "])\n",
    "\n",
    "param_grid = {\n",
    "    'ab__n_estimators': [100, 500, 1000],   # Number of estimators (trees) in the ensemble\n",
    "    'ab__learning_rate': [0.1, 0.5, 1.0],   # Learning rate for each individual estimator\n",
    "    'ab__estimator': [None, DecisionTreeClassifier(max_depth=5)],  # Base estimator used for boosting\n",
    "}\n",
    "\n",
    "get_gridsearch_params(X, y, ab, param_grid, folds=5, view_cm = True)"
   ]
  },
  {
   "cell_type": "markdown",
   "id": "7786da26",
   "metadata": {},
   "source": [
    "## Model Testing "
   ]
  },
  {
   "cell_type": "code",
   "execution_count": null,
   "id": "74be96c4",
   "metadata": {},
   "outputs": [],
   "source": [
    "y_pred = bm_1.predict(X_test)\n",
    "y_pred"
   ]
  },
  {
   "cell_type": "code",
   "execution_count": null,
   "id": "c1b97527",
   "metadata": {},
   "outputs": [],
   "source": [
    "# Inverse transform the predictions to get the original class labels\n",
    "label_encoder.inverse_transform(y_pred)"
   ]
  },
  {
   "cell_type": "markdown",
   "id": "eb620bef",
   "metadata": {},
   "source": [
    "**Class 0 is 'Down'; Class '1' is Rest.**"
   ]
  },
  {
   "cell_type": "markdown",
   "id": "ac0f7757",
   "metadata": {},
   "source": [
    "## Model Exporting"
   ]
  },
  {
   "cell_type": "code",
   "execution_count": 20,
   "id": "b54d09db",
   "metadata": {},
   "outputs": [],
   "source": [
    "with open ('data/squat_2.pkl', 'wb') as f:\n",
    "    pickle.dump(bm_1, f)"
   ]
  },
  {
   "cell_type": "code",
   "execution_count": 21,
   "id": "200c0c66",
   "metadata": {},
   "outputs": [],
   "source": [
    "with open('data/label_encoder.pkl', 'wb') as g:\n",
    "    pickle.dump(label_encoder, g)"
   ]
  },
  {
   "cell_type": "markdown",
   "id": "c1452055",
   "metadata": {},
   "source": [
    "## Model Importing and Testing"
   ]
  },
  {
   "cell_type": "code",
   "execution_count": 30,
   "id": "4701787d",
   "metadata": {},
   "outputs": [
    {
     "data": {
      "text/plain": [
       "array([1, 1, 0, 1, 0, 0, 0, 1, 1, 0, 1, 0, 1, 1, 0, 0, 1, 1, 0, 1, 1, 0,\n",
       "       0, 0, 0, 0, 1, 0, 1, 1, 1, 0, 1, 1, 1, 0, 1, 1, 0, 1, 1, 0, 0, 1,\n",
       "       1, 1, 1, 0, 0, 0, 0, 1, 0, 1, 1, 1, 1, 0, 1, 1, 1, 0, 1, 0, 0, 1,\n",
       "       0, 0, 1, 1, 0, 0, 0, 0, 1, 1, 0, 0, 1, 0, 1, 1, 1, 1, 1, 0, 0, 1,\n",
       "       0, 1, 1, 1, 0, 0, 1, 0, 1, 0, 1, 1, 0, 1, 0, 1, 0, 1, 1, 1, 0, 1,\n",
       "       0, 1, 1, 0, 1, 1, 1, 1, 0, 1, 0, 0, 0, 0, 0, 0, 0, 1, 0, 1, 1, 0,\n",
       "       0, 0, 0, 0, 0, 0, 0, 0, 1, 1, 1, 1, 0, 1, 1, 0, 0, 1, 0, 1, 0, 0,\n",
       "       0, 1, 1, 0, 1, 1, 1, 0, 0, 0, 1, 1, 1, 1, 1, 0, 0, 0, 1, 0, 1, 1,\n",
       "       1, 0, 0, 0, 1, 1, 1, 0, 0, 1, 0, 1, 1, 1, 1, 1, 1, 1, 0, 1, 1, 1,\n",
       "       1, 0, 1, 0, 1, 1, 1, 1, 0, 1, 0, 1, 0, 0, 0, 0, 0, 1, 1, 0, 1, 1,\n",
       "       1, 1, 1, 0, 0, 1, 0, 0, 0, 1, 0, 1, 0, 1, 1, 1, 0, 1, 0, 0, 0, 1,\n",
       "       1, 1, 1, 0, 1, 0, 1, 1, 0, 1, 0, 1, 0, 0, 0, 0, 0, 1, 1, 0, 0, 1,\n",
       "       1, 1, 1, 0, 0, 0, 1, 0, 1, 0, 1, 0, 0, 1, 1, 0, 0, 1, 0, 1, 0, 0,\n",
       "       1, 1, 0, 1, 0, 0, 0, 0, 1, 1, 0, 0, 0, 1, 0, 1, 1, 0, 1, 1, 0, 0,\n",
       "       1, 1, 0, 1, 0, 1, 0, 1, 0, 1, 0, 0, 1, 0, 0, 0, 1, 0, 0, 0, 0, 0,\n",
       "       1, 0, 0, 0, 1, 1, 1, 0, 1, 0, 0, 1, 0, 1, 0, 1, 1, 1, 1, 1, 1, 1,\n",
       "       1, 1, 1, 1, 0, 1, 0, 1, 0, 0, 0, 1, 1, 1, 0, 1, 0, 1, 1, 1, 1, 1,\n",
       "       1, 1, 1, 0, 1, 1, 0, 1, 0, 0, 1, 1, 1, 0, 0, 0, 0, 0, 0, 1, 0, 1,\n",
       "       0, 0, 1, 0, 0, 0, 1, 1, 0, 0, 1, 1, 1, 0, 0, 1, 0, 0, 0, 1, 1, 1,\n",
       "       1, 0, 0, 1, 1, 0, 0, 0, 0, 1, 0, 1, 0, 0, 1, 1, 0, 1, 1, 1, 1, 1,\n",
       "       0, 1, 1, 1, 0, 1, 0, 1, 0, 1, 0, 0, 1, 0, 0, 1, 1, 0, 1, 1, 0, 1,\n",
       "       0, 0, 1, 1, 0, 1, 0, 1, 0, 1, 1, 1, 1, 1, 0, 1, 0, 1, 1, 0, 1, 1,\n",
       "       1, 0, 0, 1, 1, 1, 0, 0, 0, 0, 1, 0, 0, 0, 0, 0, 0, 1, 0, 0, 0, 1,\n",
       "       0, 1, 1, 0, 0, 1, 0, 0, 0, 1, 0, 1, 1, 1, 1, 0, 1, 1, 1, 0, 0])"
      ]
     },
     "execution_count": 30,
     "metadata": {},
     "output_type": "execute_result"
    }
   ],
   "source": [
    "# Load the pipeline from the file\n",
    "with open('data/squat_2.pkl', 'rb') as f:\n",
    "    pipeline = pickle.load(f)\n",
    "\n",
    "y_pred = pipeline.predict(X_test)\n",
    "y_pred"
   ]
  },
  {
   "cell_type": "code",
   "execution_count": 31,
   "id": "1040709f",
   "metadata": {},
   "outputs": [
    {
     "name": "stdout",
     "output_type": "stream",
     "text": [
      "['Down' 'Rest']\n"
     ]
    }
   ],
   "source": [
    "# Load the label encoder from the file\n",
    "with open('data/label_encoder.pkl', 'rb') as g:\n",
    "    label_encoder = pickle.load(g)\n",
    "\n",
    "# Assuming you have predictions as 0 and 1, you can transform them back to 'Down' and 'Rest'\n",
    "predictions = [0, 1]  # Replace this with your actual predictions\n",
    "\n",
    "# Inverse transform the predictions to get the original class labels\n",
    "class_labels = label_encoder.inverse_transform(predictions)\n",
    "\n",
    "print(class_labels)"
   ]
  }
 ],
 "metadata": {
  "kernelspec": {
   "display_name": "Python 3 (ipykernel)",
   "language": "python",
   "name": "python3"
  },
  "language_info": {
   "codemirror_mode": {
    "name": "ipython",
    "version": 3
   },
   "file_extension": ".py",
   "mimetype": "text/x-python",
   "name": "python",
   "nbconvert_exporter": "python",
   "pygments_lexer": "ipython3",
   "version": "3.11.3"
  }
 },
 "nbformat": 4,
 "nbformat_minor": 5
}
